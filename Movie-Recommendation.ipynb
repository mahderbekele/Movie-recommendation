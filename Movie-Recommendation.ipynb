{
  "nbformat": 4,
  "nbformat_minor": 0,
  "metadata": {
    "colab": {
      "provenance": []
    },
    "kernelspec": {
      "name": "python3",
      "display_name": "Python 3"
    },
    "language_info": {
      "name": "python"
    }
  },
  "cells": [
    {
      "cell_type": "code",
      "source": [
        "!pip install --upgrade pip setuptools wheel\n",
        "!pip install \"pydantic<2.0\" typing-extensions==4.7.1\n",
        "!pip install chromadb sentence-transformers spacy pandas scikit-learn\n",
        "!python -m spacy download en_core_web_sm\n"
      ],
      "metadata": {
        "colab": {
          "base_uri": "https://localhost:8080/"
        },
        "id": "fJn06CPkMD5L",
        "outputId": "e89b5023-4177-456e-87bc-d98a9565eb60"
      },
      "execution_count": null,
      "outputs": [
        {
          "output_type": "stream",
          "name": "stdout",
          "text": [
            "Requirement already satisfied: pip in /usr/local/lib/python3.12/dist-packages (25.2)\n",
            "Requirement already satisfied: setuptools in /usr/local/lib/python3.12/dist-packages (80.9.0)\n",
            "Requirement already satisfied: wheel in /usr/local/lib/python3.12/dist-packages (0.45.1)\n",
            "Collecting pydantic<2.0\n",
            "  Using cached pydantic-1.10.22-cp312-cp312-manylinux_2_17_x86_64.manylinux2014_x86_64.whl.metadata (154 kB)\n",
            "Collecting typing-extensions==4.7.1\n",
            "  Using cached typing_extensions-4.7.1-py3-none-any.whl.metadata (3.1 kB)\n",
            "Using cached typing_extensions-4.7.1-py3-none-any.whl (33 kB)\n",
            "Using cached pydantic-1.10.22-cp312-cp312-manylinux_2_17_x86_64.manylinux2014_x86_64.whl (3.0 MB)\n",
            "Installing collected packages: typing-extensions, pydantic\n",
            "\u001b[2K  Attempting uninstall: typing-extensions\n",
            "\u001b[2K    Found existing installation: typing_extensions 4.15.0\n",
            "\u001b[2K    Uninstalling typing_extensions-4.15.0:\n",
            "\u001b[2K      Successfully uninstalled typing_extensions-4.15.0\n",
            "\u001b[2K  Attempting uninstall: pydantic\n",
            "\u001b[2K    Found existing installation: pydantic 2.11.7\n",
            "\u001b[2K    Uninstalling pydantic-2.11.7:\n",
            "\u001b[2K      Successfully uninstalled pydantic-2.11.7\n",
            "\u001b[2K   \u001b[90m━━━━━━━━━━━━━━━━━━━━━━━━━━━━━━━━━━━━━━━━\u001b[0m \u001b[32m2/2\u001b[0m [pydantic]\n",
            "\u001b[1A\u001b[2K\u001b[31mERROR: pip's dependency resolver does not currently take into account all the packages that are installed. This behaviour is the source of the following dependency conflicts.\n",
            "mcp 1.13.1 requires pydantic<3.0.0,>=2.11.0, but you have pydantic 1.10.22 which is incompatible.\n",
            "gradio 5.43.1 requires pydantic<2.12,>=2.0, but you have pydantic 1.10.22 which is incompatible.\n",
            "typing-inspection 0.4.1 requires typing-extensions>=4.12.0, but you have typing-extensions 4.7.1 which is incompatible.\n",
            "albumentations 2.0.8 requires pydantic>=2.9.2, but you have pydantic 1.10.22 which is incompatible.\n",
            "torch 2.8.0+cu126 requires typing-extensions>=4.10.0, but you have typing-extensions 4.7.1 which is incompatible.\n",
            "openai 1.101.0 requires typing-extensions<5,>=4.11, but you have typing-extensions 4.7.1 which is incompatible.\n",
            "altair 5.5.0 requires typing-extensions>=4.10.0; python_version < \"3.14\", but you have typing-extensions 4.7.1 which is incompatible.\n",
            "langchain-core 0.3.74 requires pydantic>=2.7.4, but you have pydantic 1.10.22 which is incompatible.\n",
            "plum-dispatch 2.5.7 requires typing-extensions>=4.9.0, but you have typing-extensions 4.7.1 which is incompatible.\n",
            "thinc 8.3.6 requires pydantic<3.0.0,>=2.0.0, but you have pydantic 1.10.22 which is incompatible.\n",
            "starlette 0.47.3 requires typing-extensions>=4.10.0; python_version < \"3.13\", but you have typing-extensions 4.7.1 which is incompatible.\n",
            "google-adk 1.12.0 requires pydantic<3.0.0,>=2.0, but you have pydantic 1.10.22 which is incompatible.\n",
            "pydantic-settings 2.10.1 requires pydantic>=2.7.0, but you have pydantic 1.10.22 which is incompatible.\n",
            "langchain 0.3.27 requires pydantic<3.0.0,>=2.7.4, but you have pydantic 1.10.22 which is incompatible.\n",
            "google-genai 1.31.0 requires pydantic<3.0.0,>=2.0.0, but you have pydantic 1.10.22 which is incompatible.\n",
            "google-genai 1.31.0 requires typing-extensions<5.0.0,>=4.11.0, but you have typing-extensions 4.7.1 which is incompatible.\n",
            "wandb 0.21.1 requires typing-extensions<5,>=4.8, but you have typing-extensions 4.7.1 which is incompatible.\n",
            "fastapi 0.116.1 requires typing-extensions>=4.8.0, but you have typing-extensions 4.7.1 which is incompatible.\n",
            "typeguard 4.4.4 requires typing_extensions>=4.14.0, but you have typing-extensions 4.7.1 which is incompatible.\u001b[0m\u001b[31m\n",
            "\u001b[0mSuccessfully installed pydantic-1.10.22 typing-extensions-4.7.1\n",
            "Requirement already satisfied: chromadb in /usr/local/lib/python3.12/dist-packages (1.0.20)\n",
            "Requirement already satisfied: sentence-transformers in /usr/local/lib/python3.12/dist-packages (5.1.0)\n",
            "Requirement already satisfied: spacy in /usr/local/lib/python3.12/dist-packages (3.8.7)\n",
            "Requirement already satisfied: pandas in /usr/local/lib/python3.12/dist-packages (2.2.2)\n",
            "Requirement already satisfied: scikit-learn in /usr/local/lib/python3.12/dist-packages (1.6.1)\n",
            "Requirement already satisfied: build>=1.0.3 in /usr/local/lib/python3.12/dist-packages (from chromadb) (1.3.0)\n",
            "Requirement already satisfied: pydantic>=1.9 in /usr/local/lib/python3.12/dist-packages (from chromadb) (1.10.22)\n",
            "Requirement already satisfied: pybase64>=1.4.1 in /usr/local/lib/python3.12/dist-packages (from chromadb) (1.4.2)\n",
            "Requirement already satisfied: uvicorn>=0.18.3 in /usr/local/lib/python3.12/dist-packages (from uvicorn[standard]>=0.18.3->chromadb) (0.35.0)\n",
            "Requirement already satisfied: numpy>=1.22.5 in /usr/local/lib/python3.12/dist-packages (from chromadb) (2.0.2)\n",
            "Requirement already satisfied: posthog<6.0.0,>=2.4.0 in /usr/local/lib/python3.12/dist-packages (from chromadb) (5.4.0)\n",
            "Requirement already satisfied: typing-extensions>=4.5.0 in /usr/local/lib/python3.12/dist-packages (from chromadb) (4.7.1)\n",
            "Requirement already satisfied: onnxruntime>=1.14.1 in /usr/local/lib/python3.12/dist-packages (from chromadb) (1.22.1)\n",
            "Requirement already satisfied: opentelemetry-api>=1.2.0 in /usr/local/lib/python3.12/dist-packages (from chromadb) (1.36.0)\n",
            "Requirement already satisfied: opentelemetry-exporter-otlp-proto-grpc>=1.2.0 in /usr/local/lib/python3.12/dist-packages (from chromadb) (1.36.0)\n",
            "Requirement already satisfied: opentelemetry-sdk>=1.2.0 in /usr/local/lib/python3.12/dist-packages (from chromadb) (1.36.0)\n",
            "Requirement already satisfied: tokenizers>=0.13.2 in /usr/local/lib/python3.12/dist-packages (from chromadb) (0.21.4)\n",
            "Requirement already satisfied: pypika>=0.48.9 in /usr/local/lib/python3.12/dist-packages (from chromadb) (0.48.9)\n",
            "Requirement already satisfied: tqdm>=4.65.0 in /usr/local/lib/python3.12/dist-packages (from chromadb) (4.67.1)\n",
            "Requirement already satisfied: overrides>=7.3.1 in /usr/local/lib/python3.12/dist-packages (from chromadb) (7.7.0)\n",
            "Requirement already satisfied: importlib-resources in /usr/local/lib/python3.12/dist-packages (from chromadb) (6.5.2)\n",
            "Requirement already satisfied: grpcio>=1.58.0 in /usr/local/lib/python3.12/dist-packages (from chromadb) (1.74.0)\n",
            "Requirement already satisfied: bcrypt>=4.0.1 in /usr/local/lib/python3.12/dist-packages (from chromadb) (4.3.0)\n",
            "Requirement already satisfied: typer>=0.9.0 in /usr/local/lib/python3.12/dist-packages (from chromadb) (0.16.1)\n",
            "Requirement already satisfied: kubernetes>=28.1.0 in /usr/local/lib/python3.12/dist-packages (from chromadb) (33.1.0)\n",
            "Requirement already satisfied: tenacity>=8.2.3 in /usr/local/lib/python3.12/dist-packages (from chromadb) (8.5.0)\n",
            "Requirement already satisfied: pyyaml>=6.0.0 in /usr/local/lib/python3.12/dist-packages (from chromadb) (6.0.2)\n",
            "Requirement already satisfied: mmh3>=4.0.1 in /usr/local/lib/python3.12/dist-packages (from chromadb) (5.2.0)\n",
            "Requirement already satisfied: orjson>=3.9.12 in /usr/local/lib/python3.12/dist-packages (from chromadb) (3.11.2)\n",
            "Requirement already satisfied: httpx>=0.27.0 in /usr/local/lib/python3.12/dist-packages (from chromadb) (0.28.1)\n",
            "Requirement already satisfied: rich>=10.11.0 in /usr/local/lib/python3.12/dist-packages (from chromadb) (13.9.4)\n",
            "Requirement already satisfied: jsonschema>=4.19.0 in /usr/local/lib/python3.12/dist-packages (from chromadb) (4.25.1)\n",
            "Requirement already satisfied: requests<3.0,>=2.7 in /usr/local/lib/python3.12/dist-packages (from posthog<6.0.0,>=2.4.0->chromadb) (2.32.4)\n",
            "Requirement already satisfied: six>=1.5 in /usr/local/lib/python3.12/dist-packages (from posthog<6.0.0,>=2.4.0->chromadb) (1.17.0)\n",
            "Requirement already satisfied: python-dateutil>=2.2 in /usr/local/lib/python3.12/dist-packages (from posthog<6.0.0,>=2.4.0->chromadb) (2.9.0.post0)\n",
            "Requirement already satisfied: backoff>=1.10.0 in /usr/local/lib/python3.12/dist-packages (from posthog<6.0.0,>=2.4.0->chromadb) (2.2.1)\n",
            "Requirement already satisfied: distro>=1.5.0 in /usr/local/lib/python3.12/dist-packages (from posthog<6.0.0,>=2.4.0->chromadb) (1.9.0)\n",
            "Requirement already satisfied: charset_normalizer<4,>=2 in /usr/local/lib/python3.12/dist-packages (from requests<3.0,>=2.7->posthog<6.0.0,>=2.4.0->chromadb) (3.4.3)\n",
            "Requirement already satisfied: idna<4,>=2.5 in /usr/local/lib/python3.12/dist-packages (from requests<3.0,>=2.7->posthog<6.0.0,>=2.4.0->chromadb) (3.10)\n",
            "Requirement already satisfied: urllib3<3,>=1.21.1 in /usr/local/lib/python3.12/dist-packages (from requests<3.0,>=2.7->posthog<6.0.0,>=2.4.0->chromadb) (2.5.0)\n",
            "Requirement already satisfied: certifi>=2017.4.17 in /usr/local/lib/python3.12/dist-packages (from requests<3.0,>=2.7->posthog<6.0.0,>=2.4.0->chromadb) (2025.8.3)\n",
            "Requirement already satisfied: transformers<5.0.0,>=4.41.0 in /usr/local/lib/python3.12/dist-packages (from sentence-transformers) (4.55.4)\n",
            "Requirement already satisfied: torch>=1.11.0 in /usr/local/lib/python3.12/dist-packages (from sentence-transformers) (2.8.0+cu126)\n",
            "Requirement already satisfied: scipy in /usr/local/lib/python3.12/dist-packages (from sentence-transformers) (1.16.1)\n",
            "Requirement already satisfied: huggingface-hub>=0.20.0 in /usr/local/lib/python3.12/dist-packages (from sentence-transformers) (0.34.4)\n",
            "Requirement already satisfied: Pillow in /usr/local/lib/python3.12/dist-packages (from sentence-transformers) (11.3.0)\n",
            "Requirement already satisfied: filelock in /usr/local/lib/python3.12/dist-packages (from transformers<5.0.0,>=4.41.0->sentence-transformers) (3.19.1)\n",
            "Requirement already satisfied: packaging>=20.0 in /usr/local/lib/python3.12/dist-packages (from transformers<5.0.0,>=4.41.0->sentence-transformers) (25.0)\n",
            "Requirement already satisfied: regex!=2019.12.17 in /usr/local/lib/python3.12/dist-packages (from transformers<5.0.0,>=4.41.0->sentence-transformers) (2024.11.6)\n",
            "Requirement already satisfied: safetensors>=0.4.3 in /usr/local/lib/python3.12/dist-packages (from transformers<5.0.0,>=4.41.0->sentence-transformers) (0.6.2)\n",
            "Requirement already satisfied: fsspec>=2023.5.0 in /usr/local/lib/python3.12/dist-packages (from huggingface-hub>=0.20.0->sentence-transformers) (2025.3.0)\n",
            "Requirement already satisfied: hf-xet<2.0.0,>=1.1.3 in /usr/local/lib/python3.12/dist-packages (from huggingface-hub>=0.20.0->sentence-transformers) (1.1.8)\n",
            "Requirement already satisfied: spacy-legacy<3.1.0,>=3.0.11 in /usr/local/lib/python3.12/dist-packages (from spacy) (3.0.12)\n",
            "Requirement already satisfied: spacy-loggers<2.0.0,>=1.0.0 in /usr/local/lib/python3.12/dist-packages (from spacy) (1.0.5)\n",
            "Requirement already satisfied: murmurhash<1.1.0,>=0.28.0 in /usr/local/lib/python3.12/dist-packages (from spacy) (1.0.13)\n",
            "Requirement already satisfied: cymem<2.1.0,>=2.0.2 in /usr/local/lib/python3.12/dist-packages (from spacy) (2.0.11)\n",
            "Requirement already satisfied: preshed<3.1.0,>=3.0.2 in /usr/local/lib/python3.12/dist-packages (from spacy) (3.0.10)\n",
            "Requirement already satisfied: thinc<8.4.0,>=8.3.4 in /usr/local/lib/python3.12/dist-packages (from spacy) (8.3.6)\n",
            "Requirement already satisfied: wasabi<1.2.0,>=0.9.1 in /usr/local/lib/python3.12/dist-packages (from spacy) (1.1.3)\n",
            "Requirement already satisfied: srsly<3.0.0,>=2.4.3 in /usr/local/lib/python3.12/dist-packages (from spacy) (2.5.1)\n",
            "Requirement already satisfied: catalogue<2.1.0,>=2.0.6 in /usr/local/lib/python3.12/dist-packages (from spacy) (2.0.10)\n",
            "Requirement already satisfied: weasel<0.5.0,>=0.1.0 in /usr/local/lib/python3.12/dist-packages (from spacy) (0.4.1)\n",
            "Requirement already satisfied: jinja2 in /usr/local/lib/python3.12/dist-packages (from spacy) (3.1.6)\n",
            "Requirement already satisfied: setuptools in /usr/local/lib/python3.12/dist-packages (from spacy) (80.9.0)\n",
            "Requirement already satisfied: langcodes<4.0.0,>=3.2.0 in /usr/local/lib/python3.12/dist-packages (from spacy) (3.5.0)\n",
            "Requirement already satisfied: language-data>=1.2 in /usr/local/lib/python3.12/dist-packages (from langcodes<4.0.0,>=3.2.0->spacy) (1.3.0)\n",
            "Requirement already satisfied: blis<1.4.0,>=1.3.0 in /usr/local/lib/python3.12/dist-packages (from thinc<8.4.0,>=8.3.4->spacy) (1.3.0)\n",
            "Requirement already satisfied: confection<1.0.0,>=0.0.1 in /usr/local/lib/python3.12/dist-packages (from thinc<8.4.0,>=8.3.4->spacy) (0.1.5)\n",
            "Collecting pydantic>=1.9 (from chromadb)\n",
            "  Using cached pydantic-2.11.7-py3-none-any.whl.metadata (67 kB)\n",
            "Requirement already satisfied: annotated-types>=0.6.0 in /usr/local/lib/python3.12/dist-packages (from pydantic>=1.9->chromadb) (0.7.0)\n",
            "Requirement already satisfied: pydantic-core==2.33.2 in /usr/local/lib/python3.12/dist-packages (from pydantic>=1.9->chromadb) (2.33.2)\n",
            "Collecting typing-extensions>=4.5.0 (from chromadb)\n",
            "  Using cached typing_extensions-4.15.0-py3-none-any.whl.metadata (3.3 kB)\n",
            "Requirement already satisfied: typing-inspection>=0.4.0 in /usr/local/lib/python3.12/dist-packages (from pydantic>=1.9->chromadb) (0.4.1)\n",
            "Requirement already satisfied: click>=8.0.0 in /usr/local/lib/python3.12/dist-packages (from typer>=0.9.0->chromadb) (8.2.1)\n",
            "Requirement already satisfied: shellingham>=1.3.0 in /usr/local/lib/python3.12/dist-packages (from typer>=0.9.0->chromadb) (1.5.4)\n",
            "Requirement already satisfied: cloudpathlib<1.0.0,>=0.7.0 in /usr/local/lib/python3.12/dist-packages (from weasel<0.5.0,>=0.1.0->spacy) (0.21.1)\n",
            "Requirement already satisfied: smart-open<8.0.0,>=5.2.1 in /usr/local/lib/python3.12/dist-packages (from weasel<0.5.0,>=0.1.0->spacy) (7.3.0.post1)\n",
            "Requirement already satisfied: wrapt in /usr/local/lib/python3.12/dist-packages (from smart-open<8.0.0,>=5.2.1->weasel<0.5.0,>=0.1.0->spacy) (1.17.3)\n",
            "Requirement already satisfied: pytz>=2020.1 in /usr/local/lib/python3.12/dist-packages (from pandas) (2025.2)\n",
            "Requirement already satisfied: tzdata>=2022.7 in /usr/local/lib/python3.12/dist-packages (from pandas) (2025.2)\n",
            "Requirement already satisfied: joblib>=1.2.0 in /usr/local/lib/python3.12/dist-packages (from scikit-learn) (1.5.1)\n",
            "Requirement already satisfied: threadpoolctl>=3.1.0 in /usr/local/lib/python3.12/dist-packages (from scikit-learn) (3.6.0)\n",
            "Requirement already satisfied: pyproject_hooks in /usr/local/lib/python3.12/dist-packages (from build>=1.0.3->chromadb) (1.2.0)\n",
            "Requirement already satisfied: anyio in /usr/local/lib/python3.12/dist-packages (from httpx>=0.27.0->chromadb) (4.10.0)\n",
            "Requirement already satisfied: httpcore==1.* in /usr/local/lib/python3.12/dist-packages (from httpx>=0.27.0->chromadb) (1.0.9)\n",
            "Requirement already satisfied: h11>=0.16 in /usr/local/lib/python3.12/dist-packages (from httpcore==1.*->httpx>=0.27.0->chromadb) (0.16.0)\n",
            "Requirement already satisfied: attrs>=22.2.0 in /usr/local/lib/python3.12/dist-packages (from jsonschema>=4.19.0->chromadb) (25.3.0)\n",
            "Requirement already satisfied: jsonschema-specifications>=2023.03.6 in /usr/local/lib/python3.12/dist-packages (from jsonschema>=4.19.0->chromadb) (2025.4.1)\n",
            "Requirement already satisfied: referencing>=0.28.4 in /usr/local/lib/python3.12/dist-packages (from jsonschema>=4.19.0->chromadb) (0.36.2)\n",
            "Requirement already satisfied: rpds-py>=0.7.1 in /usr/local/lib/python3.12/dist-packages (from jsonschema>=4.19.0->chromadb) (0.27.0)\n",
            "Requirement already satisfied: google-auth>=1.0.1 in /usr/local/lib/python3.12/dist-packages (from kubernetes>=28.1.0->chromadb) (2.38.0)\n",
            "Requirement already satisfied: websocket-client!=0.40.0,!=0.41.*,!=0.42.*,>=0.32.0 in /usr/local/lib/python3.12/dist-packages (from kubernetes>=28.1.0->chromadb) (1.8.0)\n",
            "Requirement already satisfied: requests-oauthlib in /usr/local/lib/python3.12/dist-packages (from kubernetes>=28.1.0->chromadb) (2.0.0)\n",
            "Requirement already satisfied: oauthlib>=3.2.2 in /usr/local/lib/python3.12/dist-packages (from kubernetes>=28.1.0->chromadb) (3.3.1)\n",
            "Requirement already satisfied: durationpy>=0.7 in /usr/local/lib/python3.12/dist-packages (from kubernetes>=28.1.0->chromadb) (0.10)\n",
            "Requirement already satisfied: cachetools<6.0,>=2.0.0 in /usr/local/lib/python3.12/dist-packages (from google-auth>=1.0.1->kubernetes>=28.1.0->chromadb) (5.5.2)\n",
            "Requirement already satisfied: pyasn1-modules>=0.2.1 in /usr/local/lib/python3.12/dist-packages (from google-auth>=1.0.1->kubernetes>=28.1.0->chromadb) (0.4.2)\n",
            "Requirement already satisfied: rsa<5,>=3.1.4 in /usr/local/lib/python3.12/dist-packages (from google-auth>=1.0.1->kubernetes>=28.1.0->chromadb) (4.9.1)\n",
            "Requirement already satisfied: pyasn1>=0.1.3 in /usr/local/lib/python3.12/dist-packages (from rsa<5,>=3.1.4->google-auth>=1.0.1->kubernetes>=28.1.0->chromadb) (0.6.1)\n",
            "Requirement already satisfied: marisa-trie>=1.1.0 in /usr/local/lib/python3.12/dist-packages (from language-data>=1.2->langcodes<4.0.0,>=3.2.0->spacy) (1.3.0)\n",
            "Requirement already satisfied: coloredlogs in /usr/local/lib/python3.12/dist-packages (from onnxruntime>=1.14.1->chromadb) (15.0.1)\n",
            "Requirement already satisfied: flatbuffers in /usr/local/lib/python3.12/dist-packages (from onnxruntime>=1.14.1->chromadb) (25.2.10)\n",
            "Requirement already satisfied: protobuf in /usr/local/lib/python3.12/dist-packages (from onnxruntime>=1.14.1->chromadb) (5.29.5)\n",
            "Requirement already satisfied: sympy in /usr/local/lib/python3.12/dist-packages (from onnxruntime>=1.14.1->chromadb) (1.13.3)\n",
            "Requirement already satisfied: importlib-metadata<8.8.0,>=6.0 in /usr/local/lib/python3.12/dist-packages (from opentelemetry-api>=1.2.0->chromadb) (8.7.0)\n",
            "Requirement already satisfied: zipp>=3.20 in /usr/local/lib/python3.12/dist-packages (from importlib-metadata<8.8.0,>=6.0->opentelemetry-api>=1.2.0->chromadb) (3.23.0)\n",
            "Requirement already satisfied: googleapis-common-protos~=1.57 in /usr/local/lib/python3.12/dist-packages (from opentelemetry-exporter-otlp-proto-grpc>=1.2.0->chromadb) (1.70.0)\n",
            "Requirement already satisfied: opentelemetry-exporter-otlp-proto-common==1.36.0 in /usr/local/lib/python3.12/dist-packages (from opentelemetry-exporter-otlp-proto-grpc>=1.2.0->chromadb) (1.36.0)\n",
            "Requirement already satisfied: opentelemetry-proto==1.36.0 in /usr/local/lib/python3.12/dist-packages (from opentelemetry-exporter-otlp-proto-grpc>=1.2.0->chromadb) (1.36.0)\n",
            "Requirement already satisfied: opentelemetry-semantic-conventions==0.57b0 in /usr/local/lib/python3.12/dist-packages (from opentelemetry-sdk>=1.2.0->chromadb) (0.57b0)\n",
            "Requirement already satisfied: markdown-it-py>=2.2.0 in /usr/local/lib/python3.12/dist-packages (from rich>=10.11.0->chromadb) (4.0.0)\n",
            "Requirement already satisfied: pygments<3.0.0,>=2.13.0 in /usr/local/lib/python3.12/dist-packages (from rich>=10.11.0->chromadb) (2.19.2)\n",
            "Requirement already satisfied: mdurl~=0.1 in /usr/local/lib/python3.12/dist-packages (from markdown-it-py>=2.2.0->rich>=10.11.0->chromadb) (0.1.2)\n",
            "Requirement already satisfied: networkx in /usr/local/lib/python3.12/dist-packages (from torch>=1.11.0->sentence-transformers) (3.5)\n",
            "Requirement already satisfied: nvidia-cuda-nvrtc-cu12==12.6.77 in /usr/local/lib/python3.12/dist-packages (from torch>=1.11.0->sentence-transformers) (12.6.77)\n",
            "Requirement already satisfied: nvidia-cuda-runtime-cu12==12.6.77 in /usr/local/lib/python3.12/dist-packages (from torch>=1.11.0->sentence-transformers) (12.6.77)\n",
            "Requirement already satisfied: nvidia-cuda-cupti-cu12==12.6.80 in /usr/local/lib/python3.12/dist-packages (from torch>=1.11.0->sentence-transformers) (12.6.80)\n",
            "Requirement already satisfied: nvidia-cudnn-cu12==9.10.2.21 in /usr/local/lib/python3.12/dist-packages (from torch>=1.11.0->sentence-transformers) (9.10.2.21)\n",
            "Requirement already satisfied: nvidia-cublas-cu12==12.6.4.1 in /usr/local/lib/python3.12/dist-packages (from torch>=1.11.0->sentence-transformers) (12.6.4.1)\n",
            "Requirement already satisfied: nvidia-cufft-cu12==11.3.0.4 in /usr/local/lib/python3.12/dist-packages (from torch>=1.11.0->sentence-transformers) (11.3.0.4)\n",
            "Requirement already satisfied: nvidia-curand-cu12==10.3.7.77 in /usr/local/lib/python3.12/dist-packages (from torch>=1.11.0->sentence-transformers) (10.3.7.77)\n",
            "Requirement already satisfied: nvidia-cusolver-cu12==11.7.1.2 in /usr/local/lib/python3.12/dist-packages (from torch>=1.11.0->sentence-transformers) (11.7.1.2)\n",
            "Requirement already satisfied: nvidia-cusparse-cu12==12.5.4.2 in /usr/local/lib/python3.12/dist-packages (from torch>=1.11.0->sentence-transformers) (12.5.4.2)\n",
            "Requirement already satisfied: nvidia-cusparselt-cu12==0.7.1 in /usr/local/lib/python3.12/dist-packages (from torch>=1.11.0->sentence-transformers) (0.7.1)\n",
            "Requirement already satisfied: nvidia-nccl-cu12==2.27.3 in /usr/local/lib/python3.12/dist-packages (from torch>=1.11.0->sentence-transformers) (2.27.3)\n",
            "Requirement already satisfied: nvidia-nvtx-cu12==12.6.77 in /usr/local/lib/python3.12/dist-packages (from torch>=1.11.0->sentence-transformers) (12.6.77)\n",
            "Requirement already satisfied: nvidia-nvjitlink-cu12==12.6.85 in /usr/local/lib/python3.12/dist-packages (from torch>=1.11.0->sentence-transformers) (12.6.85)\n",
            "Requirement already satisfied: nvidia-cufile-cu12==1.11.1.6 in /usr/local/lib/python3.12/dist-packages (from torch>=1.11.0->sentence-transformers) (1.11.1.6)\n",
            "Requirement already satisfied: triton==3.4.0 in /usr/local/lib/python3.12/dist-packages (from torch>=1.11.0->sentence-transformers) (3.4.0)\n",
            "Requirement already satisfied: mpmath<1.4,>=1.1.0 in /usr/local/lib/python3.12/dist-packages (from sympy->onnxruntime>=1.14.1->chromadb) (1.3.0)\n",
            "Requirement already satisfied: httptools>=0.6.3 in /usr/local/lib/python3.12/dist-packages (from uvicorn[standard]>=0.18.3->chromadb) (0.6.4)\n",
            "Requirement already satisfied: python-dotenv>=0.13 in /usr/local/lib/python3.12/dist-packages (from uvicorn[standard]>=0.18.3->chromadb) (1.1.1)\n",
            "Requirement already satisfied: uvloop>=0.15.1 in /usr/local/lib/python3.12/dist-packages (from uvicorn[standard]>=0.18.3->chromadb) (0.21.0)\n",
            "Requirement already satisfied: watchfiles>=0.13 in /usr/local/lib/python3.12/dist-packages (from uvicorn[standard]>=0.18.3->chromadb) (1.1.0)\n",
            "Requirement already satisfied: websockets>=10.4 in /usr/local/lib/python3.12/dist-packages (from uvicorn[standard]>=0.18.3->chromadb) (15.0.1)\n",
            "Requirement already satisfied: sniffio>=1.1 in /usr/local/lib/python3.12/dist-packages (from anyio->httpx>=0.27.0->chromadb) (1.3.1)\n",
            "Requirement already satisfied: humanfriendly>=9.1 in /usr/local/lib/python3.12/dist-packages (from coloredlogs->onnxruntime>=1.14.1->chromadb) (10.0)\n",
            "Requirement already satisfied: MarkupSafe>=2.0 in /usr/local/lib/python3.12/dist-packages (from jinja2->spacy) (3.0.2)\n",
            "Using cached pydantic-2.11.7-py3-none-any.whl (444 kB)\n",
            "Using cached typing_extensions-4.15.0-py3-none-any.whl (44 kB)\n",
            "Installing collected packages: typing-extensions, pydantic\n",
            "\u001b[2K  Attempting uninstall: typing-extensions\n",
            "\u001b[2K    Found existing installation: typing_extensions 4.7.1\n",
            "\u001b[2K    Uninstalling typing_extensions-4.7.1:\n",
            "\u001b[2K      Successfully uninstalled typing_extensions-4.7.1\n",
            "\u001b[2K  Attempting uninstall: pydantic\n",
            "\u001b[2K    Found existing installation: pydantic 1.10.22\n",
            "\u001b[2K    Uninstalling pydantic-1.10.22:\n",
            "\u001b[2K      Successfully uninstalled pydantic-1.10.22\n",
            "\u001b[2K   \u001b[90m━━━━━━━━━━━━━━━━━━━━━━━━━━━━━━━━━━━━━━━━\u001b[0m \u001b[32m2/2\u001b[0m [pydantic]\n",
            "\u001b[1A\u001b[2KSuccessfully installed pydantic-2.11.7 typing-extensions-4.15.0\n",
            "Collecting en-core-web-sm==3.8.0\n",
            "  Downloading https://github.com/explosion/spacy-models/releases/download/en_core_web_sm-3.8.0/en_core_web_sm-3.8.0-py3-none-any.whl (12.8 MB)\n",
            "\u001b[2K     \u001b[90m━━━━━━━━━━━━━━━━━━━━━━━━━━━━━━━━━━━━━━━━\u001b[0m \u001b[32m12.8/12.8 MB\u001b[0m \u001b[31m62.1 MB/s\u001b[0m  \u001b[33m0:00:00\u001b[0m\n",
            "\u001b[?25h\u001b[38;5;2m✔ Download and installation successful\u001b[0m\n",
            "You can now load the package via spacy.load('en_core_web_sm')\n",
            "\u001b[38;5;3m⚠ Restart to reload dependencies\u001b[0m\n",
            "If you are in a Jupyter or Colab notebook, you may need to restart Python in\n",
            "order to load all the package's dependencies. You can do this by selecting the\n",
            "'Restart kernel' or 'Restart runtime' option.\n"
          ]
        }
      ]
    },
    {
      "cell_type": "code",
      "source": [
        "import os  # for path operations\n",
        "import math  # for ceiling when batching\n",
        "import pandas as pd  # for dataframe operations\n",
        "import chromadb  # the vector DB\n",
        "from chromadb.config import Settings  # to configure persistence\n",
        "from sentence_transformers import SentenceTransformer  # huggingface model for embeddings\n",
        "import spacy  # for lemmatization and basic NLP cleaning\n",
        "import re  # regular expressions for light cleaning\n",
        "from typing import List, Dict, Tuple"
      ],
      "metadata": {
        "id": "okoyVgl1Msmd"
      },
      "execution_count": null,
      "outputs": []
    },
    {
      "cell_type": "code",
      "source": [
        "from google.colab import drive\n",
        "drive.mount('/content/drive')"
      ],
      "metadata": {
        "colab": {
          "base_uri": "https://localhost:8080/"
        },
        "id": "Jpbz8O-CO7oy",
        "outputId": "a9acf5a2-017c-47ab-b822-09691f50d360"
      },
      "execution_count": null,
      "outputs": [
        {
          "output_type": "stream",
          "name": "stdout",
          "text": [
            "Drive already mounted at /content/drive; to attempt to forcibly remount, call drive.mount(\"/content/drive\", force_remount=True).\n"
          ]
        }
      ]
    },
    {
      "cell_type": "code",
      "source": [
        "CSV_PATH = \"/content/drive/MyDrive/imdb_top_1000.csv\"\n",
        "MODEL_NAME = \"all-MiniLM-L6-v2\"\n",
        "EMBEDDING_BATCH_SIZE = 64\n",
        "CHUNK_SIZE_WORDS = 120\n",
        "CHROMA_PERSIST_DIR = \"./chroma_movie_db\"\n",
        "TOP_K = 5"
      ],
      "metadata": {
        "id": "My7t6U33PD5P"
      },
      "execution_count": null,
      "outputs": []
    },
    {
      "cell_type": "code",
      "source": [
        "\n",
        "nlp = spacy.load(\"en_core_web_sm\", disable=[\"ner\"])\n",
        "\n",
        "def simple_clean_text(text: str) -> str:\n",
        "    \"\"\"Light cleaning: normalize whitespace and remove weird characters.\"\"\"\n",
        "    if not isinstance(text, str):\n",
        "        return \"\"\n",
        "    text = text.strip()\n",
        "    text = re.sub(r\"[\\r\\n]+\", \" \", text)\n",
        "    text = re.sub(r\"\\s+\", \" \", text)\n",
        "    return text\n",
        "\n",
        "def lemmatize_and_filter(text: str, remove_stopwords: bool = True) -> str:\n",
        "    \"\"\"Use spaCy to lemmatize text and optionally remove stopwords.\n",
        "\n",
        "    Returns a cleaned string suitable for embedding.\n",
        "    \"\"\"\n",
        "    text = simple_clean_text(text)\n",
        "    if text == \"\":\n",
        "        return \"\"\n",
        "    doc = nlp(text)\n",
        "    lemmas = []\n",
        "    for token in doc:\n",
        "\n",
        "        if token.is_punct or token.is_space:\n",
        "            continue\n",
        "        # optionally skip stopwords\n",
        "        if remove_stopwords and token.is_stop:\n",
        "            continue\n",
        "        # take lemma and lower it\n",
        "        lemmas.append(token.lemma_.lower())\n",
        "    return \" \".join(lemmas)\n",
        "\n",
        "def chunk_text_by_words(text: str, max_words: int = CHUNK_SIZE_WORDS) -> List[str]:\n",
        "    \"\"\"Split text into chunks of up to max_words words.\n",
        "\n",
        "    This helps produce embeddings for long descriptions without losing context.\n",
        "    \"\"\"\n",
        "    words = text.split()\n",
        "    if len(words) <= max_words:\n",
        "        return [text]\n",
        "    chunks = []\n",
        "    for i in range(0, len(words), max_words):\n",
        "        chunk = \" \".join(words[i : i + max_words])\n",
        "        chunks.append(chunk)\n",
        "    return chunks"
      ],
      "metadata": {
        "id": "H466EMuPPI2W"
      },
      "execution_count": null,
      "outputs": []
    },
    {
      "cell_type": "code",
      "source": [
        "# ---------- 5) Load CSV into a pandas DataFrame and basic cleaning ----------\n",
        "def load_and_prepare_dataframe(csv_path: str = CSV_PATH) -> pd.DataFrame:\n",
        "    \"\"\"Load CSV, pick useful columns, drop missing rows, and create a 'text' column.\n",
        "\n",
        "    Expects the CSV to have at least columns: Series_Title and Overview.\n",
        "    \"\"\"\n",
        "    # read CSV into pandas\n",
        "    df = pd.read_csv(csv_path)  # read file from given path\n",
        "\n",
        "    # Explicitly set title and description columns based on the CSV header\n",
        "    title_col = \"Series_Title\"\n",
        "    desc_col = \"Overview\"\n",
        "\n",
        "    # Check if the required columns exist\n",
        "    if title_col not in df.columns:\n",
        "        raise ValueError(f\"CSV must contain a '{title_col}' column.\")\n",
        "    if desc_col not in df.columns:\n",
        "         raise ValueError(f\"CSV must contain a '{desc_col}' column.\")\n",
        "\n",
        "\n",
        "    # keep only the columns we need and rename them to standard names\n",
        "    df = df[[title_col, desc_col]].copy()\n",
        "    df.columns = [\"title\", \"description\"]\n",
        "\n",
        "    # drop rows where title and description are both missing\n",
        "    df.dropna(subset=[\"title\", \"description\"], how=\"all\", inplace=True)\n",
        "\n",
        "    # fill missing descriptions with empty string\n",
        "    df[\"description\"] = df[\"description\"].fillna(\"\")\n",
        "\n",
        "    # create a combined text column we will embed (title + description)\n",
        "    df[\"combined_raw\"] = df[\"title\"].astype(str) + \". \" + df[\"description\"].astype(str)\n",
        "\n",
        "    return df.reset_index(drop=True)"
      ],
      "metadata": {
        "id": "vllxRFZvPRkY"
      },
      "execution_count": null,
      "outputs": []
    },
    {
      "cell_type": "code",
      "source": [
        "\n",
        "# Build documents to index: cleaning, lemmatization, chunking\n",
        "def build_documents(df: pd.DataFrame) -> List[Dict]:\n",
        "    \"\"\"From the dataframe, build a list of dicts representing documents/chunks.\n",
        "\n",
        "    Each dict will have: id, movie_idx (row index), title, chunk_text, original_text.\n",
        "    \"\"\"\n",
        "    docs = []  # list to hold all small documents/chunks\n",
        "    for idx, row in df.iterrows():\n",
        "        title = str(row[\"title\"])  # movie title\n",
        "        full_text = str(row[\"combined_raw\"])  # title + description combined\n",
        "\n",
        "        # light-clean the raw combined text\n",
        "        cleaned = simple_clean_text(full_text)\n",
        "\n",
        "        # chunk the cleaned text into smaller pieces\n",
        "        chunks = chunk_text_by_words(cleaned, max_words=CHUNK_SIZE_WORDS)\n",
        "\n",
        "        # for each chunk, lemmatize and create a document entry\n",
        "        for chunk_i, chunk in enumerate(chunks):\n",
        "            # lemmatize the chunk (removes stopwords by default)\n",
        "            lemma = lemmatize_and_filter(chunk, remove_stopwords=True)\n",
        "\n",
        "            # create a unique id for this chunk: f\"rowidx_chunkidx\"\n",
        "            doc_id = f\"{idx}_{chunk_i}\"\n",
        "\n",
        "            docs.append(\n",
        "                {\n",
        "                    \"id\": doc_id,  # unique id for Chroma\n",
        "                    \"movie_idx\": int(idx),  # original dataframe index\n",
        "                    \"title\": title,  # movie title (metadata)\n",
        "                    \"chunk_text\": lemma,  # cleaned + lemmatized text to embed\n",
        "                    \"original_text\": chunk,  # original chunk (for display)\n",
        "                }\n",
        "            )\n",
        "    return docs"
      ],
      "metadata": {
        "id": "koCtk1WZPVI8"
      },
      "execution_count": null,
      "outputs": []
    },
    {
      "cell_type": "code",
      "source": [
        "\n",
        "embed_model = None\n",
        "\n",
        "def load_embedding_model(model_name: str = MODEL_NAME):\n",
        "    \"\"\"Load the sentence-transformers model (cached by the library).\n",
        "\n",
        "    We keep the model in a global variable to avoid reloading.\n",
        "    \"\"\"\n",
        "    global embed_model\n",
        "    if embed_model is None:\n",
        "        embed_model = SentenceTransformer(model_name)\n",
        "    return embed_model\n",
        "\n",
        "def embed_texts(texts: List[str], batch_size: int = EMBEDDING_BATCH_SIZE) -> List[List[float]]:\n",
        "    \"\"\"Embed a list of texts in batches and return list of vectors.\n",
        "\n",
        "    This uses the sentence-transformers encode(...) function directly (no wrapper).\n",
        "    \"\"\"\n",
        "    model = load_embedding_model()\n",
        "    embeddings = []  # will collect embeddings\n",
        "    n = len(texts)\n",
        "    # process in batches\n",
        "    for i in range(0, n, batch_size):\n",
        "        batch = texts[i : i + batch_size]\n",
        "        batch_emb = model.encode(batch, show_progress_bar=False, convert_to_numpy=True)\n",
        "        embeddings.extend(batch_emb.tolist())\n",
        "    return embeddings"
      ],
      "metadata": {
        "id": "Xxynr7uCPYxM"
      },
      "execution_count": null,
      "outputs": []
    },
    {
      "cell_type": "code",
      "source": [
        "# Save to ChromaDB\n",
        "def create_chroma_collection(persist_dir: str = CHROMA_PERSIST_DIR, collection_name: str = \"movies\"):\n",
        "    \"\"\"Create or open a ChromaDB collection with persistence configured.\n",
        "\n",
        "    We do not supply an embedding_function to Chroma; we will pass embeddings explicitly.\n",
        "    \"\"\"\n",
        "    # configure chroma to persist to a folder so it survives restarts\n",
        "    client = chromadb.Client(Settings(persist_directory=persist_dir))\n",
        "\n",
        "    # create or get collection\n",
        "    try:\n",
        "        collection = client.create_collection(name=collection_name)\n",
        "    except Exception:\n",
        "        collection = client.get_collection(name=collection_name)\n",
        "    return client, collection\n",
        "\n",
        "def index_documents_to_chroma(docs: List[Dict], collection, batch_size: int = EMBEDDING_BATCH_SIZE):\n",
        "    \"\"\"Index the list of docs into Chroma by computing embeddings and adding in batches.\n",
        "\n",
        "    Each add uses explicit embeddings argument to avoid any Chroma embedding wrappers.\n",
        "    \"\"\"\n",
        "    # prepare lists\n",
        "    ids = [d[\"id\"] for d in docs]\n",
        "    metadatas = [\n",
        "        {\"movie_idx\": d[\"movie_idx\"], \"title\": d[\"title\"], \"original_text\": d[\"original_text\"]}\n",
        "        for d in docs\n",
        "    ]\n",
        "    documents = [d[\"chunk_text\"] for d in docs]  # texts we will embed\n",
        "\n",
        "    # embed documents in batches to avoid memory blowups\n",
        "    for i in range(0, len(documents), batch_size):\n",
        "        batch_texts = documents[i : i + batch_size]\n",
        "        batch_ids = ids[i : i + batch_size]\n",
        "        batch_metas = metadatas[i : i + batch_size]\n",
        "\n",
        "        # compute embeddings for this batch\n",
        "        batch_emb = embed_texts(batch_texts, batch_size=batch_size)\n",
        "\n",
        "        # add to chroma with explicit embeddings\n",
        "        collection.add(ids=batch_ids, documents=batch_texts, metadatas=batch_metas, embeddings=batch_emb)"
      ],
      "metadata": {
        "id": "TyGnUyNTPdXI"
      },
      "execution_count": null,
      "outputs": []
    },
    {
      "cell_type": "code",
      "source": [
        "def query_movies(query: str, collection, top_k: int = TOP_K) -> List[Dict[str, str]]:\n",
        "    \"\"\"Return top_k similar movies for a textual query.\n",
        "\n",
        "    Returns a list of dicts with title and matched snippet (original_text) and score.\n",
        "    \"\"\"\n",
        "    # clean + lemmatize query the same way we processed docs\n",
        "    q_clean = lemmatize_and_filter(query, remove_stopwords=True)\n",
        "\n",
        "    # embed the cleaned query\n",
        "    q_emb = embed_texts([q_clean], batch_size=1)[0]\n",
        "\n",
        "    # ask chroma for similar vectors via embeddings\n",
        "    res = collection.query(query_embeddings=[q_emb], n_results=top_k, include=['metadatas', 'distances'])\n",
        "\n",
        "    # Debugging: Print the structure of the results returned by ChromaDB\n",
        "    print(\"ChromaDB query result structure:\")\n",
        "    print(res)\n",
        "\n",
        "\n",
        "    # res contains 'ids', 'metadatas', 'distances' (each is a list per query)\n",
        "    results = []\n",
        "    if len(res.get('metadatas', [])) > 0:\n",
        "        for meta, dist in zip(res['metadatas'][0], res['distances'][0]):\n",
        "            # Debugging: Print each metadata dictionary\n",
        "            print(\"Metadata for a result:\")\n",
        "            print(meta)\n",
        "\n",
        "            results.append(\n",
        "                {\n",
        "                    'title': meta.get('title', ''),\n",
        "                    'matched_snippet': meta.get('original_text', ''),\n",
        "                    'distance': float(dist),\n",
        "                    'movie_idx': meta.get('movie_idx', None) # Safely get movie_idx\n",
        "                }\n",
        "            )\n",
        "    return results"
      ],
      "metadata": {
        "id": "LkTT69RPPgkW"
      },
      "execution_count": null,
      "outputs": []
    },
    {
      "cell_type": "code",
      "source": [
        "# ---------- 10) Putting it together: high-level run function ----------\n",
        "def build_and_index(csv_path: str = CSV_PATH, persist_dir: str = CHROMA_PERSIST_DIR):\n",
        "    \"\"\"Load CSV, build docs, create chroma, and index all documents.\n",
        "\n",
        "    Returns (client, collection, dataframe) for user interaction.\n",
        "    \"\"\"\n",
        "    # 1. load dataframe\n",
        "    df = load_and_prepare_dataframe(csv_path)\n",
        "\n",
        "    # 2. build documents (clean + chunk + lemmatize)\n",
        "    docs = build_documents(df)\n",
        "\n",
        "    # 3. create chroma client and collection (persistent)\n",
        "    client, collection = create_chroma_collection(persist_dir=persist_dir)\n",
        "\n",
        "    # 4. index documents into chroma\n",
        "    index_documents_to_chroma(docs, collection)\n",
        "\n",
        "    # 5. persist chroma to disk (so it can be reopened later)\n",
        "    # client.persist() # This line is no longer needed in newer ChromaDB versions\n",
        "\n",
        "    return client, collection, df"
      ],
      "metadata": {
        "id": "saymiC53PjmI"
      },
      "execution_count": null,
      "outputs": []
    },
    {
      "cell_type": "code",
      "source": [
        "\n",
        "if __name__ == \"__main__\":\n",
        "    # main runs when the script is called directly\n",
        "\n",
        "    # 1) build the DB and index all movies from the CSV\n",
        "    print(\"Loading CSV, cleaning text, building embeddings, and indexing into ChromaDB...\")\n",
        "    client, collection, df = build_and_index()\n",
        "    print(\"Indexing complete. You can now run queries.\")"
      ],
      "metadata": {
        "colab": {
          "base_uri": "https://localhost:8080/"
        },
        "id": "RqLfzFYmv8AO",
        "outputId": "9623daee-c7b1-4e3d-88ab-aa061dacd558"
      },
      "execution_count": null,
      "outputs": [
        {
          "output_type": "stream",
          "name": "stdout",
          "text": [
            "Loading CSV, cleaning text, building embeddings, and indexing into ChromaDB...\n",
            "Indexing complete. You can now run queries.\n"
          ]
        }
      ]
    },
    {
      "cell_type": "code",
      "execution_count": null,
      "metadata": {
        "colab": {
          "base_uri": "https://localhost:8080/",
          "height": 766
        },
        "id": "fHny5H8iKNmu",
        "outputId": "f64844d5-db60-40b7-a7ca-4f149c7d06d7"
      },
      "outputs": [
        {
          "output_type": "stream",
          "name": "stdout",
          "text": [
            "Querying for: space adventure with a strong female lead\n",
            "ChromaDB query result structure:\n",
            "{'ids': [['575_0', '582_0', '223_0', '357_0', '796_0']], 'embeddings': None, 'documents': None, 'uris': None, 'included': ['metadatas', 'distances'], 'data': None, 'metadatas': [[{'title': 'Hidden Figures', 'movie_idx': 575, 'original_text': 'Hidden Figures. The story of a team of female African-American mathematicians who served a vital role in NASA during the early years of the U.S. space program.'}, {'movie_idx': 582, 'title': 'Rogue One', 'original_text': 'Rogue One. The daughter of an Imperial scientist joins the Rebel Alliance in a risky move to steal the plans for the Death Star.'}, {'original_text': 'Mad Max: Fury Road. In a post-apocalyptic wasteland, a woman rebels against a tyrannical ruler in search for her homeland with the aid of a group of female prisoners, a psychotic worshiper, and a drifter named Max.', 'movie_idx': 223, 'title': 'Mad Max: Fury Road'}, {'movie_idx': 357, 'title': 'The Avengers', 'original_text': \"The Avengers. Earth's mightiest heroes must come together and learn to fight as a team if they are going to stop the mischievous Loki and his alien army from enslaving humanity.\"}, {'movie_idx': 796, 'title': 'Vampire Hunter D: Bloodlust', 'original_text': 'Vampire Hunter D: Bloodlust. When a girl is abducted by a vampire, a legendary bounty hunter is hired to bring her back.'}]], 'distances': [[1.0285027027130127, 1.141618013381958, 1.1932700872421265, 1.2336511611938477, 1.247377872467041]]}\n",
            "Metadata for a result:\n",
            "{'title': 'Hidden Figures', 'movie_idx': 575, 'original_text': 'Hidden Figures. The story of a team of female African-American mathematicians who served a vital role in NASA during the early years of the U.S. space program.'}\n",
            "Metadata for a result:\n",
            "{'movie_idx': 582, 'title': 'Rogue One', 'original_text': 'Rogue One. The daughter of an Imperial scientist joins the Rebel Alliance in a risky move to steal the plans for the Death Star.'}\n",
            "Metadata for a result:\n",
            "{'original_text': 'Mad Max: Fury Road. In a post-apocalyptic wasteland, a woman rebels against a tyrannical ruler in search for her homeland with the aid of a group of female prisoners, a psychotic worshiper, and a drifter named Max.', 'movie_idx': 223, 'title': 'Mad Max: Fury Road'}\n",
            "Metadata for a result:\n",
            "{'movie_idx': 357, 'title': 'The Avengers', 'original_text': \"The Avengers. Earth's mightiest heroes must come together and learn to fight as a team if they are going to stop the mischievous Loki and his alien army from enslaving humanity.\"}\n",
            "Metadata for a result:\n",
            "{'movie_idx': 796, 'title': 'Vampire Hunter D: Bloodlust', 'original_text': 'Vampire Hunter D: Bloodlust. When a girl is abducted by a vampire, a legendary bounty hunter is hired to bring her back.'}\n",
            "\n",
            "--- Recommended Movies ---\n",
            "\n",
            "Result 1: title=Hidden Figures\n",
            "Explanation: Forget your laser swords and spaceships; *Hidden Figures* delivers a different kind of space adventure, a thrilling, untold story of brilliance and courage.  These aren't just strong female leads, they're groundbreaking mathematicians battling both the cosmos *and* systemic prejudice, making their journey all the more inspiring.  Get ready for a blast-off of a different kind – one fueled by intellect and determination.\n",
            "\n",
            "Distance: 1.0285\n",
            "\n",
            "Result 2: title=Rogue One\n",
            "Explanation: Ah, a space adventure with a strong female lead you crave?  Then buckle up, buttercup, because *Rogue One* delivers a thrilling heist in the vast expanse of space,  with Felicity Jones as Jyn Erso, a rebel who's not just brave, but fiercely independent and morally complex. Forget damsels; this is a heroine forging her own destiny against the galactic empire – and it's spectacular!\n",
            "\n",
            "Distance: 1.1416\n",
            "\n",
            "Result 3: title=Mad Max: Fury Road\n",
            "Explanation: Forget spaceships – *Fury Road* delivers a breathtaking, visceral space *opera* on Earth!  While it's not literally in space, its desolate landscape and relentless action offer a similarly epic scope, centered around Imperator Furiosa, a female warrior who's the definition of \"strong lead.\"  Think of it as a high-octane, post-apocalyptic *Star Wars* with killer car chases instead of lightsaber duels.\n",
            "\n",
            "Distance: 1.1933\n",
            "\n",
            "Result 4: title=The Avengers\n",
            "Explanation: Oh, honey, you want a space adventure with a *strong* female lead?  While Black Widow might not be front and center, *The Avengers* delivers a powerhouse performance from Scarlett Johansson, a crucial player in this intergalactic brawl.  Plus, the sheer scale of the alien invasion and the ensemble cast make this a cosmic team-up you won't forget.\n",
            "\n",
            "Distance: 1.2337\n",
            "\n",
            "Result 5: title=Vampire Hunter D: Bloodlust\n",
            "Explanation: Forget spaceships; this is a *blood-soaked* adventure!  While lacking literal space travel,  'Vampire Hunter D: Bloodlust' delivers a dark, stylish universe brimming with gothic flair, and the abducted girl, though initially a damsel, demonstrates surprising resilience in the face of unspeakable horror.  Think \"Buffy the Vampire Slayer\" meets a high-fantasy anime – a strong, albeit unconventional, female lead battling creatures far more terrifying than any alien.\n",
            "\n",
            "Distance: 1.2474\n",
            "\n",
            "--- End of Recommendations ---\n"
          ]
        }
      ],
      "source": [
        "# 2) query example (change the query text to experiment)\n",
        "query_text = \"space adventure with a strong female lead\"\n",
        "print(f\"Querying for: {query_text}\")\n",
        "hits = query_movies(query_text, collection, top_k=5)\n",
        "\n",
        "# 3) show results with Gemini explanation\n",
        "print(\"\\n--- Recommended Movies ---\")\n",
        "for i, h in enumerate(hits):\n",
        "    print(f\"\\nResult {i+1}: title={h['title']}\")\n",
        "\n",
        "    # Get the full description from the original dataframe using the movie_idx\n",
        "    original_movie_idx = h['movie_idx']\n",
        "    full_description = df.loc[original_movie_idx, 'description']\n",
        "\n",
        "    # Use Gemini to generate an explanation\n",
        "    try:\n",
        "        prompt = f\"\"\"\n",
        "You are a witty movie guide recommending films.\n",
        "Explain why the movie '{h['title']}' with the description '{full_description}'\n",
        "is an exciting match for the query '{query_text}'.\n",
        "\n",
        "- Do NOT repeat the same sentence structure each time.\n",
        "- Make the explanation engaging and a bit creative (like a movie critic or storyteller).\n",
        "- Highlight what makes the movie unique or appealing to someone with that query.\n",
        "- Keep the explanation short (2–3 sentences).\n",
        "\"\"\"\n",
        "        explanation_response = gemini_model.generate_content(prompt)\n",
        "        explanation = explanation_response.text\n",
        "        print(f\"Explanation: {explanation}\")\n",
        "\n",
        "    except Exception as e:\n",
        "        print(f\"Could not generate explanation: {e}\")\n",
        "        print(f\"Matched snippet: {h['matched_snippet'][:300]}...\") # Fallback to showing snippet\n",
        "\n",
        "    print(f\"Distance: {h['distance']:.4f}\")\n",
        "\n",
        "print(\"\\n--- End of Recommendations ---\")"
      ]
    },
    {
      "cell_type": "code",
      "metadata": {
        "id": "6e805392"
      },
      "source": [
        "print(CSV_PATH)"
      ],
      "execution_count": null,
      "outputs": []
    },
    {
      "cell_type": "code",
      "metadata": {
        "id": "4edebd37"
      },
      "source": [
        "!ls -l \"$CSV_PATH\""
      ],
      "execution_count": null,
      "outputs": []
    },
    {
      "cell_type": "code",
      "metadata": {
        "colab": {
          "base_uri": "https://localhost:8080/",
          "height": 206
        },
        "id": "f6906939",
        "outputId": "712158d4-2931-4e1b-c55d-d18b35b68114"
      },
      "source": [
        "display(df.head())"
      ],
      "execution_count": null,
      "outputs": [
        {
          "output_type": "display_data",
          "data": {
            "text/plain": [
              "                      title  \\\n",
              "0  The Shawshank Redemption   \n",
              "1             The Godfather   \n",
              "2           The Dark Knight   \n",
              "3    The Godfather: Part II   \n",
              "4              12 Angry Men   \n",
              "\n",
              "                                         description  \\\n",
              "0  Two imprisoned men bond over a number of years...   \n",
              "1  An organized crime dynasty's aging patriarch t...   \n",
              "2  When the menace known as the Joker wreaks havo...   \n",
              "3  The early life and career of Vito Corleone in ...   \n",
              "4  A jury holdout attempts to prevent a miscarria...   \n",
              "\n",
              "                                        combined_raw  \n",
              "0  The Shawshank Redemption. Two imprisoned men b...  \n",
              "1  The Godfather. An organized crime dynasty's ag...  \n",
              "2  The Dark Knight. When the menace known as the ...  \n",
              "3  The Godfather: Part II. The early life and car...  \n",
              "4  12 Angry Men. A jury holdout attempts to preve...  "
            ],
            "text/html": [
              "\n",
              "  <div id=\"df-c8ad4706-4f85-4757-843a-6a90e05973eb\" class=\"colab-df-container\">\n",
              "    <div>\n",
              "<style scoped>\n",
              "    .dataframe tbody tr th:only-of-type {\n",
              "        vertical-align: middle;\n",
              "    }\n",
              "\n",
              "    .dataframe tbody tr th {\n",
              "        vertical-align: top;\n",
              "    }\n",
              "\n",
              "    .dataframe thead th {\n",
              "        text-align: right;\n",
              "    }\n",
              "</style>\n",
              "<table border=\"1\" class=\"dataframe\">\n",
              "  <thead>\n",
              "    <tr style=\"text-align: right;\">\n",
              "      <th></th>\n",
              "      <th>title</th>\n",
              "      <th>description</th>\n",
              "      <th>combined_raw</th>\n",
              "    </tr>\n",
              "  </thead>\n",
              "  <tbody>\n",
              "    <tr>\n",
              "      <th>0</th>\n",
              "      <td>The Shawshank Redemption</td>\n",
              "      <td>Two imprisoned men bond over a number of years...</td>\n",
              "      <td>The Shawshank Redemption. Two imprisoned men b...</td>\n",
              "    </tr>\n",
              "    <tr>\n",
              "      <th>1</th>\n",
              "      <td>The Godfather</td>\n",
              "      <td>An organized crime dynasty's aging patriarch t...</td>\n",
              "      <td>The Godfather. An organized crime dynasty's ag...</td>\n",
              "    </tr>\n",
              "    <tr>\n",
              "      <th>2</th>\n",
              "      <td>The Dark Knight</td>\n",
              "      <td>When the menace known as the Joker wreaks havo...</td>\n",
              "      <td>The Dark Knight. When the menace known as the ...</td>\n",
              "    </tr>\n",
              "    <tr>\n",
              "      <th>3</th>\n",
              "      <td>The Godfather: Part II</td>\n",
              "      <td>The early life and career of Vito Corleone in ...</td>\n",
              "      <td>The Godfather: Part II. The early life and car...</td>\n",
              "    </tr>\n",
              "    <tr>\n",
              "      <th>4</th>\n",
              "      <td>12 Angry Men</td>\n",
              "      <td>A jury holdout attempts to prevent a miscarria...</td>\n",
              "      <td>12 Angry Men. A jury holdout attempts to preve...</td>\n",
              "    </tr>\n",
              "  </tbody>\n",
              "</table>\n",
              "</div>\n",
              "    <div class=\"colab-df-buttons\">\n",
              "\n",
              "  <div class=\"colab-df-container\">\n",
              "    <button class=\"colab-df-convert\" onclick=\"convertToInteractive('df-c8ad4706-4f85-4757-843a-6a90e05973eb')\"\n",
              "            title=\"Convert this dataframe to an interactive table.\"\n",
              "            style=\"display:none;\">\n",
              "\n",
              "  <svg xmlns=\"http://www.w3.org/2000/svg\" height=\"24px\" viewBox=\"0 -960 960 960\">\n",
              "    <path d=\"M120-120v-720h720v720H120Zm60-500h600v-160H180v160Zm220 220h160v-160H400v160Zm0 220h160v-160H400v160ZM180-400h160v-160H180v160Zm440 0h160v-160H620v160ZM180-180h160v-160H180v160Zm440 0h160v-160H620v160Z\"/>\n",
              "  </svg>\n",
              "    </button>\n",
              "\n",
              "  <style>\n",
              "    .colab-df-container {\n",
              "      display:flex;\n",
              "      gap: 12px;\n",
              "    }\n",
              "\n",
              "    .colab-df-convert {\n",
              "      background-color: #E8F0FE;\n",
              "      border: none;\n",
              "      border-radius: 50%;\n",
              "      cursor: pointer;\n",
              "      display: none;\n",
              "      fill: #1967D2;\n",
              "      height: 32px;\n",
              "      padding: 0 0 0 0;\n",
              "      width: 32px;\n",
              "    }\n",
              "\n",
              "    .colab-df-convert:hover {\n",
              "      background-color: #E2EBFA;\n",
              "      box-shadow: 0px 1px 2px rgba(60, 64, 67, 0.3), 0px 1px 3px 1px rgba(60, 64, 67, 0.15);\n",
              "      fill: #174EA6;\n",
              "    }\n",
              "\n",
              "    .colab-df-buttons div {\n",
              "      margin-bottom: 4px;\n",
              "    }\n",
              "\n",
              "    [theme=dark] .colab-df-convert {\n",
              "      background-color: #3B4455;\n",
              "      fill: #D2E3FC;\n",
              "    }\n",
              "\n",
              "    [theme=dark] .colab-df-convert:hover {\n",
              "      background-color: #434B5C;\n",
              "      box-shadow: 0px 1px 3px 1px rgba(0, 0, 0, 0.15);\n",
              "      filter: drop-shadow(0px 1px 2px rgba(0, 0, 0, 0.3));\n",
              "      fill: #FFFFFF;\n",
              "    }\n",
              "  </style>\n",
              "\n",
              "    <script>\n",
              "      const buttonEl =\n",
              "        document.querySelector('#df-c8ad4706-4f85-4757-843a-6a90e05973eb button.colab-df-convert');\n",
              "      buttonEl.style.display =\n",
              "        google.colab.kernel.accessAllowed ? 'block' : 'none';\n",
              "\n",
              "      async function convertToInteractive(key) {\n",
              "        const element = document.querySelector('#df-c8ad4706-4f85-4757-843a-6a90e05973eb');\n",
              "        const dataTable =\n",
              "          await google.colab.kernel.invokeFunction('convertToInteractive',\n",
              "                                                    [key], {});\n",
              "        if (!dataTable) return;\n",
              "\n",
              "        const docLinkHtml = 'Like what you see? Visit the ' +\n",
              "          '<a target=\"_blank\" href=https://colab.research.google.com/notebooks/data_table.ipynb>data table notebook</a>'\n",
              "          + ' to learn more about interactive tables.';\n",
              "        element.innerHTML = '';\n",
              "        dataTable['output_type'] = 'display_data';\n",
              "        await google.colab.output.renderOutput(dataTable, element);\n",
              "        const docLink = document.createElement('div');\n",
              "        docLink.innerHTML = docLinkHtml;\n",
              "        element.appendChild(docLink);\n",
              "      }\n",
              "    </script>\n",
              "  </div>\n",
              "\n",
              "\n",
              "    <div id=\"df-ba8ed459-0449-42b7-95f4-02be65ce5eab\">\n",
              "      <button class=\"colab-df-quickchart\" onclick=\"quickchart('df-ba8ed459-0449-42b7-95f4-02be65ce5eab')\"\n",
              "                title=\"Suggest charts\"\n",
              "                style=\"display:none;\">\n",
              "\n",
              "<svg xmlns=\"http://www.w3.org/2000/svg\" height=\"24px\"viewBox=\"0 0 24 24\"\n",
              "     width=\"24px\">\n",
              "    <g>\n",
              "        <path d=\"M19 3H5c-1.1 0-2 .9-2 2v14c0 1.1.9 2 2 2h14c1.1 0 2-.9 2-2V5c0-1.1-.9-2-2-2zM9 17H7v-7h2v7zm4 0h-2V7h2v10zm4 0h-2v-4h2v4z\"/>\n",
              "    </g>\n",
              "</svg>\n",
              "      </button>\n",
              "\n",
              "<style>\n",
              "  .colab-df-quickchart {\n",
              "      --bg-color: #E8F0FE;\n",
              "      --fill-color: #1967D2;\n",
              "      --hover-bg-color: #E2EBFA;\n",
              "      --hover-fill-color: #174EA6;\n",
              "      --disabled-fill-color: #AAA;\n",
              "      --disabled-bg-color: #DDD;\n",
              "  }\n",
              "\n",
              "  [theme=dark] .colab-df-quickchart {\n",
              "      --bg-color: #3B4455;\n",
              "      --fill-color: #D2E3FC;\n",
              "      --hover-bg-color: #434B5C;\n",
              "      --hover-fill-color: #FFFFFF;\n",
              "      --disabled-bg-color: #3B4455;\n",
              "      --disabled-fill-color: #666;\n",
              "  }\n",
              "\n",
              "  .colab-df-quickchart {\n",
              "    background-color: var(--bg-color);\n",
              "    border: none;\n",
              "    border-radius: 50%;\n",
              "    cursor: pointer;\n",
              "    display: none;\n",
              "    fill: var(--fill-color);\n",
              "    height: 32px;\n",
              "    padding: 0;\n",
              "    width: 32px;\n",
              "  }\n",
              "\n",
              "  .colab-df-quickchart:hover {\n",
              "    background-color: var(--hover-bg-color);\n",
              "    box-shadow: 0 1px 2px rgba(60, 64, 67, 0.3), 0 1px 3px 1px rgba(60, 64, 67, 0.15);\n",
              "    fill: var(--button-hover-fill-color);\n",
              "  }\n",
              "\n",
              "  .colab-df-quickchart-complete:disabled,\n",
              "  .colab-df-quickchart-complete:disabled:hover {\n",
              "    background-color: var(--disabled-bg-color);\n",
              "    fill: var(--disabled-fill-color);\n",
              "    box-shadow: none;\n",
              "  }\n",
              "\n",
              "  .colab-df-spinner {\n",
              "    border: 2px solid var(--fill-color);\n",
              "    border-color: transparent;\n",
              "    border-bottom-color: var(--fill-color);\n",
              "    animation:\n",
              "      spin 1s steps(1) infinite;\n",
              "  }\n",
              "\n",
              "  @keyframes spin {\n",
              "    0% {\n",
              "      border-color: transparent;\n",
              "      border-bottom-color: var(--fill-color);\n",
              "      border-left-color: var(--fill-color);\n",
              "    }\n",
              "    20% {\n",
              "      border-color: transparent;\n",
              "      border-left-color: var(--fill-color);\n",
              "      border-top-color: var(--fill-color);\n",
              "    }\n",
              "    30% {\n",
              "      border-color: transparent;\n",
              "      border-left-color: var(--fill-color);\n",
              "      border-top-color: var(--fill-color);\n",
              "      border-right-color: var(--fill-color);\n",
              "    }\n",
              "    40% {\n",
              "      border-color: transparent;\n",
              "      border-right-color: var(--fill-color);\n",
              "      border-top-color: var(--fill-color);\n",
              "    }\n",
              "    60% {\n",
              "      border-color: transparent;\n",
              "      border-right-color: var(--fill-color);\n",
              "    }\n",
              "    80% {\n",
              "      border-color: transparent;\n",
              "      border-right-color: var(--fill-color);\n",
              "      border-bottom-color: var(--fill-color);\n",
              "    }\n",
              "    90% {\n",
              "      border-color: transparent;\n",
              "      border-bottom-color: var(--fill-color);\n",
              "    }\n",
              "  }\n",
              "</style>\n",
              "\n",
              "      <script>\n",
              "        async function quickchart(key) {\n",
              "          const quickchartButtonEl =\n",
              "            document.querySelector('#' + key + ' button');\n",
              "          quickchartButtonEl.disabled = true;  // To prevent multiple clicks.\n",
              "          quickchartButtonEl.classList.add('colab-df-spinner');\n",
              "          try {\n",
              "            const charts = await google.colab.kernel.invokeFunction(\n",
              "                'suggestCharts', [key], {});\n",
              "          } catch (error) {\n",
              "            console.error('Error during call to suggestCharts:', error);\n",
              "          }\n",
              "          quickchartButtonEl.classList.remove('colab-df-spinner');\n",
              "          quickchartButtonEl.classList.add('colab-df-quickchart-complete');\n",
              "        }\n",
              "        (() => {\n",
              "          let quickchartButtonEl =\n",
              "            document.querySelector('#df-ba8ed459-0449-42b7-95f4-02be65ce5eab button');\n",
              "          quickchartButtonEl.style.display =\n",
              "            google.colab.kernel.accessAllowed ? 'block' : 'none';\n",
              "        })();\n",
              "      </script>\n",
              "    </div>\n",
              "\n",
              "    </div>\n",
              "  </div>\n"
            ],
            "application/vnd.google.colaboratory.intrinsic+json": {
              "type": "dataframe",
              "summary": "{\n  \"name\": \"display(df\",\n  \"rows\": 5,\n  \"fields\": [\n    {\n      \"column\": \"title\",\n      \"properties\": {\n        \"dtype\": \"string\",\n        \"num_unique_values\": 5,\n        \"samples\": [\n          \"The Godfather\",\n          \"12 Angry Men\",\n          \"The Dark Knight\"\n        ],\n        \"semantic_type\": \"\",\n        \"description\": \"\"\n      }\n    },\n    {\n      \"column\": \"description\",\n      \"properties\": {\n        \"dtype\": \"string\",\n        \"num_unique_values\": 5,\n        \"samples\": [\n          \"An organized crime dynasty's aging patriarch transfers control of his clandestine empire to his reluctant son.\",\n          \"A jury holdout attempts to prevent a miscarriage of justice by forcing his colleagues to reconsider the evidence.\",\n          \"When the menace known as the Joker wreaks havoc and chaos on the people of Gotham, Batman must accept one of the greatest psychological and physical tests of his ability to fight injustice.\"\n        ],\n        \"semantic_type\": \"\",\n        \"description\": \"\"\n      }\n    },\n    {\n      \"column\": \"combined_raw\",\n      \"properties\": {\n        \"dtype\": \"string\",\n        \"num_unique_values\": 5,\n        \"samples\": [\n          \"The Godfather. An organized crime dynasty's aging patriarch transfers control of his clandestine empire to his reluctant son.\",\n          \"12 Angry Men. A jury holdout attempts to prevent a miscarriage of justice by forcing his colleagues to reconsider the evidence.\",\n          \"The Dark Knight. When the menace known as the Joker wreaks havoc and chaos on the people of Gotham, Batman must accept one of the greatest psychological and physical tests of his ability to fight injustice.\"\n        ],\n        \"semantic_type\": \"\",\n        \"description\": \"\"\n      }\n    }\n  ]\n}"
            }
          },
          "metadata": {}
        }
      ]
    },
    {
      "cell_type": "code",
      "metadata": {
        "colab": {
          "base_uri": "https://localhost:8080/"
        },
        "id": "283ae777",
        "outputId": "32cdbaf8-fa52-4648-af60-f577cf6b0dc5"
      },
      "source": [
        "csv_path = \"/content/drive/MyDrive/imdb_top_1000.csv\" # Make sure this path is correct\n",
        "num_lines_to_show = 5\n",
        "\n",
        "try:\n",
        "    with open(csv_path, 'r', encoding='utf-8') as f:\n",
        "        for i in range(num_lines_to_show):\n",
        "            line = f.readline()\n",
        "            if not line:\n",
        "                break\n",
        "            print(line.strip())\n",
        "except FileNotFoundError:\n",
        "    print(f\"Error: The file was not found at {csv_path}\")\n",
        "except Exception as e:\n",
        "    print(f\"An error occurred: {e}\")"
      ],
      "execution_count": null,
      "outputs": [
        {
          "output_type": "stream",
          "name": "stdout",
          "text": [
            "Poster_Link,Series_Title,Released_Year,Certificate,Runtime,Genre,IMDB_Rating,Overview,Meta_score,Director,Star1,Star2,Star3,Star4,No_of_Votes,Gross\n",
            "\"https://m.media-amazon.com/images/M/MV5BMDFkYTc0MGEtZmNhMC00ZDIzLWFmNTEtODM1ZmRlYWMwMWFmXkEyXkFqcGdeQXVyMTMxODk2OTU@._V1_UX67_CR0,0,67,98_AL_.jpg\",The Shawshank Redemption,1994,A,142 min,Drama,9.3,\"Two imprisoned men bond over a number of years, finding solace and eventual redemption through acts of common decency.\",80,Frank Darabont,Tim Robbins,Morgan Freeman,Bob Gunton,William Sadler,2343110,\"28,341,469\"\n",
            "\"https://m.media-amazon.com/images/M/MV5BM2MyNjYxNmUtYTAwNi00MTYxLWJmNWYtYzZlODY3ZTk3OTFlXkEyXkFqcGdeQXVyNzkwMjQ5NzM@._V1_UY98_CR1,0,67,98_AL_.jpg\",The Godfather,1972,A,175 min,\"Crime, Drama\",9.2,An organized crime dynasty's aging patriarch transfers control of his clandestine empire to his reluctant son.,100,Francis Ford Coppola,Marlon Brando,Al Pacino,James Caan,Diane Keaton,1620367,\"134,966,411\"\n",
            "\"https://m.media-amazon.com/images/M/MV5BMTMxNTMwODM0NF5BMl5BanBnXkFtZTcwODAyMTk2Mw@@._V1_UX67_CR0,0,67,98_AL_.jpg\",The Dark Knight,2008,UA,152 min,\"Action, Crime, Drama\",9,\"When the menace known as the Joker wreaks havoc and chaos on the people of Gotham, Batman must accept one of the greatest psychological and physical tests of his ability to fight injustice.\",84,Christopher Nolan,Christian Bale,Heath Ledger,Aaron Eckhart,Michael Caine,2303232,\"534,858,444\"\n",
            "\"https://m.media-amazon.com/images/M/MV5BMWMwMGQzZTItY2JlNC00OWZiLWIyMDctNDk2ZDQ2YjRjMWQ0XkEyXkFqcGdeQXVyNzkwMjQ5NzM@._V1_UY98_CR1,0,67,98_AL_.jpg\",The Godfather: Part II,1974,A,202 min,\"Crime, Drama\",9,\"The early life and career of Vito Corleone in 1920s New York City is portrayed, while his son, Michael, expands and tightens his grip on the family crime syndicate.\",90,Francis Ford Coppola,Al Pacino,Robert De Niro,Robert Duvall,Diane Keaton,1129952,\"57,300,000\"\n"
          ]
        }
      ]
    },
    {
      "cell_type": "markdown",
      "metadata": {
        "id": "f2347e13"
      },
      "source": [
        "To use the Gemini API, you'll need an API key. If you don't already have one, create a key in Google AI Studio.\n",
        "In Colab, add the key to the secrets manager under the \"🔑\" in the left panel. Give it the name `GOOGLE_API_KEY`. Then pass the key to the SDK:"
      ]
    },
    {
      "cell_type": "code",
      "metadata": {
        "id": "f2fcf9e7"
      },
      "source": [
        "!pip install -q google-generativeai"
      ],
      "execution_count": null,
      "outputs": []
    },
    {
      "cell_type": "code",
      "metadata": {
        "colab": {
          "base_uri": "https://localhost:8080/"
        },
        "id": "8b83ea24",
        "outputId": "2c16e3f6-8c35-4b4b-dc43-3146cd586ea7"
      },
      "source": [
        "# Import the Python SDK\n",
        "import google.generativeai as genai\n",
        "# Used to securely store your API key\n",
        "from google.colab import userdata\n",
        "\n",
        "try:\n",
        "  GOOGLE_API_KEY=userdata.get('GOOGLE_API_KEY')\n",
        "  if not GOOGLE_API_KEY:\n",
        "    raise ValueError(\"API key not found.\")\n",
        "  genai.configure(api_key=GOOGLE_API_KEY)\n",
        "  print(\"Gemini API configured successfully.\")\n",
        "except ValueError as e:\n",
        "  print(e)\n",
        "  print(\"Please add your API key to Colab secrets named GOOGLE_API_KEY.\")"
      ],
      "execution_count": null,
      "outputs": [
        {
          "output_type": "stream",
          "name": "stdout",
          "text": [
            "Gemini API configured successfully.\n"
          ]
        }
      ]
    },
    {
      "cell_type": "markdown",
      "metadata": {
        "id": "03eb661a"
      },
      "source": [
        "Before you can make any API calls, you need to initialize a Generative Model."
      ]
    },
    {
      "cell_type": "code",
      "metadata": {
        "colab": {
          "base_uri": "https://localhost:8080/"
        },
        "id": "aff2eb83",
        "outputId": "de2597fe-1d62-47a0-9ed8-2ce390cb173a"
      },
      "source": [
        "try:\n",
        "  gemini_model = genai.GenerativeModel('gemini-1.5-flash-latest')\n",
        "  print(\"Gemini model initialized.\")\n",
        "except Exception as e:\n",
        "  print(f\"Error initializing Gemini model: {e}\")\n",
        "  print(\"Please ensure your API key is valid and the model name is correct.\")"
      ],
      "execution_count": null,
      "outputs": [
        {
          "output_type": "stream",
          "name": "stdout",
          "text": [
            "Gemini model initialized.\n"
          ]
        }
      ]
    },
    {
      "cell_type": "markdown",
      "metadata": {
        "id": "97220be2"
      },
      "source": [
        "# Task\n",
        "Create an ADK interface for the movie recommendation system using Gradio. The interface should take a user query as input and display intelligent movie recommendations generated by the system, explaining why each movie is relevant. Use the existing functions for loading data, building the ChromaDB index, and querying for recommendations. The dataset is located at \"/content/imdb_top_1000.csv\"."
      ]
    },
    {
      "cell_type": "markdown",
      "metadata": {
        "id": "4aed9f28"
      },
      "source": [
        "## Define the adk tool\n",
        "\n",
        "### Subtask:\n",
        "Create a Python class that inherits from `google_adk.AgentTool` and define the tool's specification (name, description, parameters).\n"
      ]
    },
    {
      "cell_type": "markdown",
      "metadata": {
        "id": "bb96b648"
      },
      "source": [
        "**Reasoning**:\n",
        "I need to define a Python class that inherits from `google_adk.AgentTool` and specify its interface using `ToolSpecification` and `ToolParameter`. I will import the necessary classes and then define the `MovieRecommendationTool` class with its `tool_spec`.\n",
        "\n"
      ]
    },
    {
      "cell_type": "markdown",
      "metadata": {
        "id": "93afd90b"
      },
      "source": [
        "**Reasoning**:\n",
        "The previous command failed because the `google_adk` library is not installed. I need to install this library before I can import and use its classes.\n",
        "\n"
      ]
    },
    {
      "cell_type": "code",
      "metadata": {
        "colab": {
          "base_uri": "https://localhost:8080/"
        },
        "id": "roNI-KCP1ceY",
        "outputId": "5c7af2d4-1b82-487d-c57d-fad239950d31"
      },
      "source": [
        "!pip install google-adk"
      ],
      "execution_count": null,
      "outputs": [
        {
          "output_type": "stream",
          "name": "stdout",
          "text": [
            "Requirement already satisfied: google-adk in /usr/local/lib/python3.12/dist-packages (1.12.0)\n",
            "Requirement already satisfied: PyYAML<7.0.0,>=6.0.2 in /usr/local/lib/python3.12/dist-packages (from google-adk) (6.0.2)\n",
            "Requirement already satisfied: absolufy-imports<1.0.0,>=0.3.1 in /usr/local/lib/python3.12/dist-packages (from google-adk) (0.3.1)\n",
            "Requirement already satisfied: anyio<5.0.0,>=4.9.0 in /usr/local/lib/python3.12/dist-packages (from google-adk) (4.10.0)\n",
            "Requirement already satisfied: authlib<2.0.0,>=1.5.1 in /usr/local/lib/python3.12/dist-packages (from google-adk) (1.6.2)\n",
            "Requirement already satisfied: click<9.0.0,>=8.1.8 in /usr/local/lib/python3.12/dist-packages (from google-adk) (8.2.1)\n",
            "Requirement already satisfied: fastapi<1.0.0,>=0.115.0 in /usr/local/lib/python3.12/dist-packages (from google-adk) (0.116.1)\n",
            "Requirement already satisfied: google-api-python-client<3.0.0,>=2.157.0 in /usr/local/lib/python3.12/dist-packages (from google-adk) (2.179.0)\n",
            "Requirement already satisfied: google-cloud-bigtable>=2.32.0 in /usr/local/lib/python3.12/dist-packages (from google-adk) (2.32.0)\n",
            "Requirement already satisfied: google-cloud-aiplatform<2.0.0,>=1.95.1 in /usr/local/lib/python3.12/dist-packages (from google-cloud-aiplatform[agent-engines]<2.0.0,>=1.95.1->google-adk) (1.110.0)\n",
            "Requirement already satisfied: google-cloud-secret-manager<3.0.0,>=2.22.0 in /usr/local/lib/python3.12/dist-packages (from google-adk) (2.24.0)\n",
            "Requirement already satisfied: google-cloud-spanner<4.0.0,>=3.56.0 in /usr/local/lib/python3.12/dist-packages (from google-adk) (3.57.0)\n",
            "Requirement already satisfied: google-cloud-speech<3.0.0,>=2.30.0 in /usr/local/lib/python3.12/dist-packages (from google-adk) (2.33.0)\n",
            "Requirement already satisfied: google-cloud-storage<3.0.0,>=2.18.0 in /usr/local/lib/python3.12/dist-packages (from google-adk) (2.19.0)\n",
            "Requirement already satisfied: google-genai<2.0.0,>=1.21.1 in /usr/local/lib/python3.12/dist-packages (from google-adk) (1.31.0)\n",
            "Requirement already satisfied: graphviz<1.0.0,>=0.20.2 in /usr/local/lib/python3.12/dist-packages (from google-adk) (0.21)\n",
            "Requirement already satisfied: mcp<2.0.0,>=1.8.0 in /usr/local/lib/python3.12/dist-packages (from google-adk) (1.13.1)\n",
            "Requirement already satisfied: opentelemetry-api<2.0.0,>=1.31.0 in /usr/local/lib/python3.12/dist-packages (from google-adk) (1.36.0)\n",
            "Requirement already satisfied: opentelemetry-exporter-gcp-trace<2.0.0,>=1.9.0 in /usr/local/lib/python3.12/dist-packages (from google-adk) (1.9.0)\n",
            "Requirement already satisfied: opentelemetry-sdk<2.0.0,>=1.31.0 in /usr/local/lib/python3.12/dist-packages (from google-adk) (1.36.0)\n",
            "Requirement already satisfied: pydantic<3.0.0,>=2.0 in /usr/local/lib/python3.12/dist-packages (from google-adk) (2.11.7)\n",
            "Requirement already satisfied: python-dateutil<3.0.0,>=2.9.0.post0 in /usr/local/lib/python3.12/dist-packages (from google-adk) (2.9.0.post0)\n",
            "Requirement already satisfied: python-dotenv<2.0.0,>=1.0.0 in /usr/local/lib/python3.12/dist-packages (from google-adk) (1.1.1)\n",
            "Requirement already satisfied: requests<3.0.0,>=2.32.4 in /usr/local/lib/python3.12/dist-packages (from google-adk) (2.32.4)\n",
            "Requirement already satisfied: sqlalchemy<3.0.0,>=2.0 in /usr/local/lib/python3.12/dist-packages (from google-adk) (2.0.43)\n",
            "Requirement already satisfied: starlette<1.0.0,>=0.46.2 in /usr/local/lib/python3.12/dist-packages (from google-adk) (0.47.3)\n",
            "Requirement already satisfied: tenacity<9.0.0,>=8.0.0 in /usr/local/lib/python3.12/dist-packages (from google-adk) (8.5.0)\n",
            "Requirement already satisfied: typing-extensions<5,>=4.5 in /usr/local/lib/python3.12/dist-packages (from google-adk) (4.15.0)\n",
            "Requirement already satisfied: tzlocal<6.0,>=5.3 in /usr/local/lib/python3.12/dist-packages (from google-adk) (5.3.1)\n",
            "Requirement already satisfied: uvicorn<1.0.0,>=0.34.0 in /usr/local/lib/python3.12/dist-packages (from google-adk) (0.35.0)\n",
            "Requirement already satisfied: watchdog<7.0.0,>=6.0.0 in /usr/local/lib/python3.12/dist-packages (from google-adk) (6.0.0)\n",
            "Requirement already satisfied: websockets<16.0.0,>=15.0.1 in /usr/local/lib/python3.12/dist-packages (from google-adk) (15.0.1)\n",
            "Requirement already satisfied: idna>=2.8 in /usr/local/lib/python3.12/dist-packages (from anyio<5.0.0,>=4.9.0->google-adk) (3.10)\n",
            "Requirement already satisfied: sniffio>=1.1 in /usr/local/lib/python3.12/dist-packages (from anyio<5.0.0,>=4.9.0->google-adk) (1.3.1)\n",
            "Requirement already satisfied: cryptography in /usr/local/lib/python3.12/dist-packages (from authlib<2.0.0,>=1.5.1->google-adk) (43.0.3)\n",
            "Requirement already satisfied: httplib2<1.0.0,>=0.19.0 in /usr/local/lib/python3.12/dist-packages (from google-api-python-client<3.0.0,>=2.157.0->google-adk) (0.22.0)\n",
            "Requirement already satisfied: google-auth!=2.24.0,!=2.25.0,<3.0.0,>=1.32.0 in /usr/local/lib/python3.12/dist-packages (from google-api-python-client<3.0.0,>=2.157.0->google-adk) (2.38.0)\n",
            "Requirement already satisfied: google-auth-httplib2<1.0.0,>=0.2.0 in /usr/local/lib/python3.12/dist-packages (from google-api-python-client<3.0.0,>=2.157.0->google-adk) (0.2.0)\n",
            "Requirement already satisfied: google-api-core!=2.0.*,!=2.1.*,!=2.2.*,!=2.3.0,<3.0.0,>=1.31.5 in /usr/local/lib/python3.12/dist-packages (from google-api-python-client<3.0.0,>=2.157.0->google-adk) (2.25.1)\n",
            "Requirement already satisfied: uritemplate<5,>=3.0.1 in /usr/local/lib/python3.12/dist-packages (from google-api-python-client<3.0.0,>=2.157.0->google-adk) (4.2.0)\n",
            "Requirement already satisfied: googleapis-common-protos<2.0.0,>=1.56.2 in /usr/local/lib/python3.12/dist-packages (from google-api-core!=2.0.*,!=2.1.*,!=2.2.*,!=2.3.0,<3.0.0,>=1.31.5->google-api-python-client<3.0.0,>=2.157.0->google-adk) (1.70.0)\n",
            "Requirement already satisfied: protobuf!=3.20.0,!=3.20.1,!=4.21.0,!=4.21.1,!=4.21.2,!=4.21.3,!=4.21.4,!=4.21.5,<7.0.0,>=3.19.5 in /usr/local/lib/python3.12/dist-packages (from google-api-core!=2.0.*,!=2.1.*,!=2.2.*,!=2.3.0,<3.0.0,>=1.31.5->google-api-python-client<3.0.0,>=2.157.0->google-adk) (5.29.5)\n",
            "Requirement already satisfied: proto-plus<2.0.0,>=1.22.3 in /usr/local/lib/python3.12/dist-packages (from google-api-core!=2.0.*,!=2.1.*,!=2.2.*,!=2.3.0,<3.0.0,>=1.31.5->google-api-python-client<3.0.0,>=2.157.0->google-adk) (1.26.1)\n",
            "Requirement already satisfied: cachetools<6.0,>=2.0.0 in /usr/local/lib/python3.12/dist-packages (from google-auth!=2.24.0,!=2.25.0,<3.0.0,>=1.32.0->google-api-python-client<3.0.0,>=2.157.0->google-adk) (5.5.2)\n",
            "Requirement already satisfied: pyasn1-modules>=0.2.1 in /usr/local/lib/python3.12/dist-packages (from google-auth!=2.24.0,!=2.25.0,<3.0.0,>=1.32.0->google-api-python-client<3.0.0,>=2.157.0->google-adk) (0.4.2)\n",
            "Requirement already satisfied: rsa<5,>=3.1.4 in /usr/local/lib/python3.12/dist-packages (from google-auth!=2.24.0,!=2.25.0,<3.0.0,>=1.32.0->google-api-python-client<3.0.0,>=2.157.0->google-adk) (4.9.1)\n",
            "Requirement already satisfied: packaging>=14.3 in /usr/local/lib/python3.12/dist-packages (from google-cloud-aiplatform<2.0.0,>=1.95.1->google-cloud-aiplatform[agent-engines]<2.0.0,>=1.95.1->google-adk) (25.0)\n",
            "Requirement already satisfied: google-cloud-bigquery!=3.20.0,<4.0.0,>=1.15.0 in /usr/local/lib/python3.12/dist-packages (from google-cloud-aiplatform<2.0.0,>=1.95.1->google-cloud-aiplatform[agent-engines]<2.0.0,>=1.95.1->google-adk) (3.36.0)\n",
            "Requirement already satisfied: google-cloud-resource-manager<3.0.0,>=1.3.3 in /usr/local/lib/python3.12/dist-packages (from google-cloud-aiplatform<2.0.0,>=1.95.1->google-cloud-aiplatform[agent-engines]<2.0.0,>=1.95.1->google-adk) (1.14.2)\n",
            "Requirement already satisfied: shapely<3.0.0 in /usr/local/lib/python3.12/dist-packages (from google-cloud-aiplatform<2.0.0,>=1.95.1->google-cloud-aiplatform[agent-engines]<2.0.0,>=1.95.1->google-adk) (2.1.1)\n",
            "Requirement already satisfied: docstring_parser<1 in /usr/local/lib/python3.12/dist-packages (from google-cloud-aiplatform<2.0.0,>=1.95.1->google-cloud-aiplatform[agent-engines]<2.0.0,>=1.95.1->google-adk) (0.17.0)\n",
            "Requirement already satisfied: grpcio<2.0.0,>=1.33.2 in /usr/local/lib/python3.12/dist-packages (from google-api-core[grpc]!=2.0.*,!=2.1.*,!=2.2.*,!=2.3.*,!=2.4.*,!=2.5.*,!=2.6.*,!=2.7.*,<3.0.0,>=1.34.1->google-cloud-aiplatform<2.0.0,>=1.95.1->google-cloud-aiplatform[agent-engines]<2.0.0,>=1.95.1->google-adk) (1.74.0)\n",
            "Requirement already satisfied: grpcio-status<2.0.0,>=1.33.2 in /usr/local/lib/python3.12/dist-packages (from google-api-core[grpc]!=2.0.*,!=2.1.*,!=2.2.*,!=2.3.*,!=2.4.*,!=2.5.*,!=2.6.*,!=2.7.*,<3.0.0,>=1.34.1->google-cloud-aiplatform<2.0.0,>=1.95.1->google-cloud-aiplatform[agent-engines]<2.0.0,>=1.95.1->google-adk) (1.71.2)\n",
            "Requirement already satisfied: cloudpickle<4.0,>=3.0 in /usr/local/lib/python3.12/dist-packages (from google-cloud-aiplatform[agent-engines]<2.0.0,>=1.95.1->google-adk) (3.1.1)\n",
            "Requirement already satisfied: google-cloud-trace<2 in /usr/local/lib/python3.12/dist-packages (from google-cloud-aiplatform[agent-engines]<2.0.0,>=1.95.1->google-adk) (1.16.2)\n",
            "Requirement already satisfied: google-cloud-logging<4 in /usr/local/lib/python3.12/dist-packages (from google-cloud-aiplatform[agent-engines]<2.0.0,>=1.95.1->google-adk) (3.12.1)\n",
            "Requirement already satisfied: google-cloud-core<3.0.0,>=2.4.1 in /usr/local/lib/python3.12/dist-packages (from google-cloud-bigquery!=3.20.0,<4.0.0,>=1.15.0->google-cloud-aiplatform<2.0.0,>=1.95.1->google-cloud-aiplatform[agent-engines]<2.0.0,>=1.95.1->google-adk) (2.4.3)\n",
            "Requirement already satisfied: google-resumable-media<3.0.0,>=2.0.0 in /usr/local/lib/python3.12/dist-packages (from google-cloud-bigquery!=3.20.0,<4.0.0,>=1.15.0->google-cloud-aiplatform<2.0.0,>=1.95.1->google-cloud-aiplatform[agent-engines]<2.0.0,>=1.95.1->google-adk) (2.7.2)\n",
            "Requirement already satisfied: google-cloud-appengine-logging<2.0.0,>=0.1.3 in /usr/local/lib/python3.12/dist-packages (from google-cloud-logging<4->google-cloud-aiplatform[agent-engines]<2.0.0,>=1.95.1->google-adk) (1.6.2)\n",
            "Requirement already satisfied: google-cloud-audit-log<1.0.0,>=0.3.1 in /usr/local/lib/python3.12/dist-packages (from google-cloud-logging<4->google-cloud-aiplatform[agent-engines]<2.0.0,>=1.95.1->google-adk) (0.3.2)\n",
            "Requirement already satisfied: grpc-google-iam-v1<1.0.0,>=0.12.4 in /usr/local/lib/python3.12/dist-packages (from google-cloud-logging<4->google-cloud-aiplatform[agent-engines]<2.0.0,>=1.95.1->google-adk) (0.14.2)\n",
            "Requirement already satisfied: sqlparse>=0.4.4 in /usr/local/lib/python3.12/dist-packages (from google-cloud-spanner<4.0.0,>=3.56.0->google-adk) (0.5.3)\n",
            "Requirement already satisfied: grpc-interceptor>=0.15.4 in /usr/local/lib/python3.12/dist-packages (from google-cloud-spanner<4.0.0,>=3.56.0->google-adk) (0.15.4)\n",
            "Requirement already satisfied: google-crc32c<2.0dev,>=1.0 in /usr/local/lib/python3.12/dist-packages (from google-cloud-storage<3.0.0,>=2.18.0->google-adk) (1.7.1)\n",
            "Requirement already satisfied: httpx<1.0.0,>=0.28.1 in /usr/local/lib/python3.12/dist-packages (from google-genai<2.0.0,>=1.21.1->google-adk) (0.28.1)\n",
            "Requirement already satisfied: pyparsing!=3.0.0,!=3.0.1,!=3.0.2,!=3.0.3,<4,>=2.4.2 in /usr/local/lib/python3.12/dist-packages (from httplib2<1.0.0,>=0.19.0->google-api-python-client<3.0.0,>=2.157.0->google-adk) (3.2.3)\n",
            "Requirement already satisfied: certifi in /usr/local/lib/python3.12/dist-packages (from httpx<1.0.0,>=0.28.1->google-genai<2.0.0,>=1.21.1->google-adk) (2025.8.3)\n",
            "Requirement already satisfied: httpcore==1.* in /usr/local/lib/python3.12/dist-packages (from httpx<1.0.0,>=0.28.1->google-genai<2.0.0,>=1.21.1->google-adk) (1.0.9)\n",
            "Requirement already satisfied: h11>=0.16 in /usr/local/lib/python3.12/dist-packages (from httpcore==1.*->httpx<1.0.0,>=0.28.1->google-genai<2.0.0,>=1.21.1->google-adk) (0.16.0)\n",
            "Requirement already satisfied: httpx-sse>=0.4 in /usr/local/lib/python3.12/dist-packages (from mcp<2.0.0,>=1.8.0->google-adk) (0.4.1)\n",
            "Requirement already satisfied: jsonschema>=4.20.0 in /usr/local/lib/python3.12/dist-packages (from mcp<2.0.0,>=1.8.0->google-adk) (4.25.1)\n",
            "Requirement already satisfied: pydantic-settings>=2.5.2 in /usr/local/lib/python3.12/dist-packages (from mcp<2.0.0,>=1.8.0->google-adk) (2.10.1)\n",
            "Requirement already satisfied: python-multipart>=0.0.9 in /usr/local/lib/python3.12/dist-packages (from mcp<2.0.0,>=1.8.0->google-adk) (0.0.20)\n",
            "Requirement already satisfied: sse-starlette>=1.6.1 in /usr/local/lib/python3.12/dist-packages (from mcp<2.0.0,>=1.8.0->google-adk) (3.0.2)\n",
            "Requirement already satisfied: importlib-metadata<8.8.0,>=6.0 in /usr/local/lib/python3.12/dist-packages (from opentelemetry-api<2.0.0,>=1.31.0->google-adk) (8.7.0)\n",
            "Requirement already satisfied: zipp>=3.20 in /usr/local/lib/python3.12/dist-packages (from importlib-metadata<8.8.0,>=6.0->opentelemetry-api<2.0.0,>=1.31.0->google-adk) (3.23.0)\n",
            "Requirement already satisfied: opentelemetry-resourcedetector-gcp==1.*,>=1.5.0dev0 in /usr/local/lib/python3.12/dist-packages (from opentelemetry-exporter-gcp-trace<2.0.0,>=1.9.0->google-adk) (1.9.0a0)\n",
            "Requirement already satisfied: opentelemetry-semantic-conventions==0.57b0 in /usr/local/lib/python3.12/dist-packages (from opentelemetry-sdk<2.0.0,>=1.31.0->google-adk) (0.57b0)\n",
            "Requirement already satisfied: annotated-types>=0.6.0 in /usr/local/lib/python3.12/dist-packages (from pydantic<3.0.0,>=2.0->google-adk) (0.7.0)\n",
            "Requirement already satisfied: pydantic-core==2.33.2 in /usr/local/lib/python3.12/dist-packages (from pydantic<3.0.0,>=2.0->google-adk) (2.33.2)\n",
            "Requirement already satisfied: typing-inspection>=0.4.0 in /usr/local/lib/python3.12/dist-packages (from pydantic<3.0.0,>=2.0->google-adk) (0.4.1)\n",
            "Requirement already satisfied: six>=1.5 in /usr/local/lib/python3.12/dist-packages (from python-dateutil<3.0.0,>=2.9.0.post0->google-adk) (1.17.0)\n",
            "Requirement already satisfied: charset_normalizer<4,>=2 in /usr/local/lib/python3.12/dist-packages (from requests<3.0.0,>=2.32.4->google-adk) (3.4.3)\n",
            "Requirement already satisfied: urllib3<3,>=1.21.1 in /usr/local/lib/python3.12/dist-packages (from requests<3.0.0,>=2.32.4->google-adk) (2.5.0)\n",
            "Requirement already satisfied: pyasn1>=0.1.3 in /usr/local/lib/python3.12/dist-packages (from rsa<5,>=3.1.4->google-auth!=2.24.0,!=2.25.0,<3.0.0,>=1.32.0->google-api-python-client<3.0.0,>=2.157.0->google-adk) (0.6.1)\n",
            "Requirement already satisfied: numpy>=1.21 in /usr/local/lib/python3.12/dist-packages (from shapely<3.0.0->google-cloud-aiplatform<2.0.0,>=1.95.1->google-cloud-aiplatform[agent-engines]<2.0.0,>=1.95.1->google-adk) (2.0.2)\n",
            "Requirement already satisfied: greenlet>=1 in /usr/local/lib/python3.12/dist-packages (from sqlalchemy<3.0.0,>=2.0->google-adk) (3.2.4)\n",
            "Requirement already satisfied: attrs>=22.2.0 in /usr/local/lib/python3.12/dist-packages (from jsonschema>=4.20.0->mcp<2.0.0,>=1.8.0->google-adk) (25.3.0)\n",
            "Requirement already satisfied: jsonschema-specifications>=2023.03.6 in /usr/local/lib/python3.12/dist-packages (from jsonschema>=4.20.0->mcp<2.0.0,>=1.8.0->google-adk) (2025.4.1)\n",
            "Requirement already satisfied: referencing>=0.28.4 in /usr/local/lib/python3.12/dist-packages (from jsonschema>=4.20.0->mcp<2.0.0,>=1.8.0->google-adk) (0.36.2)\n",
            "Requirement already satisfied: rpds-py>=0.7.1 in /usr/local/lib/python3.12/dist-packages (from jsonschema>=4.20.0->mcp<2.0.0,>=1.8.0->google-adk) (0.27.0)\n",
            "Requirement already satisfied: cffi>=1.12 in /usr/local/lib/python3.12/dist-packages (from cryptography->authlib<2.0.0,>=1.5.1->google-adk) (1.17.1)\n",
            "Requirement already satisfied: pycparser in /usr/local/lib/python3.12/dist-packages (from cffi>=1.12->cryptography->authlib<2.0.0,>=1.5.1->google-adk) (2.22)\n"
          ]
        }
      ]
    },
    {
      "cell_type": "markdown",
      "metadata": {
        "id": "22ed3e35"
      },
      "source": [
        "**Reasoning**:\n",
        "The `google-adk` library is confirmed to be installed. Now I can proceed with defining the `MovieRecommendationTool` class as specified in the instructions.\n",
        "\n"
      ]
    },
    {
      "cell_type": "code",
      "metadata": {
        "colab": {
          "base_uri": "https://localhost:8080/"
        },
        "id": "uOzYftRH1taG",
        "outputId": "f91a9a14-acee-4dc3-d435-062239d82eaa"
      },
      "source": [
        "!pip install --upgrade google-adk"
      ],
      "execution_count": null,
      "outputs": [
        {
          "output_type": "stream",
          "name": "stdout",
          "text": [
            "Requirement already satisfied: google-adk in /usr/local/lib/python3.12/dist-packages (1.12.0)\n",
            "Collecting google-adk\n",
            "  Downloading google_adk-1.13.0-py3-none-any.whl.metadata (11 kB)\n",
            "Requirement already satisfied: PyYAML<7.0.0,>=6.0.2 in /usr/local/lib/python3.12/dist-packages (from google-adk) (6.0.2)\n",
            "Requirement already satisfied: absolufy-imports<1.0.0,>=0.3.1 in /usr/local/lib/python3.12/dist-packages (from google-adk) (0.3.1)\n",
            "Requirement already satisfied: anyio<5.0.0,>=4.9.0 in /usr/local/lib/python3.12/dist-packages (from google-adk) (4.10.0)\n",
            "Requirement already satisfied: authlib<2.0.0,>=1.5.1 in /usr/local/lib/python3.12/dist-packages (from google-adk) (1.6.2)\n",
            "Requirement already satisfied: click<9.0.0,>=8.1.8 in /usr/local/lib/python3.12/dist-packages (from google-adk) (8.2.1)\n",
            "Requirement already satisfied: fastapi<1.0.0,>=0.115.0 in /usr/local/lib/python3.12/dist-packages (from google-adk) (0.116.1)\n",
            "Requirement already satisfied: google-api-python-client<3.0.0,>=2.157.0 in /usr/local/lib/python3.12/dist-packages (from google-adk) (2.179.0)\n",
            "Requirement already satisfied: google-cloud-bigtable>=2.32.0 in /usr/local/lib/python3.12/dist-packages (from google-adk) (2.32.0)\n",
            "Requirement already satisfied: google-cloud-aiplatform<2.0.0,>=1.95.1 in /usr/local/lib/python3.12/dist-packages (from google-cloud-aiplatform[agent-engines]<2.0.0,>=1.95.1->google-adk) (1.110.0)\n",
            "Requirement already satisfied: google-cloud-secret-manager<3.0.0,>=2.22.0 in /usr/local/lib/python3.12/dist-packages (from google-adk) (2.24.0)\n",
            "Requirement already satisfied: google-cloud-spanner<4.0.0,>=3.56.0 in /usr/local/lib/python3.12/dist-packages (from google-adk) (3.57.0)\n",
            "Requirement already satisfied: google-cloud-speech<3.0.0,>=2.30.0 in /usr/local/lib/python3.12/dist-packages (from google-adk) (2.33.0)\n",
            "Requirement already satisfied: google-cloud-storage<3.0.0,>=2.18.0 in /usr/local/lib/python3.12/dist-packages (from google-adk) (2.19.0)\n",
            "Requirement already satisfied: google-genai<2.0.0,>=1.21.1 in /usr/local/lib/python3.12/dist-packages (from google-adk) (1.31.0)\n",
            "Requirement already satisfied: graphviz<1.0.0,>=0.20.2 in /usr/local/lib/python3.12/dist-packages (from google-adk) (0.21)\n",
            "Requirement already satisfied: mcp<2.0.0,>=1.8.0 in /usr/local/lib/python3.12/dist-packages (from google-adk) (1.13.1)\n",
            "Requirement already satisfied: opentelemetry-api<2.0.0,>=1.31.0 in /usr/local/lib/python3.12/dist-packages (from google-adk) (1.36.0)\n",
            "Requirement already satisfied: opentelemetry-exporter-gcp-trace<2.0.0,>=1.9.0 in /usr/local/lib/python3.12/dist-packages (from google-adk) (1.9.0)\n",
            "Requirement already satisfied: opentelemetry-sdk<2.0.0,>=1.31.0 in /usr/local/lib/python3.12/dist-packages (from google-adk) (1.36.0)\n",
            "Requirement already satisfied: pydantic<3.0.0,>=2.0 in /usr/local/lib/python3.12/dist-packages (from google-adk) (2.11.7)\n",
            "Requirement already satisfied: python-dateutil<3.0.0,>=2.9.0.post0 in /usr/local/lib/python3.12/dist-packages (from google-adk) (2.9.0.post0)\n",
            "Requirement already satisfied: python-dotenv<2.0.0,>=1.0.0 in /usr/local/lib/python3.12/dist-packages (from google-adk) (1.1.1)\n",
            "Requirement already satisfied: requests<3.0.0,>=2.32.4 in /usr/local/lib/python3.12/dist-packages (from google-adk) (2.32.4)\n",
            "Collecting sqlalchemy-spanner>=1.14.0 (from google-adk)\n",
            "  Downloading sqlalchemy_spanner-1.16.0-py3-none-any.whl.metadata (18 kB)\n",
            "Requirement already satisfied: sqlalchemy<3.0.0,>=2.0 in /usr/local/lib/python3.12/dist-packages (from google-adk) (2.0.43)\n",
            "Requirement already satisfied: starlette<1.0.0,>=0.46.2 in /usr/local/lib/python3.12/dist-packages (from google-adk) (0.47.3)\n",
            "Requirement already satisfied: tenacity<9.0.0,>=8.0.0 in /usr/local/lib/python3.12/dist-packages (from google-adk) (8.5.0)\n",
            "Requirement already satisfied: typing-extensions<5,>=4.5 in /usr/local/lib/python3.12/dist-packages (from google-adk) (4.15.0)\n",
            "Requirement already satisfied: tzlocal<6.0,>=5.3 in /usr/local/lib/python3.12/dist-packages (from google-adk) (5.3.1)\n",
            "Requirement already satisfied: uvicorn<1.0.0,>=0.34.0 in /usr/local/lib/python3.12/dist-packages (from google-adk) (0.35.0)\n",
            "Requirement already satisfied: watchdog<7.0.0,>=6.0.0 in /usr/local/lib/python3.12/dist-packages (from google-adk) (6.0.0)\n",
            "Requirement already satisfied: websockets<16.0.0,>=15.0.1 in /usr/local/lib/python3.12/dist-packages (from google-adk) (15.0.1)\n",
            "Requirement already satisfied: idna>=2.8 in /usr/local/lib/python3.12/dist-packages (from anyio<5.0.0,>=4.9.0->google-adk) (3.10)\n",
            "Requirement already satisfied: sniffio>=1.1 in /usr/local/lib/python3.12/dist-packages (from anyio<5.0.0,>=4.9.0->google-adk) (1.3.1)\n",
            "Requirement already satisfied: cryptography in /usr/local/lib/python3.12/dist-packages (from authlib<2.0.0,>=1.5.1->google-adk) (43.0.3)\n",
            "Requirement already satisfied: httplib2<1.0.0,>=0.19.0 in /usr/local/lib/python3.12/dist-packages (from google-api-python-client<3.0.0,>=2.157.0->google-adk) (0.22.0)\n",
            "Requirement already satisfied: google-auth!=2.24.0,!=2.25.0,<3.0.0,>=1.32.0 in /usr/local/lib/python3.12/dist-packages (from google-api-python-client<3.0.0,>=2.157.0->google-adk) (2.38.0)\n",
            "Requirement already satisfied: google-auth-httplib2<1.0.0,>=0.2.0 in /usr/local/lib/python3.12/dist-packages (from google-api-python-client<3.0.0,>=2.157.0->google-adk) (0.2.0)\n",
            "Requirement already satisfied: google-api-core!=2.0.*,!=2.1.*,!=2.2.*,!=2.3.0,<3.0.0,>=1.31.5 in /usr/local/lib/python3.12/dist-packages (from google-api-python-client<3.0.0,>=2.157.0->google-adk) (2.25.1)\n",
            "Requirement already satisfied: uritemplate<5,>=3.0.1 in /usr/local/lib/python3.12/dist-packages (from google-api-python-client<3.0.0,>=2.157.0->google-adk) (4.2.0)\n",
            "Requirement already satisfied: googleapis-common-protos<2.0.0,>=1.56.2 in /usr/local/lib/python3.12/dist-packages (from google-api-core!=2.0.*,!=2.1.*,!=2.2.*,!=2.3.0,<3.0.0,>=1.31.5->google-api-python-client<3.0.0,>=2.157.0->google-adk) (1.70.0)\n",
            "Requirement already satisfied: protobuf!=3.20.0,!=3.20.1,!=4.21.0,!=4.21.1,!=4.21.2,!=4.21.3,!=4.21.4,!=4.21.5,<7.0.0,>=3.19.5 in /usr/local/lib/python3.12/dist-packages (from google-api-core!=2.0.*,!=2.1.*,!=2.2.*,!=2.3.0,<3.0.0,>=1.31.5->google-api-python-client<3.0.0,>=2.157.0->google-adk) (5.29.5)\n",
            "Requirement already satisfied: proto-plus<2.0.0,>=1.22.3 in /usr/local/lib/python3.12/dist-packages (from google-api-core!=2.0.*,!=2.1.*,!=2.2.*,!=2.3.0,<3.0.0,>=1.31.5->google-api-python-client<3.0.0,>=2.157.0->google-adk) (1.26.1)\n",
            "Requirement already satisfied: cachetools<6.0,>=2.0.0 in /usr/local/lib/python3.12/dist-packages (from google-auth!=2.24.0,!=2.25.0,<3.0.0,>=1.32.0->google-api-python-client<3.0.0,>=2.157.0->google-adk) (5.5.2)\n",
            "Requirement already satisfied: pyasn1-modules>=0.2.1 in /usr/local/lib/python3.12/dist-packages (from google-auth!=2.24.0,!=2.25.0,<3.0.0,>=1.32.0->google-api-python-client<3.0.0,>=2.157.0->google-adk) (0.4.2)\n",
            "Requirement already satisfied: rsa<5,>=3.1.4 in /usr/local/lib/python3.12/dist-packages (from google-auth!=2.24.0,!=2.25.0,<3.0.0,>=1.32.0->google-api-python-client<3.0.0,>=2.157.0->google-adk) (4.9.1)\n",
            "Requirement already satisfied: packaging>=14.3 in /usr/local/lib/python3.12/dist-packages (from google-cloud-aiplatform<2.0.0,>=1.95.1->google-cloud-aiplatform[agent-engines]<2.0.0,>=1.95.1->google-adk) (25.0)\n",
            "Requirement already satisfied: google-cloud-bigquery!=3.20.0,<4.0.0,>=1.15.0 in /usr/local/lib/python3.12/dist-packages (from google-cloud-aiplatform<2.0.0,>=1.95.1->google-cloud-aiplatform[agent-engines]<2.0.0,>=1.95.1->google-adk) (3.36.0)\n",
            "Requirement already satisfied: google-cloud-resource-manager<3.0.0,>=1.3.3 in /usr/local/lib/python3.12/dist-packages (from google-cloud-aiplatform<2.0.0,>=1.95.1->google-cloud-aiplatform[agent-engines]<2.0.0,>=1.95.1->google-adk) (1.14.2)\n",
            "Requirement already satisfied: shapely<3.0.0 in /usr/local/lib/python3.12/dist-packages (from google-cloud-aiplatform<2.0.0,>=1.95.1->google-cloud-aiplatform[agent-engines]<2.0.0,>=1.95.1->google-adk) (2.1.1)\n",
            "Requirement already satisfied: docstring_parser<1 in /usr/local/lib/python3.12/dist-packages (from google-cloud-aiplatform<2.0.0,>=1.95.1->google-cloud-aiplatform[agent-engines]<2.0.0,>=1.95.1->google-adk) (0.17.0)\n",
            "Requirement already satisfied: grpcio<2.0.0,>=1.33.2 in /usr/local/lib/python3.12/dist-packages (from google-api-core[grpc]!=2.0.*,!=2.1.*,!=2.2.*,!=2.3.*,!=2.4.*,!=2.5.*,!=2.6.*,!=2.7.*,<3.0.0,>=1.34.1->google-cloud-aiplatform<2.0.0,>=1.95.1->google-cloud-aiplatform[agent-engines]<2.0.0,>=1.95.1->google-adk) (1.74.0)\n",
            "Requirement already satisfied: grpcio-status<2.0.0,>=1.33.2 in /usr/local/lib/python3.12/dist-packages (from google-api-core[grpc]!=2.0.*,!=2.1.*,!=2.2.*,!=2.3.*,!=2.4.*,!=2.5.*,!=2.6.*,!=2.7.*,<3.0.0,>=1.34.1->google-cloud-aiplatform<2.0.0,>=1.95.1->google-cloud-aiplatform[agent-engines]<2.0.0,>=1.95.1->google-adk) (1.71.2)\n",
            "Requirement already satisfied: cloudpickle<4.0,>=3.0 in /usr/local/lib/python3.12/dist-packages (from google-cloud-aiplatform[agent-engines]<2.0.0,>=1.95.1->google-adk) (3.1.1)\n",
            "Requirement already satisfied: google-cloud-trace<2 in /usr/local/lib/python3.12/dist-packages (from google-cloud-aiplatform[agent-engines]<2.0.0,>=1.95.1->google-adk) (1.16.2)\n",
            "Requirement already satisfied: google-cloud-logging<4 in /usr/local/lib/python3.12/dist-packages (from google-cloud-aiplatform[agent-engines]<2.0.0,>=1.95.1->google-adk) (3.12.1)\n",
            "Requirement already satisfied: google-cloud-core<3.0.0,>=2.4.1 in /usr/local/lib/python3.12/dist-packages (from google-cloud-bigquery!=3.20.0,<4.0.0,>=1.15.0->google-cloud-aiplatform<2.0.0,>=1.95.1->google-cloud-aiplatform[agent-engines]<2.0.0,>=1.95.1->google-adk) (2.4.3)\n",
            "Requirement already satisfied: google-resumable-media<3.0.0,>=2.0.0 in /usr/local/lib/python3.12/dist-packages (from google-cloud-bigquery!=3.20.0,<4.0.0,>=1.15.0->google-cloud-aiplatform<2.0.0,>=1.95.1->google-cloud-aiplatform[agent-engines]<2.0.0,>=1.95.1->google-adk) (2.7.2)\n",
            "Requirement already satisfied: google-cloud-appengine-logging<2.0.0,>=0.1.3 in /usr/local/lib/python3.12/dist-packages (from google-cloud-logging<4->google-cloud-aiplatform[agent-engines]<2.0.0,>=1.95.1->google-adk) (1.6.2)\n",
            "Requirement already satisfied: google-cloud-audit-log<1.0.0,>=0.3.1 in /usr/local/lib/python3.12/dist-packages (from google-cloud-logging<4->google-cloud-aiplatform[agent-engines]<2.0.0,>=1.95.1->google-adk) (0.3.2)\n",
            "Requirement already satisfied: grpc-google-iam-v1<1.0.0,>=0.12.4 in /usr/local/lib/python3.12/dist-packages (from google-cloud-logging<4->google-cloud-aiplatform[agent-engines]<2.0.0,>=1.95.1->google-adk) (0.14.2)\n",
            "Requirement already satisfied: sqlparse>=0.4.4 in /usr/local/lib/python3.12/dist-packages (from google-cloud-spanner<4.0.0,>=3.56.0->google-adk) (0.5.3)\n",
            "Requirement already satisfied: grpc-interceptor>=0.15.4 in /usr/local/lib/python3.12/dist-packages (from google-cloud-spanner<4.0.0,>=3.56.0->google-adk) (0.15.4)\n",
            "Requirement already satisfied: google-crc32c<2.0dev,>=1.0 in /usr/local/lib/python3.12/dist-packages (from google-cloud-storage<3.0.0,>=2.18.0->google-adk) (1.7.1)\n",
            "Requirement already satisfied: httpx<1.0.0,>=0.28.1 in /usr/local/lib/python3.12/dist-packages (from google-genai<2.0.0,>=1.21.1->google-adk) (0.28.1)\n",
            "Requirement already satisfied: pyparsing!=3.0.0,!=3.0.1,!=3.0.2,!=3.0.3,<4,>=2.4.2 in /usr/local/lib/python3.12/dist-packages (from httplib2<1.0.0,>=0.19.0->google-api-python-client<3.0.0,>=2.157.0->google-adk) (3.2.3)\n",
            "Requirement already satisfied: certifi in /usr/local/lib/python3.12/dist-packages (from httpx<1.0.0,>=0.28.1->google-genai<2.0.0,>=1.21.1->google-adk) (2025.8.3)\n",
            "Requirement already satisfied: httpcore==1.* in /usr/local/lib/python3.12/dist-packages (from httpx<1.0.0,>=0.28.1->google-genai<2.0.0,>=1.21.1->google-adk) (1.0.9)\n",
            "Requirement already satisfied: h11>=0.16 in /usr/local/lib/python3.12/dist-packages (from httpcore==1.*->httpx<1.0.0,>=0.28.1->google-genai<2.0.0,>=1.21.1->google-adk) (0.16.0)\n",
            "Requirement already satisfied: httpx-sse>=0.4 in /usr/local/lib/python3.12/dist-packages (from mcp<2.0.0,>=1.8.0->google-adk) (0.4.1)\n",
            "Requirement already satisfied: jsonschema>=4.20.0 in /usr/local/lib/python3.12/dist-packages (from mcp<2.0.0,>=1.8.0->google-adk) (4.25.1)\n",
            "Requirement already satisfied: pydantic-settings>=2.5.2 in /usr/local/lib/python3.12/dist-packages (from mcp<2.0.0,>=1.8.0->google-adk) (2.10.1)\n",
            "Requirement already satisfied: python-multipart>=0.0.9 in /usr/local/lib/python3.12/dist-packages (from mcp<2.0.0,>=1.8.0->google-adk) (0.0.20)\n",
            "Requirement already satisfied: sse-starlette>=1.6.1 in /usr/local/lib/python3.12/dist-packages (from mcp<2.0.0,>=1.8.0->google-adk) (3.0.2)\n",
            "Requirement already satisfied: importlib-metadata<8.8.0,>=6.0 in /usr/local/lib/python3.12/dist-packages (from opentelemetry-api<2.0.0,>=1.31.0->google-adk) (8.7.0)\n",
            "Requirement already satisfied: zipp>=3.20 in /usr/local/lib/python3.12/dist-packages (from importlib-metadata<8.8.0,>=6.0->opentelemetry-api<2.0.0,>=1.31.0->google-adk) (3.23.0)\n",
            "Requirement already satisfied: opentelemetry-resourcedetector-gcp==1.*,>=1.5.0dev0 in /usr/local/lib/python3.12/dist-packages (from opentelemetry-exporter-gcp-trace<2.0.0,>=1.9.0->google-adk) (1.9.0a0)\n",
            "Requirement already satisfied: opentelemetry-semantic-conventions==0.57b0 in /usr/local/lib/python3.12/dist-packages (from opentelemetry-sdk<2.0.0,>=1.31.0->google-adk) (0.57b0)\n",
            "Requirement already satisfied: annotated-types>=0.6.0 in /usr/local/lib/python3.12/dist-packages (from pydantic<3.0.0,>=2.0->google-adk) (0.7.0)\n",
            "Requirement already satisfied: pydantic-core==2.33.2 in /usr/local/lib/python3.12/dist-packages (from pydantic<3.0.0,>=2.0->google-adk) (2.33.2)\n",
            "Requirement already satisfied: typing-inspection>=0.4.0 in /usr/local/lib/python3.12/dist-packages (from pydantic<3.0.0,>=2.0->google-adk) (0.4.1)\n",
            "Requirement already satisfied: six>=1.5 in /usr/local/lib/python3.12/dist-packages (from python-dateutil<3.0.0,>=2.9.0.post0->google-adk) (1.17.0)\n",
            "Requirement already satisfied: charset_normalizer<4,>=2 in /usr/local/lib/python3.12/dist-packages (from requests<3.0.0,>=2.32.4->google-adk) (3.4.3)\n",
            "Requirement already satisfied: urllib3<3,>=1.21.1 in /usr/local/lib/python3.12/dist-packages (from requests<3.0.0,>=2.32.4->google-adk) (2.5.0)\n",
            "Requirement already satisfied: pyasn1>=0.1.3 in /usr/local/lib/python3.12/dist-packages (from rsa<5,>=3.1.4->google-auth!=2.24.0,!=2.25.0,<3.0.0,>=1.32.0->google-api-python-client<3.0.0,>=2.157.0->google-adk) (0.6.1)\n",
            "Requirement already satisfied: numpy>=1.21 in /usr/local/lib/python3.12/dist-packages (from shapely<3.0.0->google-cloud-aiplatform<2.0.0,>=1.95.1->google-cloud-aiplatform[agent-engines]<2.0.0,>=1.95.1->google-adk) (2.0.2)\n",
            "Requirement already satisfied: greenlet>=1 in /usr/local/lib/python3.12/dist-packages (from sqlalchemy<3.0.0,>=2.0->google-adk) (3.2.4)\n",
            "Requirement already satisfied: attrs>=22.2.0 in /usr/local/lib/python3.12/dist-packages (from jsonschema>=4.20.0->mcp<2.0.0,>=1.8.0->google-adk) (25.3.0)\n",
            "Requirement already satisfied: jsonschema-specifications>=2023.03.6 in /usr/local/lib/python3.12/dist-packages (from jsonschema>=4.20.0->mcp<2.0.0,>=1.8.0->google-adk) (2025.4.1)\n",
            "Requirement already satisfied: referencing>=0.28.4 in /usr/local/lib/python3.12/dist-packages (from jsonschema>=4.20.0->mcp<2.0.0,>=1.8.0->google-adk) (0.36.2)\n",
            "Requirement already satisfied: rpds-py>=0.7.1 in /usr/local/lib/python3.12/dist-packages (from jsonschema>=4.20.0->mcp<2.0.0,>=1.8.0->google-adk) (0.27.0)\n",
            "Collecting alembic (from sqlalchemy-spanner>=1.14.0->google-adk)\n",
            "  Downloading alembic-1.16.5-py3-none-any.whl.metadata (7.3 kB)\n",
            "Requirement already satisfied: Mako in /usr/lib/python3/dist-packages (from alembic->sqlalchemy-spanner>=1.14.0->google-adk) (1.1.3)\n",
            "Requirement already satisfied: cffi>=1.12 in /usr/local/lib/python3.12/dist-packages (from cryptography->authlib<2.0.0,>=1.5.1->google-adk) (1.17.1)\n",
            "Requirement already satisfied: pycparser in /usr/local/lib/python3.12/dist-packages (from cffi>=1.12->cryptography->authlib<2.0.0,>=1.5.1->google-adk) (2.22)\n",
            "Downloading google_adk-1.13.0-py3-none-any.whl (1.9 MB)\n",
            "\u001b[2K   \u001b[90m━━━━━━━━━━━━━━━━━━━━━━━━━━━━━━━━━━━━━━━━\u001b[0m \u001b[32m1.9/1.9 MB\u001b[0m \u001b[31m47.9 MB/s\u001b[0m  \u001b[33m0:00:00\u001b[0m\n",
            "\u001b[?25hDownloading sqlalchemy_spanner-1.16.0-py3-none-any.whl (32 kB)\n",
            "Downloading alembic-1.16.5-py3-none-any.whl (247 kB)\n",
            "Installing collected packages: alembic, sqlalchemy-spanner, google-adk\n",
            "\u001b[2K  Attempting uninstall: google-adk\n",
            "\u001b[2K    Found existing installation: google-adk 1.12.0\n",
            "\u001b[2K    Uninstalling google-adk-1.12.0:\n",
            "\u001b[2K      Successfully uninstalled google-adk-1.12.0\n",
            "\u001b[2K   \u001b[90m━━━━━━━━━━━━━━━━━━━━━━━━━━━━━━━━━━━━━━━━\u001b[0m \u001b[32m3/3\u001b[0m [google-adk]\n",
            "\u001b[1A\u001b[2KSuccessfully installed alembic-1.16.5 google-adk-1.13.0 sqlalchemy-spanner-1.16.0\n"
          ]
        }
      ]
    },
    {
      "cell_type": "markdown",
      "metadata": {
        "id": "f4f2f481"
      },
      "source": [
        "**Reasoning**:\n",
        "Despite the previous installation attempt, the `google_adk` module is still not found. I will try installing it again, explicitly stating that I want to upgrade if it's already present, just in case there was an issue with the previous installation or environment.\n",
        "\n"
      ]
    },
    {
      "cell_type": "markdown",
      "metadata": {
        "id": "72e5293e"
      },
      "source": [
        "**Reasoning**:\n",
        "The `google-adk` library has now been successfully installed. I can proceed with defining the `MovieRecommendationTool` class as originally intended.\n",
        "\n"
      ]
    },
    {
      "cell_type": "markdown",
      "metadata": {
        "id": "2cdbe682"
      },
      "source": [
        "## Define the adk tool\n",
        "\n",
        "### Subtask:\n",
        "Create a Python class that inherits from `google_adk.AgentTool` and define the tool's specification (name, description, parameters).\n"
      ]
    },
    {
      "cell_type": "markdown",
      "metadata": {
        "id": "f5ef8f47"
      },
      "source": [
        "**Reasoning**:\n",
        "Since the previous attempt to install google-adk failed, I will try installing it again to ensure the necessary library is available for creating the AgentTool class.\n",
        "\n"
      ]
    },
    {
      "cell_type": "code",
      "metadata": {
        "colab": {
          "base_uri": "https://localhost:8080/"
        },
        "id": "0fcba070",
        "outputId": "b67e8c72-6a25-485d-e8df-f546d65a0d9c"
      },
      "source": [
        "!pip install google-adk"
      ],
      "execution_count": null,
      "outputs": [
        {
          "output_type": "stream",
          "name": "stdout",
          "text": [
            "Requirement already satisfied: google-adk in /usr/local/lib/python3.12/dist-packages (1.13.0)\n",
            "Requirement already satisfied: PyYAML<7.0.0,>=6.0.2 in /usr/local/lib/python3.12/dist-packages (from google-adk) (6.0.2)\n",
            "Requirement already satisfied: absolufy-imports<1.0.0,>=0.3.1 in /usr/local/lib/python3.12/dist-packages (from google-adk) (0.3.1)\n",
            "Requirement already satisfied: anyio<5.0.0,>=4.9.0 in /usr/local/lib/python3.12/dist-packages (from google-adk) (4.10.0)\n",
            "Requirement already satisfied: authlib<2.0.0,>=1.5.1 in /usr/local/lib/python3.12/dist-packages (from google-adk) (1.6.2)\n",
            "Requirement already satisfied: click<9.0.0,>=8.1.8 in /usr/local/lib/python3.12/dist-packages (from google-adk) (8.2.1)\n",
            "Requirement already satisfied: fastapi<1.0.0,>=0.115.0 in /usr/local/lib/python3.12/dist-packages (from google-adk) (0.116.1)\n",
            "Requirement already satisfied: google-api-python-client<3.0.0,>=2.157.0 in /usr/local/lib/python3.12/dist-packages (from google-adk) (2.179.0)\n",
            "Requirement already satisfied: google-cloud-bigtable>=2.32.0 in /usr/local/lib/python3.12/dist-packages (from google-adk) (2.32.0)\n",
            "Requirement already satisfied: google-cloud-aiplatform<2.0.0,>=1.95.1 in /usr/local/lib/python3.12/dist-packages (from google-cloud-aiplatform[agent-engines]<2.0.0,>=1.95.1->google-adk) (1.110.0)\n",
            "Requirement already satisfied: google-cloud-secret-manager<3.0.0,>=2.22.0 in /usr/local/lib/python3.12/dist-packages (from google-adk) (2.24.0)\n",
            "Requirement already satisfied: google-cloud-spanner<4.0.0,>=3.56.0 in /usr/local/lib/python3.12/dist-packages (from google-adk) (3.57.0)\n",
            "Requirement already satisfied: google-cloud-speech<3.0.0,>=2.30.0 in /usr/local/lib/python3.12/dist-packages (from google-adk) (2.33.0)\n",
            "Requirement already satisfied: google-cloud-storage<3.0.0,>=2.18.0 in /usr/local/lib/python3.12/dist-packages (from google-adk) (2.19.0)\n",
            "Requirement already satisfied: google-genai<2.0.0,>=1.21.1 in /usr/local/lib/python3.12/dist-packages (from google-adk) (1.31.0)\n",
            "Requirement already satisfied: graphviz<1.0.0,>=0.20.2 in /usr/local/lib/python3.12/dist-packages (from google-adk) (0.21)\n",
            "Requirement already satisfied: mcp<2.0.0,>=1.8.0 in /usr/local/lib/python3.12/dist-packages (from google-adk) (1.13.1)\n",
            "Requirement already satisfied: opentelemetry-api<2.0.0,>=1.31.0 in /usr/local/lib/python3.12/dist-packages (from google-adk) (1.36.0)\n",
            "Requirement already satisfied: opentelemetry-exporter-gcp-trace<2.0.0,>=1.9.0 in /usr/local/lib/python3.12/dist-packages (from google-adk) (1.9.0)\n",
            "Requirement already satisfied: opentelemetry-sdk<2.0.0,>=1.31.0 in /usr/local/lib/python3.12/dist-packages (from google-adk) (1.36.0)\n",
            "Requirement already satisfied: pydantic<3.0.0,>=2.0 in /usr/local/lib/python3.12/dist-packages (from google-adk) (2.11.7)\n",
            "Requirement already satisfied: python-dateutil<3.0.0,>=2.9.0.post0 in /usr/local/lib/python3.12/dist-packages (from google-adk) (2.9.0.post0)\n",
            "Requirement already satisfied: python-dotenv<2.0.0,>=1.0.0 in /usr/local/lib/python3.12/dist-packages (from google-adk) (1.1.1)\n",
            "Requirement already satisfied: requests<3.0.0,>=2.32.4 in /usr/local/lib/python3.12/dist-packages (from google-adk) (2.32.4)\n",
            "Requirement already satisfied: sqlalchemy-spanner>=1.14.0 in /usr/local/lib/python3.12/dist-packages (from google-adk) (1.16.0)\n",
            "Requirement already satisfied: sqlalchemy<3.0.0,>=2.0 in /usr/local/lib/python3.12/dist-packages (from google-adk) (2.0.43)\n",
            "Requirement already satisfied: starlette<1.0.0,>=0.46.2 in /usr/local/lib/python3.12/dist-packages (from google-adk) (0.47.3)\n",
            "Requirement already satisfied: tenacity<9.0.0,>=8.0.0 in /usr/local/lib/python3.12/dist-packages (from google-adk) (8.5.0)\n",
            "Requirement already satisfied: typing-extensions<5,>=4.5 in /usr/local/lib/python3.12/dist-packages (from google-adk) (4.15.0)\n",
            "Requirement already satisfied: tzlocal<6.0,>=5.3 in /usr/local/lib/python3.12/dist-packages (from google-adk) (5.3.1)\n",
            "Requirement already satisfied: uvicorn<1.0.0,>=0.34.0 in /usr/local/lib/python3.12/dist-packages (from google-adk) (0.35.0)\n",
            "Requirement already satisfied: watchdog<7.0.0,>=6.0.0 in /usr/local/lib/python3.12/dist-packages (from google-adk) (6.0.0)\n",
            "Requirement already satisfied: websockets<16.0.0,>=15.0.1 in /usr/local/lib/python3.12/dist-packages (from google-adk) (15.0.1)\n",
            "Requirement already satisfied: idna>=2.8 in /usr/local/lib/python3.12/dist-packages (from anyio<5.0.0,>=4.9.0->google-adk) (3.10)\n",
            "Requirement already satisfied: sniffio>=1.1 in /usr/local/lib/python3.12/dist-packages (from anyio<5.0.0,>=4.9.0->google-adk) (1.3.1)\n",
            "Requirement already satisfied: cryptography in /usr/local/lib/python3.12/dist-packages (from authlib<2.0.0,>=1.5.1->google-adk) (43.0.3)\n",
            "Requirement already satisfied: httplib2<1.0.0,>=0.19.0 in /usr/local/lib/python3.12/dist-packages (from google-api-python-client<3.0.0,>=2.157.0->google-adk) (0.22.0)\n",
            "Requirement already satisfied: google-auth!=2.24.0,!=2.25.0,<3.0.0,>=1.32.0 in /usr/local/lib/python3.12/dist-packages (from google-api-python-client<3.0.0,>=2.157.0->google-adk) (2.38.0)\n",
            "Requirement already satisfied: google-auth-httplib2<1.0.0,>=0.2.0 in /usr/local/lib/python3.12/dist-packages (from google-api-python-client<3.0.0,>=2.157.0->google-adk) (0.2.0)\n",
            "Requirement already satisfied: google-api-core!=2.0.*,!=2.1.*,!=2.2.*,!=2.3.0,<3.0.0,>=1.31.5 in /usr/local/lib/python3.12/dist-packages (from google-api-python-client<3.0.0,>=2.157.0->google-adk) (2.25.1)\n",
            "Requirement already satisfied: uritemplate<5,>=3.0.1 in /usr/local/lib/python3.12/dist-packages (from google-api-python-client<3.0.0,>=2.157.0->google-adk) (4.2.0)\n",
            "Requirement already satisfied: googleapis-common-protos<2.0.0,>=1.56.2 in /usr/local/lib/python3.12/dist-packages (from google-api-core!=2.0.*,!=2.1.*,!=2.2.*,!=2.3.0,<3.0.0,>=1.31.5->google-api-python-client<3.0.0,>=2.157.0->google-adk) (1.70.0)\n",
            "Requirement already satisfied: protobuf!=3.20.0,!=3.20.1,!=4.21.0,!=4.21.1,!=4.21.2,!=4.21.3,!=4.21.4,!=4.21.5,<7.0.0,>=3.19.5 in /usr/local/lib/python3.12/dist-packages (from google-api-core!=2.0.*,!=2.1.*,!=2.2.*,!=2.3.0,<3.0.0,>=1.31.5->google-api-python-client<3.0.0,>=2.157.0->google-adk) (5.29.5)\n",
            "Requirement already satisfied: proto-plus<2.0.0,>=1.22.3 in /usr/local/lib/python3.12/dist-packages (from google-api-core!=2.0.*,!=2.1.*,!=2.2.*,!=2.3.0,<3.0.0,>=1.31.5->google-api-python-client<3.0.0,>=2.157.0->google-adk) (1.26.1)\n",
            "Requirement already satisfied: cachetools<6.0,>=2.0.0 in /usr/local/lib/python3.12/dist-packages (from google-auth!=2.24.0,!=2.25.0,<3.0.0,>=1.32.0->google-api-python-client<3.0.0,>=2.157.0->google-adk) (5.5.2)\n",
            "Requirement already satisfied: pyasn1-modules>=0.2.1 in /usr/local/lib/python3.12/dist-packages (from google-auth!=2.24.0,!=2.25.0,<3.0.0,>=1.32.0->google-api-python-client<3.0.0,>=2.157.0->google-adk) (0.4.2)\n",
            "Requirement already satisfied: rsa<5,>=3.1.4 in /usr/local/lib/python3.12/dist-packages (from google-auth!=2.24.0,!=2.25.0,<3.0.0,>=1.32.0->google-api-python-client<3.0.0,>=2.157.0->google-adk) (4.9.1)\n",
            "Requirement already satisfied: packaging>=14.3 in /usr/local/lib/python3.12/dist-packages (from google-cloud-aiplatform<2.0.0,>=1.95.1->google-cloud-aiplatform[agent-engines]<2.0.0,>=1.95.1->google-adk) (25.0)\n",
            "Requirement already satisfied: google-cloud-bigquery!=3.20.0,<4.0.0,>=1.15.0 in /usr/local/lib/python3.12/dist-packages (from google-cloud-aiplatform<2.0.0,>=1.95.1->google-cloud-aiplatform[agent-engines]<2.0.0,>=1.95.1->google-adk) (3.36.0)\n",
            "Requirement already satisfied: google-cloud-resource-manager<3.0.0,>=1.3.3 in /usr/local/lib/python3.12/dist-packages (from google-cloud-aiplatform<2.0.0,>=1.95.1->google-cloud-aiplatform[agent-engines]<2.0.0,>=1.95.1->google-adk) (1.14.2)\n",
            "Requirement already satisfied: shapely<3.0.0 in /usr/local/lib/python3.12/dist-packages (from google-cloud-aiplatform<2.0.0,>=1.95.1->google-cloud-aiplatform[agent-engines]<2.0.0,>=1.95.1->google-adk) (2.1.1)\n",
            "Requirement already satisfied: docstring_parser<1 in /usr/local/lib/python3.12/dist-packages (from google-cloud-aiplatform<2.0.0,>=1.95.1->google-cloud-aiplatform[agent-engines]<2.0.0,>=1.95.1->google-adk) (0.17.0)\n",
            "Requirement already satisfied: grpcio<2.0.0,>=1.33.2 in /usr/local/lib/python3.12/dist-packages (from google-api-core[grpc]!=2.0.*,!=2.1.*,!=2.2.*,!=2.3.*,!=2.4.*,!=2.5.*,!=2.6.*,!=2.7.*,<3.0.0,>=1.34.1->google-cloud-aiplatform<2.0.0,>=1.95.1->google-cloud-aiplatform[agent-engines]<2.0.0,>=1.95.1->google-adk) (1.74.0)\n",
            "Requirement already satisfied: grpcio-status<2.0.0,>=1.33.2 in /usr/local/lib/python3.12/dist-packages (from google-api-core[grpc]!=2.0.*,!=2.1.*,!=2.2.*,!=2.3.*,!=2.4.*,!=2.5.*,!=2.6.*,!=2.7.*,<3.0.0,>=1.34.1->google-cloud-aiplatform<2.0.0,>=1.95.1->google-cloud-aiplatform[agent-engines]<2.0.0,>=1.95.1->google-adk) (1.71.2)\n",
            "Requirement already satisfied: cloudpickle<4.0,>=3.0 in /usr/local/lib/python3.12/dist-packages (from google-cloud-aiplatform[agent-engines]<2.0.0,>=1.95.1->google-adk) (3.1.1)\n",
            "Requirement already satisfied: google-cloud-trace<2 in /usr/local/lib/python3.12/dist-packages (from google-cloud-aiplatform[agent-engines]<2.0.0,>=1.95.1->google-adk) (1.16.2)\n",
            "Requirement already satisfied: google-cloud-logging<4 in /usr/local/lib/python3.12/dist-packages (from google-cloud-aiplatform[agent-engines]<2.0.0,>=1.95.1->google-adk) (3.12.1)\n",
            "Requirement already satisfied: google-cloud-core<3.0.0,>=2.4.1 in /usr/local/lib/python3.12/dist-packages (from google-cloud-bigquery!=3.20.0,<4.0.0,>=1.15.0->google-cloud-aiplatform<2.0.0,>=1.95.1->google-cloud-aiplatform[agent-engines]<2.0.0,>=1.95.1->google-adk) (2.4.3)\n",
            "Requirement already satisfied: google-resumable-media<3.0.0,>=2.0.0 in /usr/local/lib/python3.12/dist-packages (from google-cloud-bigquery!=3.20.0,<4.0.0,>=1.15.0->google-cloud-aiplatform<2.0.0,>=1.95.1->google-cloud-aiplatform[agent-engines]<2.0.0,>=1.95.1->google-adk) (2.7.2)\n",
            "Requirement already satisfied: google-cloud-appengine-logging<2.0.0,>=0.1.3 in /usr/local/lib/python3.12/dist-packages (from google-cloud-logging<4->google-cloud-aiplatform[agent-engines]<2.0.0,>=1.95.1->google-adk) (1.6.2)\n",
            "Requirement already satisfied: google-cloud-audit-log<1.0.0,>=0.3.1 in /usr/local/lib/python3.12/dist-packages (from google-cloud-logging<4->google-cloud-aiplatform[agent-engines]<2.0.0,>=1.95.1->google-adk) (0.3.2)\n",
            "Requirement already satisfied: grpc-google-iam-v1<1.0.0,>=0.12.4 in /usr/local/lib/python3.12/dist-packages (from google-cloud-logging<4->google-cloud-aiplatform[agent-engines]<2.0.0,>=1.95.1->google-adk) (0.14.2)\n",
            "Requirement already satisfied: sqlparse>=0.4.4 in /usr/local/lib/python3.12/dist-packages (from google-cloud-spanner<4.0.0,>=3.56.0->google-adk) (0.5.3)\n",
            "Requirement already satisfied: grpc-interceptor>=0.15.4 in /usr/local/lib/python3.12/dist-packages (from google-cloud-spanner<4.0.0,>=3.56.0->google-adk) (0.15.4)\n",
            "Requirement already satisfied: google-crc32c<2.0dev,>=1.0 in /usr/local/lib/python3.12/dist-packages (from google-cloud-storage<3.0.0,>=2.18.0->google-adk) (1.7.1)\n",
            "Requirement already satisfied: httpx<1.0.0,>=0.28.1 in /usr/local/lib/python3.12/dist-packages (from google-genai<2.0.0,>=1.21.1->google-adk) (0.28.1)\n",
            "Requirement already satisfied: pyparsing!=3.0.0,!=3.0.1,!=3.0.2,!=3.0.3,<4,>=2.4.2 in /usr/local/lib/python3.12/dist-packages (from httplib2<1.0.0,>=0.19.0->google-api-python-client<3.0.0,>=2.157.0->google-adk) (3.2.3)\n",
            "Requirement already satisfied: certifi in /usr/local/lib/python3.12/dist-packages (from httpx<1.0.0,>=0.28.1->google-genai<2.0.0,>=1.21.1->google-adk) (2025.8.3)\n",
            "Requirement already satisfied: httpcore==1.* in /usr/local/lib/python3.12/dist-packages (from httpx<1.0.0,>=0.28.1->google-genai<2.0.0,>=1.21.1->google-adk) (1.0.9)\n",
            "Requirement already satisfied: h11>=0.16 in /usr/local/lib/python3.12/dist-packages (from httpcore==1.*->httpx<1.0.0,>=0.28.1->google-genai<2.0.0,>=1.21.1->google-adk) (0.16.0)\n",
            "Requirement already satisfied: httpx-sse>=0.4 in /usr/local/lib/python3.12/dist-packages (from mcp<2.0.0,>=1.8.0->google-adk) (0.4.1)\n",
            "Requirement already satisfied: jsonschema>=4.20.0 in /usr/local/lib/python3.12/dist-packages (from mcp<2.0.0,>=1.8.0->google-adk) (4.25.1)\n",
            "Requirement already satisfied: pydantic-settings>=2.5.2 in /usr/local/lib/python3.12/dist-packages (from mcp<2.0.0,>=1.8.0->google-adk) (2.10.1)\n",
            "Requirement already satisfied: python-multipart>=0.0.9 in /usr/local/lib/python3.12/dist-packages (from mcp<2.0.0,>=1.8.0->google-adk) (0.0.20)\n",
            "Requirement already satisfied: sse-starlette>=1.6.1 in /usr/local/lib/python3.12/dist-packages (from mcp<2.0.0,>=1.8.0->google-adk) (3.0.2)\n",
            "Requirement already satisfied: importlib-metadata<8.8.0,>=6.0 in /usr/local/lib/python3.12/dist-packages (from opentelemetry-api<2.0.0,>=1.31.0->google-adk) (8.7.0)\n",
            "Requirement already satisfied: zipp>=3.20 in /usr/local/lib/python3.12/dist-packages (from importlib-metadata<8.8.0,>=6.0->opentelemetry-api<2.0.0,>=1.31.0->google-adk) (3.23.0)\n",
            "Requirement already satisfied: opentelemetry-resourcedetector-gcp==1.*,>=1.5.0dev0 in /usr/local/lib/python3.12/dist-packages (from opentelemetry-exporter-gcp-trace<2.0.0,>=1.9.0->google-adk) (1.9.0a0)\n",
            "Requirement already satisfied: opentelemetry-semantic-conventions==0.57b0 in /usr/local/lib/python3.12/dist-packages (from opentelemetry-sdk<2.0.0,>=1.31.0->google-adk) (0.57b0)\n",
            "Requirement already satisfied: annotated-types>=0.6.0 in /usr/local/lib/python3.12/dist-packages (from pydantic<3.0.0,>=2.0->google-adk) (0.7.0)\n",
            "Requirement already satisfied: pydantic-core==2.33.2 in /usr/local/lib/python3.12/dist-packages (from pydantic<3.0.0,>=2.0->google-adk) (2.33.2)\n",
            "Requirement already satisfied: typing-inspection>=0.4.0 in /usr/local/lib/python3.12/dist-packages (from pydantic<3.0.0,>=2.0->google-adk) (0.4.1)\n",
            "Requirement already satisfied: six>=1.5 in /usr/local/lib/python3.12/dist-packages (from python-dateutil<3.0.0,>=2.9.0.post0->google-adk) (1.17.0)\n",
            "Requirement already satisfied: charset_normalizer<4,>=2 in /usr/local/lib/python3.12/dist-packages (from requests<3.0.0,>=2.32.4->google-adk) (3.4.3)\n",
            "Requirement already satisfied: urllib3<3,>=1.21.1 in /usr/local/lib/python3.12/dist-packages (from requests<3.0.0,>=2.32.4->google-adk) (2.5.0)\n",
            "Requirement already satisfied: pyasn1>=0.1.3 in /usr/local/lib/python3.12/dist-packages (from rsa<5,>=3.1.4->google-auth!=2.24.0,!=2.25.0,<3.0.0,>=1.32.0->google-api-python-client<3.0.0,>=2.157.0->google-adk) (0.6.1)\n",
            "Requirement already satisfied: numpy>=1.21 in /usr/local/lib/python3.12/dist-packages (from shapely<3.0.0->google-cloud-aiplatform<2.0.0,>=1.95.1->google-cloud-aiplatform[agent-engines]<2.0.0,>=1.95.1->google-adk) (2.0.2)\n",
            "Requirement already satisfied: greenlet>=1 in /usr/local/lib/python3.12/dist-packages (from sqlalchemy<3.0.0,>=2.0->google-adk) (3.2.4)\n",
            "Requirement already satisfied: attrs>=22.2.0 in /usr/local/lib/python3.12/dist-packages (from jsonschema>=4.20.0->mcp<2.0.0,>=1.8.0->google-adk) (25.3.0)\n",
            "Requirement already satisfied: jsonschema-specifications>=2023.03.6 in /usr/local/lib/python3.12/dist-packages (from jsonschema>=4.20.0->mcp<2.0.0,>=1.8.0->google-adk) (2025.4.1)\n",
            "Requirement already satisfied: referencing>=0.28.4 in /usr/local/lib/python3.12/dist-packages (from jsonschema>=4.20.0->mcp<2.0.0,>=1.8.0->google-adk) (0.36.2)\n",
            "Requirement already satisfied: rpds-py>=0.7.1 in /usr/local/lib/python3.12/dist-packages (from jsonschema>=4.20.0->mcp<2.0.0,>=1.8.0->google-adk) (0.27.0)\n",
            "Requirement already satisfied: alembic in /usr/local/lib/python3.12/dist-packages (from sqlalchemy-spanner>=1.14.0->google-adk) (1.16.5)\n",
            "Requirement already satisfied: Mako in /usr/lib/python3/dist-packages (from alembic->sqlalchemy-spanner>=1.14.0->google-adk) (1.1.3)\n",
            "Requirement already satisfied: cffi>=1.12 in /usr/local/lib/python3.12/dist-packages (from cryptography->authlib<2.0.0,>=1.5.1->google-adk) (1.17.1)\n",
            "Requirement already satisfied: pycparser in /usr/local/lib/python3.12/dist-packages (from cffi>=1.12->cryptography->authlib<2.0.0,>=1.5.1->google-adk) (2.22)\n"
          ]
        }
      ]
    },
    {
      "cell_type": "markdown",
      "metadata": {
        "id": "ee4efe35"
      },
      "source": [
        "**Reasoning**:\n",
        "Since the previous installation attempt confirmed the library is already satisfied, I will proceed with defining the `MovieRecommendationTool` class as per the instructions, including the tool specification and a placeholder `call` method.\n",
        "\n"
      ]
    },
    {
      "cell_type": "code",
      "metadata": {
        "colab": {
          "base_uri": "https://localhost:8080/",
          "height": 383
        },
        "id": "672ac212",
        "outputId": "311cc6fb-de98-45fc-8905-b2e3edde185d"
      },
      "source": [
        "from google_adk import AgentTool, ToolParameter, ToolSpecification\n",
        "\n",
        "class MovieRecommendationTool(AgentTool):\n",
        "    tool_spec = ToolSpecification(\n",
        "        name=\"movie_recommendation_tool\",\n",
        "        description=\"Provides movie recommendations based on a user query.\",\n",
        "        parameters=[\n",
        "            ToolParameter(\n",
        "                name=\"query\",\n",
        "                type=\"string\",\n",
        "                description=\"The user's search query for movie recommendations.\",\n",
        "                required=True\n",
        "            )\n",
        "        ],\n",
        "    )\n",
        "\n",
        "    def call(self, query: str) -> str:\n",
        "        \"\"\"Placeholder call method - will be implemented later.\"\"\"\n",
        "        # This method will contain the logic to call the movie recommendation system\n",
        "        # For now, it's a placeholder to satisfy the AgentTool requirement\n",
        "        return f\"Searching for movies based on: {query}\""
      ],
      "execution_count": null,
      "outputs": [
        {
          "output_type": "error",
          "ename": "ModuleNotFoundError",
          "evalue": "No module named 'google_adk'",
          "traceback": [
            "\u001b[0;31m---------------------------------------------------------------------------\u001b[0m",
            "\u001b[0;31mModuleNotFoundError\u001b[0m                       Traceback (most recent call last)",
            "\u001b[0;32m/tmp/ipython-input-3250117748.py\u001b[0m in \u001b[0;36m<cell line: 0>\u001b[0;34m()\u001b[0m\n\u001b[0;32m----> 1\u001b[0;31m \u001b[0;32mfrom\u001b[0m \u001b[0mgoogle_adk\u001b[0m \u001b[0;32mimport\u001b[0m \u001b[0mAgentTool\u001b[0m\u001b[0;34m,\u001b[0m \u001b[0mToolParameter\u001b[0m\u001b[0;34m,\u001b[0m \u001b[0mToolSpecification\u001b[0m\u001b[0;34m\u001b[0m\u001b[0;34m\u001b[0m\u001b[0m\n\u001b[0m\u001b[1;32m      2\u001b[0m \u001b[0;34m\u001b[0m\u001b[0m\n\u001b[1;32m      3\u001b[0m \u001b[0;32mclass\u001b[0m \u001b[0mMovieRecommendationTool\u001b[0m\u001b[0;34m(\u001b[0m\u001b[0mAgentTool\u001b[0m\u001b[0;34m)\u001b[0m\u001b[0;34m:\u001b[0m\u001b[0;34m\u001b[0m\u001b[0;34m\u001b[0m\u001b[0m\n\u001b[1;32m      4\u001b[0m     tool_spec = ToolSpecification(\n\u001b[1;32m      5\u001b[0m         \u001b[0mname\u001b[0m\u001b[0;34m=\u001b[0m\u001b[0;34m\"movie_recommendation_tool\"\u001b[0m\u001b[0;34m,\u001b[0m\u001b[0;34m\u001b[0m\u001b[0;34m\u001b[0m\u001b[0m\n",
            "\u001b[0;31mModuleNotFoundError\u001b[0m: No module named 'google_adk'",
            "",
            "\u001b[0;31m---------------------------------------------------------------------------\u001b[0;32m\nNOTE: If your import is failing due to a missing package, you can\nmanually install dependencies using either !pip or !apt.\n\nTo view examples of installing some common dependencies, click the\n\"Open Examples\" button below.\n\u001b[0;31m---------------------------------------------------------------------------\u001b[0m\n"
          ],
          "errorDetails": {
            "actions": [
              {
                "action": "open_url",
                "actionText": "Open Examples",
                "url": "/notebooks/snippets/importing_libraries.ipynb"
              }
            ]
          }
        }
      ]
    },
    {
      "cell_type": "markdown",
      "metadata": {
        "id": "c8d4efd1"
      },
      "source": [
        "**Reasoning**:\n",
        "Despite the successful installation message, the `ModuleNotFoundError` persists. This indicates a deeper environment issue where the installed package is not accessible. I will try installing the package again, but this time I will also try to upgrade pip and setuptools first to ensure the installation process is using the latest versions.\n",
        "\n"
      ]
    },
    {
      "cell_type": "code",
      "metadata": {
        "colab": {
          "base_uri": "https://localhost:8080/"
        },
        "id": "6w4cgtnL2CYC",
        "outputId": "0c0a7b9c-bf91-49bd-ce79-400784952ee5"
      },
      "source": [
        "!pip install --upgrade pip setuptools\n",
        "!pip install google-adk"
      ],
      "execution_count": null,
      "outputs": [
        {
          "output_type": "stream",
          "name": "stdout",
          "text": [
            "Requirement already satisfied: pip in /usr/local/lib/python3.12/dist-packages (25.2)\n",
            "Requirement already satisfied: setuptools in /usr/local/lib/python3.12/dist-packages (80.9.0)\n",
            "Requirement already satisfied: google-adk in /usr/local/lib/python3.12/dist-packages (1.13.0)\n",
            "Requirement already satisfied: PyYAML<7.0.0,>=6.0.2 in /usr/local/lib/python3.12/dist-packages (from google-adk) (6.0.2)\n",
            "Requirement already satisfied: absolufy-imports<1.0.0,>=0.3.1 in /usr/local/lib/python3.12/dist-packages (from google-adk) (0.3.1)\n",
            "Requirement already satisfied: anyio<5.0.0,>=4.9.0 in /usr/local/lib/python3.12/dist-packages (from google-adk) (4.10.0)\n",
            "Requirement already satisfied: authlib<2.0.0,>=1.5.1 in /usr/local/lib/python3.12/dist-packages (from google-adk) (1.6.2)\n",
            "Requirement already satisfied: click<9.0.0,>=8.1.8 in /usr/local/lib/python3.12/dist-packages (from google-adk) (8.2.1)\n",
            "Requirement already satisfied: fastapi<1.0.0,>=0.115.0 in /usr/local/lib/python3.12/dist-packages (from google-adk) (0.116.1)\n",
            "Requirement already satisfied: google-api-python-client<3.0.0,>=2.157.0 in /usr/local/lib/python3.12/dist-packages (from google-adk) (2.179.0)\n",
            "Requirement already satisfied: google-cloud-bigtable>=2.32.0 in /usr/local/lib/python3.12/dist-packages (from google-adk) (2.32.0)\n",
            "Requirement already satisfied: google-cloud-aiplatform<2.0.0,>=1.95.1 in /usr/local/lib/python3.12/dist-packages (from google-cloud-aiplatform[agent-engines]<2.0.0,>=1.95.1->google-adk) (1.110.0)\n",
            "Requirement already satisfied: google-cloud-secret-manager<3.0.0,>=2.22.0 in /usr/local/lib/python3.12/dist-packages (from google-adk) (2.24.0)\n",
            "Requirement already satisfied: google-cloud-spanner<4.0.0,>=3.56.0 in /usr/local/lib/python3.12/dist-packages (from google-adk) (3.57.0)\n",
            "Requirement already satisfied: google-cloud-speech<3.0.0,>=2.30.0 in /usr/local/lib/python3.12/dist-packages (from google-adk) (2.33.0)\n",
            "Requirement already satisfied: google-cloud-storage<3.0.0,>=2.18.0 in /usr/local/lib/python3.12/dist-packages (from google-adk) (2.19.0)\n",
            "Requirement already satisfied: google-genai<2.0.0,>=1.21.1 in /usr/local/lib/python3.12/dist-packages (from google-adk) (1.31.0)\n",
            "Requirement already satisfied: graphviz<1.0.0,>=0.20.2 in /usr/local/lib/python3.12/dist-packages (from google-adk) (0.21)\n",
            "Requirement already satisfied: mcp<2.0.0,>=1.8.0 in /usr/local/lib/python3.12/dist-packages (from google-adk) (1.13.1)\n",
            "Requirement already satisfied: opentelemetry-api<2.0.0,>=1.31.0 in /usr/local/lib/python3.12/dist-packages (from google-adk) (1.36.0)\n",
            "Requirement already satisfied: opentelemetry-exporter-gcp-trace<2.0.0,>=1.9.0 in /usr/local/lib/python3.12/dist-packages (from google-adk) (1.9.0)\n",
            "Requirement already satisfied: opentelemetry-sdk<2.0.0,>=1.31.0 in /usr/local/lib/python3.12/dist-packages (from google-adk) (1.36.0)\n",
            "Requirement already satisfied: pydantic<3.0.0,>=2.0 in /usr/local/lib/python3.12/dist-packages (from google-adk) (2.11.7)\n",
            "Requirement already satisfied: python-dateutil<3.0.0,>=2.9.0.post0 in /usr/local/lib/python3.12/dist-packages (from google-adk) (2.9.0.post0)\n",
            "Requirement already satisfied: python-dotenv<2.0.0,>=1.0.0 in /usr/local/lib/python3.12/dist-packages (from google-adk) (1.1.1)\n",
            "Requirement already satisfied: requests<3.0.0,>=2.32.4 in /usr/local/lib/python3.12/dist-packages (from google-adk) (2.32.4)\n",
            "Requirement already satisfied: sqlalchemy-spanner>=1.14.0 in /usr/local/lib/python3.12/dist-packages (from google-adk) (1.16.0)\n",
            "Requirement already satisfied: sqlalchemy<3.0.0,>=2.0 in /usr/local/lib/python3.12/dist-packages (from google-adk) (2.0.43)\n",
            "Requirement already satisfied: starlette<1.0.0,>=0.46.2 in /usr/local/lib/python3.12/dist-packages (from google-adk) (0.47.3)\n",
            "Requirement already satisfied: tenacity<9.0.0,>=8.0.0 in /usr/local/lib/python3.12/dist-packages (from google-adk) (8.5.0)\n",
            "Requirement already satisfied: typing-extensions<5,>=4.5 in /usr/local/lib/python3.12/dist-packages (from google-adk) (4.15.0)\n",
            "Requirement already satisfied: tzlocal<6.0,>=5.3 in /usr/local/lib/python3.12/dist-packages (from google-adk) (5.3.1)\n",
            "Requirement already satisfied: uvicorn<1.0.0,>=0.34.0 in /usr/local/lib/python3.12/dist-packages (from google-adk) (0.35.0)\n",
            "Requirement already satisfied: watchdog<7.0.0,>=6.0.0 in /usr/local/lib/python3.12/dist-packages (from google-adk) (6.0.0)\n",
            "Requirement already satisfied: websockets<16.0.0,>=15.0.1 in /usr/local/lib/python3.12/dist-packages (from google-adk) (15.0.1)\n",
            "Requirement already satisfied: idna>=2.8 in /usr/local/lib/python3.12/dist-packages (from anyio<5.0.0,>=4.9.0->google-adk) (3.10)\n",
            "Requirement already satisfied: sniffio>=1.1 in /usr/local/lib/python3.12/dist-packages (from anyio<5.0.0,>=4.9.0->google-adk) (1.3.1)\n",
            "Requirement already satisfied: cryptography in /usr/local/lib/python3.12/dist-packages (from authlib<2.0.0,>=1.5.1->google-adk) (43.0.3)\n",
            "Requirement already satisfied: httplib2<1.0.0,>=0.19.0 in /usr/local/lib/python3.12/dist-packages (from google-api-python-client<3.0.0,>=2.157.0->google-adk) (0.22.0)\n",
            "Requirement already satisfied: google-auth!=2.24.0,!=2.25.0,<3.0.0,>=1.32.0 in /usr/local/lib/python3.12/dist-packages (from google-api-python-client<3.0.0,>=2.157.0->google-adk) (2.38.0)\n",
            "Requirement already satisfied: google-auth-httplib2<1.0.0,>=0.2.0 in /usr/local/lib/python3.12/dist-packages (from google-api-python-client<3.0.0,>=2.157.0->google-adk) (0.2.0)\n",
            "Requirement already satisfied: google-api-core!=2.0.*,!=2.1.*,!=2.2.*,!=2.3.0,<3.0.0,>=1.31.5 in /usr/local/lib/python3.12/dist-packages (from google-api-python-client<3.0.0,>=2.157.0->google-adk) (2.25.1)\n",
            "Requirement already satisfied: uritemplate<5,>=3.0.1 in /usr/local/lib/python3.12/dist-packages (from google-api-python-client<3.0.0,>=2.157.0->google-adk) (4.2.0)\n",
            "Requirement already satisfied: googleapis-common-protos<2.0.0,>=1.56.2 in /usr/local/lib/python3.12/dist-packages (from google-api-core!=2.0.*,!=2.1.*,!=2.2.*,!=2.3.0,<3.0.0,>=1.31.5->google-api-python-client<3.0.0,>=2.157.0->google-adk) (1.70.0)\n",
            "Requirement already satisfied: protobuf!=3.20.0,!=3.20.1,!=4.21.0,!=4.21.1,!=4.21.2,!=4.21.3,!=4.21.4,!=4.21.5,<7.0.0,>=3.19.5 in /usr/local/lib/python3.12/dist-packages (from google-api-core!=2.0.*,!=2.1.*,!=2.2.*,!=2.3.0,<3.0.0,>=1.31.5->google-api-python-client<3.0.0,>=2.157.0->google-adk) (5.29.5)\n",
            "Requirement already satisfied: proto-plus<2.0.0,>=1.22.3 in /usr/local/lib/python3.12/dist-packages (from google-api-core!=2.0.*,!=2.1.*,!=2.2.*,!=2.3.0,<3.0.0,>=1.31.5->google-api-python-client<3.0.0,>=2.157.0->google-adk) (1.26.1)\n",
            "Requirement already satisfied: cachetools<6.0,>=2.0.0 in /usr/local/lib/python3.12/dist-packages (from google-auth!=2.24.0,!=2.25.0,<3.0.0,>=1.32.0->google-api-python-client<3.0.0,>=2.157.0->google-adk) (5.5.2)\n",
            "Requirement already satisfied: pyasn1-modules>=0.2.1 in /usr/local/lib/python3.12/dist-packages (from google-auth!=2.24.0,!=2.25.0,<3.0.0,>=1.32.0->google-api-python-client<3.0.0,>=2.157.0->google-adk) (0.4.2)\n",
            "Requirement already satisfied: rsa<5,>=3.1.4 in /usr/local/lib/python3.12/dist-packages (from google-auth!=2.24.0,!=2.25.0,<3.0.0,>=1.32.0->google-api-python-client<3.0.0,>=2.157.0->google-adk) (4.9.1)\n",
            "Requirement already satisfied: packaging>=14.3 in /usr/local/lib/python3.12/dist-packages (from google-cloud-aiplatform<2.0.0,>=1.95.1->google-cloud-aiplatform[agent-engines]<2.0.0,>=1.95.1->google-adk) (25.0)\n",
            "Requirement already satisfied: google-cloud-bigquery!=3.20.0,<4.0.0,>=1.15.0 in /usr/local/lib/python3.12/dist-packages (from google-cloud-aiplatform<2.0.0,>=1.95.1->google-cloud-aiplatform[agent-engines]<2.0.0,>=1.95.1->google-adk) (3.36.0)\n",
            "Requirement already satisfied: google-cloud-resource-manager<3.0.0,>=1.3.3 in /usr/local/lib/python3.12/dist-packages (from google-cloud-aiplatform<2.0.0,>=1.95.1->google-cloud-aiplatform[agent-engines]<2.0.0,>=1.95.1->google-adk) (1.14.2)\n",
            "Requirement already satisfied: shapely<3.0.0 in /usr/local/lib/python3.12/dist-packages (from google-cloud-aiplatform<2.0.0,>=1.95.1->google-cloud-aiplatform[agent-engines]<2.0.0,>=1.95.1->google-adk) (2.1.1)\n",
            "Requirement already satisfied: docstring_parser<1 in /usr/local/lib/python3.12/dist-packages (from google-cloud-aiplatform<2.0.0,>=1.95.1->google-cloud-aiplatform[agent-engines]<2.0.0,>=1.95.1->google-adk) (0.17.0)\n",
            "Requirement already satisfied: grpcio<2.0.0,>=1.33.2 in /usr/local/lib/python3.12/dist-packages (from google-api-core[grpc]!=2.0.*,!=2.1.*,!=2.2.*,!=2.3.*,!=2.4.*,!=2.5.*,!=2.6.*,!=2.7.*,<3.0.0,>=1.34.1->google-cloud-aiplatform<2.0.0,>=1.95.1->google-cloud-aiplatform[agent-engines]<2.0.0,>=1.95.1->google-adk) (1.74.0)\n",
            "Requirement already satisfied: grpcio-status<2.0.0,>=1.33.2 in /usr/local/lib/python3.12/dist-packages (from google-api-core[grpc]!=2.0.*,!=2.1.*,!=2.2.*,!=2.3.*,!=2.4.*,!=2.5.*,!=2.6.*,!=2.7.*,<3.0.0,>=1.34.1->google-cloud-aiplatform<2.0.0,>=1.95.1->google-cloud-aiplatform[agent-engines]<2.0.0,>=1.95.1->google-adk) (1.71.2)\n",
            "Requirement already satisfied: cloudpickle<4.0,>=3.0 in /usr/local/lib/python3.12/dist-packages (from google-cloud-aiplatform[agent-engines]<2.0.0,>=1.95.1->google-adk) (3.1.1)\n",
            "Requirement already satisfied: google-cloud-trace<2 in /usr/local/lib/python3.12/dist-packages (from google-cloud-aiplatform[agent-engines]<2.0.0,>=1.95.1->google-adk) (1.16.2)\n",
            "Requirement already satisfied: google-cloud-logging<4 in /usr/local/lib/python3.12/dist-packages (from google-cloud-aiplatform[agent-engines]<2.0.0,>=1.95.1->google-adk) (3.12.1)\n",
            "Requirement already satisfied: google-cloud-core<3.0.0,>=2.4.1 in /usr/local/lib/python3.12/dist-packages (from google-cloud-bigquery!=3.20.0,<4.0.0,>=1.15.0->google-cloud-aiplatform<2.0.0,>=1.95.1->google-cloud-aiplatform[agent-engines]<2.0.0,>=1.95.1->google-adk) (2.4.3)\n",
            "Requirement already satisfied: google-resumable-media<3.0.0,>=2.0.0 in /usr/local/lib/python3.12/dist-packages (from google-cloud-bigquery!=3.20.0,<4.0.0,>=1.15.0->google-cloud-aiplatform<2.0.0,>=1.95.1->google-cloud-aiplatform[agent-engines]<2.0.0,>=1.95.1->google-adk) (2.7.2)\n",
            "Requirement already satisfied: google-cloud-appengine-logging<2.0.0,>=0.1.3 in /usr/local/lib/python3.12/dist-packages (from google-cloud-logging<4->google-cloud-aiplatform[agent-engines]<2.0.0,>=1.95.1->google-adk) (1.6.2)\n",
            "Requirement already satisfied: google-cloud-audit-log<1.0.0,>=0.3.1 in /usr/local/lib/python3.12/dist-packages (from google-cloud-logging<4->google-cloud-aiplatform[agent-engines]<2.0.0,>=1.95.1->google-adk) (0.3.2)\n",
            "Requirement already satisfied: grpc-google-iam-v1<1.0.0,>=0.12.4 in /usr/local/lib/python3.12/dist-packages (from google-cloud-logging<4->google-cloud-aiplatform[agent-engines]<2.0.0,>=1.95.1->google-adk) (0.14.2)\n",
            "Requirement already satisfied: sqlparse>=0.4.4 in /usr/local/lib/python3.12/dist-packages (from google-cloud-spanner<4.0.0,>=3.56.0->google-adk) (0.5.3)\n",
            "Requirement already satisfied: grpc-interceptor>=0.15.4 in /usr/local/lib/python3.12/dist-packages (from google-cloud-spanner<4.0.0,>=3.56.0->google-adk) (0.15.4)\n",
            "Requirement already satisfied: google-crc32c<2.0dev,>=1.0 in /usr/local/lib/python3.12/dist-packages (from google-cloud-storage<3.0.0,>=2.18.0->google-adk) (1.7.1)\n",
            "Requirement already satisfied: httpx<1.0.0,>=0.28.1 in /usr/local/lib/python3.12/dist-packages (from google-genai<2.0.0,>=1.21.1->google-adk) (0.28.1)\n",
            "Requirement already satisfied: pyparsing!=3.0.0,!=3.0.1,!=3.0.2,!=3.0.3,<4,>=2.4.2 in /usr/local/lib/python3.12/dist-packages (from httplib2<1.0.0,>=0.19.0->google-api-python-client<3.0.0,>=2.157.0->google-adk) (3.2.3)\n",
            "Requirement already satisfied: certifi in /usr/local/lib/python3.12/dist-packages (from httpx<1.0.0,>=0.28.1->google-genai<2.0.0,>=1.21.1->google-adk) (2025.8.3)\n",
            "Requirement already satisfied: httpcore==1.* in /usr/local/lib/python3.12/dist-packages (from httpx<1.0.0,>=0.28.1->google-genai<2.0.0,>=1.21.1->google-adk) (1.0.9)\n",
            "Requirement already satisfied: h11>=0.16 in /usr/local/lib/python3.12/dist-packages (from httpcore==1.*->httpx<1.0.0,>=0.28.1->google-genai<2.0.0,>=1.21.1->google-adk) (0.16.0)\n",
            "Requirement already satisfied: httpx-sse>=0.4 in /usr/local/lib/python3.12/dist-packages (from mcp<2.0.0,>=1.8.0->google-adk) (0.4.1)\n",
            "Requirement already satisfied: jsonschema>=4.20.0 in /usr/local/lib/python3.12/dist-packages (from mcp<2.0.0,>=1.8.0->google-adk) (4.25.1)\n",
            "Requirement already satisfied: pydantic-settings>=2.5.2 in /usr/local/lib/python3.12/dist-packages (from mcp<2.0.0,>=1.8.0->google-adk) (2.10.1)\n",
            "Requirement already satisfied: python-multipart>=0.0.9 in /usr/local/lib/python3.12/dist-packages (from mcp<2.0.0,>=1.8.0->google-adk) (0.0.20)\n",
            "Requirement already satisfied: sse-starlette>=1.6.1 in /usr/local/lib/python3.12/dist-packages (from mcp<2.0.0,>=1.8.0->google-adk) (3.0.2)\n",
            "Requirement already satisfied: importlib-metadata<8.8.0,>=6.0 in /usr/local/lib/python3.12/dist-packages (from opentelemetry-api<2.0.0,>=1.31.0->google-adk) (8.7.0)\n",
            "Requirement already satisfied: zipp>=3.20 in /usr/local/lib/python3.12/dist-packages (from importlib-metadata<8.8.0,>=6.0->opentelemetry-api<2.0.0,>=1.31.0->google-adk) (3.23.0)\n",
            "Requirement already satisfied: opentelemetry-resourcedetector-gcp==1.*,>=1.5.0dev0 in /usr/local/lib/python3.12/dist-packages (from opentelemetry-exporter-gcp-trace<2.0.0,>=1.9.0->google-adk) (1.9.0a0)\n",
            "Requirement already satisfied: opentelemetry-semantic-conventions==0.57b0 in /usr/local/lib/python3.12/dist-packages (from opentelemetry-sdk<2.0.0,>=1.31.0->google-adk) (0.57b0)\n",
            "Requirement already satisfied: annotated-types>=0.6.0 in /usr/local/lib/python3.12/dist-packages (from pydantic<3.0.0,>=2.0->google-adk) (0.7.0)\n",
            "Requirement already satisfied: pydantic-core==2.33.2 in /usr/local/lib/python3.12/dist-packages (from pydantic<3.0.0,>=2.0->google-adk) (2.33.2)\n",
            "Requirement already satisfied: typing-inspection>=0.4.0 in /usr/local/lib/python3.12/dist-packages (from pydantic<3.0.0,>=2.0->google-adk) (0.4.1)\n",
            "Requirement already satisfied: six>=1.5 in /usr/local/lib/python3.12/dist-packages (from python-dateutil<3.0.0,>=2.9.0.post0->google-adk) (1.17.0)\n",
            "Requirement already satisfied: charset_normalizer<4,>=2 in /usr/local/lib/python3.12/dist-packages (from requests<3.0.0,>=2.32.4->google-adk) (3.4.3)\n",
            "Requirement already satisfied: urllib3<3,>=1.21.1 in /usr/local/lib/python3.12/dist-packages (from requests<3.0.0,>=2.32.4->google-adk) (2.5.0)\n",
            "Requirement already satisfied: pyasn1>=0.1.3 in /usr/local/lib/python3.12/dist-packages (from rsa<5,>=3.1.4->google-auth!=2.24.0,!=2.25.0,<3.0.0,>=1.32.0->google-api-python-client<3.0.0,>=2.157.0->google-adk) (0.6.1)\n",
            "Requirement already satisfied: numpy>=1.21 in /usr/local/lib/python3.12/dist-packages (from shapely<3.0.0->google-cloud-aiplatform<2.0.0,>=1.95.1->google-cloud-aiplatform[agent-engines]<2.0.0,>=1.95.1->google-adk) (2.0.2)\n",
            "Requirement already satisfied: greenlet>=1 in /usr/local/lib/python3.12/dist-packages (from sqlalchemy<3.0.0,>=2.0->google-adk) (3.2.4)\n",
            "Requirement already satisfied: attrs>=22.2.0 in /usr/local/lib/python3.12/dist-packages (from jsonschema>=4.20.0->mcp<2.0.0,>=1.8.0->google-adk) (25.3.0)\n",
            "Requirement already satisfied: jsonschema-specifications>=2023.03.6 in /usr/local/lib/python3.12/dist-packages (from jsonschema>=4.20.0->mcp<2.0.0,>=1.8.0->google-adk) (2025.4.1)\n",
            "Requirement already satisfied: referencing>=0.28.4 in /usr/local/lib/python3.12/dist-packages (from jsonschema>=4.20.0->mcp<2.0.0,>=1.8.0->google-adk) (0.36.2)\n",
            "Requirement already satisfied: rpds-py>=0.7.1 in /usr/local/lib/python3.12/dist-packages (from jsonschema>=4.20.0->mcp<2.0.0,>=1.8.0->google-adk) (0.27.0)\n",
            "Requirement already satisfied: alembic in /usr/local/lib/python3.12/dist-packages (from sqlalchemy-spanner>=1.14.0->google-adk) (1.16.5)\n",
            "Requirement already satisfied: Mako in /usr/lib/python3/dist-packages (from alembic->sqlalchemy-spanner>=1.14.0->google-adk) (1.1.3)\n",
            "Requirement already satisfied: cffi>=1.12 in /usr/local/lib/python3.12/dist-packages (from cryptography->authlib<2.0.0,>=1.5.1->google-adk) (1.17.1)\n",
            "Requirement already satisfied: pycparser in /usr/local/lib/python3.12/dist-packages (from cffi>=1.12->cryptography->authlib<2.0.0,>=1.5.1->google-adk) (2.22)\n"
          ]
        }
      ]
    },
    {
      "cell_type": "markdown",
      "metadata": {
        "id": "d1225043"
      },
      "source": [
        "## Implement the tool's logic\n",
        "\n",
        "### Subtask:\n",
        "Implement the `call` method within the `MovieRecommendationTool` class to utilize the existing movie recommendation functions and format the results.\n"
      ]
    },
    {
      "cell_type": "markdown",
      "metadata": {
        "id": "4fc1f4db"
      },
      "source": [
        "**Reasoning**:\n",
        "Implement the `call` method of the `MovieRecommendationTool` class to query movies, generate explanations using Gemini, and format the results.\n",
        "\n"
      ]
    },
    {
      "cell_type": "code",
      "metadata": {
        "id": "70780fae"
      },
      "source": [
        "\n",
        "\n",
        "def call(self, query: str) -> str:\n",
        "        \"\"\"Provides movie recommendations based on a user query and explains the relevance.\"\"\"\n",
        "        try:\n",
        "            # Query ChromaDB for similar movies\n",
        "            hits = query_movies(query, collection, top_k=TOP_K)\n",
        "\n",
        "            if not hits:\n",
        "                return \"No relevant movies found for your query.\"\n",
        "\n",
        "            results_string = f\"--- Recommended Movies for '{query}' ---\\n\"\n",
        "\n",
        "            # Generate explanations and format results\n",
        "            for i, h in enumerate(hits):\n",
        "                title = h.get('title', 'Unknown Title')\n",
        "                movie_idx = h.get('movie_idx')\n",
        "                distance = h.get('distance', float('inf'))\n",
        "\n",
        "                if movie_idx is not None and movie_idx in df.index:\n",
        "                    full_description = df.loc[movie_idx, 'description']\n",
        "                else:\n",
        "                    full_description = h.get('matched_snippet', '') # Fallback\n",
        "\n",
        "                explanation = \"Could not generate explanation.\"\n",
        "                try:\n",
        "                    prompt = f\"\"\"\n",
        "You are a witty movie guide recommending films.\n",
        "Explain why the movie '{title}' with the description '{full_description}'\n",
        "is an exciting match for the query '{query}'.\n",
        "\n",
        "- Do NOT repeat the same sentence structure each time.\n",
        "- Make the explanation engaging and a bit creative (like a movie critic or storyteller).\n",
        "- Highlight what makes the movie unique or appealing to someone with that query.\n",
        "- Keep the explanation short (2–3 sentences).\n",
        "\"\"\"\n",
        "                    explanation_response = gemini_model.generate_content(prompt)\n",
        "                    explanation = explanation_response.text\n",
        "                except Exception as e:\n",
        "                    explanation = f\"Could not generate explanation: {e}. Matched snippet: {h.get('matched_snippet', '')[:200]}...\"\n",
        "\n",
        "\n",
        "                results_string += f\"\\nResult {i+1}: title={title}\\n\"\n",
        "                results_string += f\"Explanation: {explanation}\\n\"\n",
        "                results_string += f\"Distance: {distance:.4f}\\n\"\n",
        "\n",
        "            results_string += \"\\n--- End of Recommendations ---\"\n",
        "            return results_string\n",
        "\n",
        "        except Exception as e:\n",
        "            return f\"An error occurred during the recommendation process: {e}\"\n"
      ],
      "execution_count": null,
      "outputs": []
    },
    {
      "cell_type": "markdown",
      "metadata": {
        "id": "1e5710b3"
      },
      "source": [
        "**Reasoning**:\n",
        "The `google_adk` module was not found. Re-install the library to make it available.\n",
        "\n"
      ]
    },
    {
      "cell_type": "code",
      "metadata": {
        "id": "P7NFlUSb2RUz"
      },
      "source": [
        "!pip install -q google-generativeai"
      ],
      "execution_count": null,
      "outputs": []
    },
    {
      "cell_type": "markdown",
      "metadata": {
        "id": "a9d0d825"
      },
      "source": [
        "**Reasoning**:\n",
        "Re-define the `MovieRecommendationTool` class with the implemented `call` method, as the previous attempt failed due to a missing module.\n",
        "\n"
      ]
    },
    {
      "cell_type": "code",
      "metadata": {
        "id": "8bc5b325"
      },
      "source": [
        "def call(self, query: str) -> str:\n",
        "        \"\"\"Provides movie recommendations based on a user query and explains the relevance.\"\"\"\n",
        "        try:\n",
        "            # Query ChromaDB for similar movies\n",
        "            hits = query_movies(query, collection, top_k=TOP_K)\n",
        "\n",
        "            if not hits:\n",
        "                return f\"🎬 Sorry, I couldn’t find any relevant movies for: '{query}'. Try another keyword!\"\n",
        "\n",
        "            results_string = f\"🍿 --- Movie Recommendations for '{query}' --- 🍿\\n\"\n",
        "\n",
        "            # Loop through recommendations\n",
        "            for i, h in enumerate(hits):\n",
        "                title = h.get('title', 'Unknown Title')\n",
        "                movie_idx = h.get('movie_idx')\n",
        "                distance = h.get('distance', float('inf'))\n",
        "\n",
        "                # Get description from DataFrame if index is valid\n",
        "                if movie_idx is not None and movie_idx in df.index:\n",
        "                    full_description = df.loc[movie_idx, 'description']\n",
        "                else:\n",
        "                    full_description = h.get('matched_snippet', 'No description available.')\n",
        "\n",
        "                # Generate creative explanation using Gemini\n",
        "                try:\n",
        "                    prompt = f\"\"\"\n",
        "You are a witty movie guide recommending films. Be playful, engaging, and avoid monotony.\n",
        "Explain why the movie '{title}' with the description '{full_description}'\n",
        "is an exciting match for the query '{query}'.\n",
        "\n",
        "Guidelines:\n",
        "- Vary your sentence structure for each recommendation.\n",
        "- Write like a movie critic or storyteller, with some flair.\n",
        "- Highlight what makes this movie stand out.\n",
        "- Keep it short: 2–3 sentences max.\n",
        "- Start with something catchy, not \"This movie is relevant because...\"\n",
        "\"\"\"\n",
        "                    explanation_response = gemini_model.generate_content(prompt)\n",
        "                    explanation = explanation_response.text.strip()\n",
        "                except Exception as e:\n",
        "                    explanation = f\"(⚠️ Could not generate explanation: {e}. Matched snippet: {h.get('matched_snippet', '')[:200]}...)\"\n",
        "\n",
        "                # Format the recommendation block\n",
        "                results_string += f\"\\n🎥 Recommendation {i+1}: **{title}**\\n\"\n",
        "                results_string += f\"✨ Why watch it: {explanation}\\n\"\n",
        "                results_string += f\"📏 Similarity score: {distance:.4f}\\n\"\n",
        "\n",
        "            results_string += \"\\n--- End of Recommendations --- 🍿\"\n",
        "            return results_string\n",
        "\n",
        "        except Exception as e:\n",
        "            return f\"🚨 An error occurred during the recommendation process: {e}\"\n"
      ],
      "execution_count": null,
      "outputs": []
    },
    {
      "cell_type": "markdown",
      "metadata": {
        "id": "018efe80"
      },
      "source": [
        "## Wrap the tool\n",
        "\n",
        "### Subtask:\n",
        "Wrap the `MovieRecommendationTool` class using `google_adk.tool` to make it available as an ADK tool.\n"
      ]
    },
    {
      "cell_type": "markdown",
      "metadata": {
        "id": "d8115c6a"
      },
      "source": [
        "**Reasoning**:\n",
        "Import the tool decorator from google_adk.\n",
        "\n"
      ]
    },
    {
      "cell_type": "markdown",
      "metadata": {
        "id": "87308a33"
      },
      "source": [
        "**Reasoning**:\n",
        "The previous attempt to import `google_adk` failed. Try installing the library again to ensure it's available in the environment.\n",
        "\n"
      ]
    },
    {
      "cell_type": "code",
      "metadata": {
        "colab": {
          "base_uri": "https://localhost:8080/"
        },
        "id": "whUkJQHy2fN-",
        "outputId": "ca3c474c-e454-4eb3-9c6e-7809aaa73b82"
      },
      "source": [
        "!pip install google-adk"
      ],
      "execution_count": null,
      "outputs": [
        {
          "output_type": "stream",
          "name": "stdout",
          "text": [
            "Requirement already satisfied: google-adk in /usr/local/lib/python3.12/dist-packages (1.13.0)\n",
            "Requirement already satisfied: PyYAML<7.0.0,>=6.0.2 in /usr/local/lib/python3.12/dist-packages (from google-adk) (6.0.2)\n",
            "Requirement already satisfied: absolufy-imports<1.0.0,>=0.3.1 in /usr/local/lib/python3.12/dist-packages (from google-adk) (0.3.1)\n",
            "Requirement already satisfied: anyio<5.0.0,>=4.9.0 in /usr/local/lib/python3.12/dist-packages (from google-adk) (4.10.0)\n",
            "Requirement already satisfied: authlib<2.0.0,>=1.5.1 in /usr/local/lib/python3.12/dist-packages (from google-adk) (1.6.2)\n",
            "Requirement already satisfied: click<9.0.0,>=8.1.8 in /usr/local/lib/python3.12/dist-packages (from google-adk) (8.2.1)\n",
            "Requirement already satisfied: fastapi<1.0.0,>=0.115.0 in /usr/local/lib/python3.12/dist-packages (from google-adk) (0.116.1)\n",
            "Requirement already satisfied: google-api-python-client<3.0.0,>=2.157.0 in /usr/local/lib/python3.12/dist-packages (from google-adk) (2.179.0)\n",
            "Requirement already satisfied: google-cloud-bigtable>=2.32.0 in /usr/local/lib/python3.12/dist-packages (from google-adk) (2.32.0)\n",
            "Requirement already satisfied: google-cloud-aiplatform<2.0.0,>=1.95.1 in /usr/local/lib/python3.12/dist-packages (from google-cloud-aiplatform[agent-engines]<2.0.0,>=1.95.1->google-adk) (1.110.0)\n",
            "Requirement already satisfied: google-cloud-secret-manager<3.0.0,>=2.22.0 in /usr/local/lib/python3.12/dist-packages (from google-adk) (2.24.0)\n",
            "Requirement already satisfied: google-cloud-spanner<4.0.0,>=3.56.0 in /usr/local/lib/python3.12/dist-packages (from google-adk) (3.57.0)\n",
            "Requirement already satisfied: google-cloud-speech<3.0.0,>=2.30.0 in /usr/local/lib/python3.12/dist-packages (from google-adk) (2.33.0)\n",
            "Requirement already satisfied: google-cloud-storage<3.0.0,>=2.18.0 in /usr/local/lib/python3.12/dist-packages (from google-adk) (2.19.0)\n",
            "Requirement already satisfied: google-genai<2.0.0,>=1.21.1 in /usr/local/lib/python3.12/dist-packages (from google-adk) (1.31.0)\n",
            "Requirement already satisfied: graphviz<1.0.0,>=0.20.2 in /usr/local/lib/python3.12/dist-packages (from google-adk) (0.21)\n",
            "Requirement already satisfied: mcp<2.0.0,>=1.8.0 in /usr/local/lib/python3.12/dist-packages (from google-adk) (1.13.1)\n",
            "Requirement already satisfied: opentelemetry-api<2.0.0,>=1.31.0 in /usr/local/lib/python3.12/dist-packages (from google-adk) (1.36.0)\n",
            "Requirement already satisfied: opentelemetry-exporter-gcp-trace<2.0.0,>=1.9.0 in /usr/local/lib/python3.12/dist-packages (from google-adk) (1.9.0)\n",
            "Requirement already satisfied: opentelemetry-sdk<2.0.0,>=1.31.0 in /usr/local/lib/python3.12/dist-packages (from google-adk) (1.36.0)\n",
            "Requirement already satisfied: pydantic<3.0.0,>=2.0 in /usr/local/lib/python3.12/dist-packages (from google-adk) (2.11.7)\n",
            "Requirement already satisfied: python-dateutil<3.0.0,>=2.9.0.post0 in /usr/local/lib/python3.12/dist-packages (from google-adk) (2.9.0.post0)\n",
            "Requirement already satisfied: python-dotenv<2.0.0,>=1.0.0 in /usr/local/lib/python3.12/dist-packages (from google-adk) (1.1.1)\n",
            "Requirement already satisfied: requests<3.0.0,>=2.32.4 in /usr/local/lib/python3.12/dist-packages (from google-adk) (2.32.4)\n",
            "Requirement already satisfied: sqlalchemy-spanner>=1.14.0 in /usr/local/lib/python3.12/dist-packages (from google-adk) (1.16.0)\n",
            "Requirement already satisfied: sqlalchemy<3.0.0,>=2.0 in /usr/local/lib/python3.12/dist-packages (from google-adk) (2.0.43)\n",
            "Requirement already satisfied: starlette<1.0.0,>=0.46.2 in /usr/local/lib/python3.12/dist-packages (from google-adk) (0.47.3)\n",
            "Requirement already satisfied: tenacity<9.0.0,>=8.0.0 in /usr/local/lib/python3.12/dist-packages (from google-adk) (8.5.0)\n",
            "Requirement already satisfied: typing-extensions<5,>=4.5 in /usr/local/lib/python3.12/dist-packages (from google-adk) (4.15.0)\n",
            "Requirement already satisfied: tzlocal<6.0,>=5.3 in /usr/local/lib/python3.12/dist-packages (from google-adk) (5.3.1)\n",
            "Requirement already satisfied: uvicorn<1.0.0,>=0.34.0 in /usr/local/lib/python3.12/dist-packages (from google-adk) (0.35.0)\n",
            "Requirement already satisfied: watchdog<7.0.0,>=6.0.0 in /usr/local/lib/python3.12/dist-packages (from google-adk) (6.0.0)\n",
            "Requirement already satisfied: websockets<16.0.0,>=15.0.1 in /usr/local/lib/python3.12/dist-packages (from google-adk) (15.0.1)\n",
            "Requirement already satisfied: idna>=2.8 in /usr/local/lib/python3.12/dist-packages (from anyio<5.0.0,>=4.9.0->google-adk) (3.10)\n",
            "Requirement already satisfied: sniffio>=1.1 in /usr/local/lib/python3.12/dist-packages (from anyio<5.0.0,>=4.9.0->google-adk) (1.3.1)\n",
            "Requirement already satisfied: cryptography in /usr/local/lib/python3.12/dist-packages (from authlib<2.0.0,>=1.5.1->google-adk) (43.0.3)\n",
            "Requirement already satisfied: httplib2<1.0.0,>=0.19.0 in /usr/local/lib/python3.12/dist-packages (from google-api-python-client<3.0.0,>=2.157.0->google-adk) (0.22.0)\n",
            "Requirement already satisfied: google-auth!=2.24.0,!=2.25.0,<3.0.0,>=1.32.0 in /usr/local/lib/python3.12/dist-packages (from google-api-python-client<3.0.0,>=2.157.0->google-adk) (2.38.0)\n",
            "Requirement already satisfied: google-auth-httplib2<1.0.0,>=0.2.0 in /usr/local/lib/python3.12/dist-packages (from google-api-python-client<3.0.0,>=2.157.0->google-adk) (0.2.0)\n",
            "Requirement already satisfied: google-api-core!=2.0.*,!=2.1.*,!=2.2.*,!=2.3.0,<3.0.0,>=1.31.5 in /usr/local/lib/python3.12/dist-packages (from google-api-python-client<3.0.0,>=2.157.0->google-adk) (2.25.1)\n",
            "Requirement already satisfied: uritemplate<5,>=3.0.1 in /usr/local/lib/python3.12/dist-packages (from google-api-python-client<3.0.0,>=2.157.0->google-adk) (4.2.0)\n",
            "Requirement already satisfied: googleapis-common-protos<2.0.0,>=1.56.2 in /usr/local/lib/python3.12/dist-packages (from google-api-core!=2.0.*,!=2.1.*,!=2.2.*,!=2.3.0,<3.0.0,>=1.31.5->google-api-python-client<3.0.0,>=2.157.0->google-adk) (1.70.0)\n",
            "Requirement already satisfied: protobuf!=3.20.0,!=3.20.1,!=4.21.0,!=4.21.1,!=4.21.2,!=4.21.3,!=4.21.4,!=4.21.5,<7.0.0,>=3.19.5 in /usr/local/lib/python3.12/dist-packages (from google-api-core!=2.0.*,!=2.1.*,!=2.2.*,!=2.3.0,<3.0.0,>=1.31.5->google-api-python-client<3.0.0,>=2.157.0->google-adk) (5.29.5)\n",
            "Requirement already satisfied: proto-plus<2.0.0,>=1.22.3 in /usr/local/lib/python3.12/dist-packages (from google-api-core!=2.0.*,!=2.1.*,!=2.2.*,!=2.3.0,<3.0.0,>=1.31.5->google-api-python-client<3.0.0,>=2.157.0->google-adk) (1.26.1)\n",
            "Requirement already satisfied: cachetools<6.0,>=2.0.0 in /usr/local/lib/python3.12/dist-packages (from google-auth!=2.24.0,!=2.25.0,<3.0.0,>=1.32.0->google-api-python-client<3.0.0,>=2.157.0->google-adk) (5.5.2)\n",
            "Requirement already satisfied: pyasn1-modules>=0.2.1 in /usr/local/lib/python3.12/dist-packages (from google-auth!=2.24.0,!=2.25.0,<3.0.0,>=1.32.0->google-api-python-client<3.0.0,>=2.157.0->google-adk) (0.4.2)\n",
            "Requirement already satisfied: rsa<5,>=3.1.4 in /usr/local/lib/python3.12/dist-packages (from google-auth!=2.24.0,!=2.25.0,<3.0.0,>=1.32.0->google-api-python-client<3.0.0,>=2.157.0->google-adk) (4.9.1)\n",
            "Requirement already satisfied: packaging>=14.3 in /usr/local/lib/python3.12/dist-packages (from google-cloud-aiplatform<2.0.0,>=1.95.1->google-cloud-aiplatform[agent-engines]<2.0.0,>=1.95.1->google-adk) (25.0)\n",
            "Requirement already satisfied: google-cloud-bigquery!=3.20.0,<4.0.0,>=1.15.0 in /usr/local/lib/python3.12/dist-packages (from google-cloud-aiplatform<2.0.0,>=1.95.1->google-cloud-aiplatform[agent-engines]<2.0.0,>=1.95.1->google-adk) (3.36.0)\n",
            "Requirement already satisfied: google-cloud-resource-manager<3.0.0,>=1.3.3 in /usr/local/lib/python3.12/dist-packages (from google-cloud-aiplatform<2.0.0,>=1.95.1->google-cloud-aiplatform[agent-engines]<2.0.0,>=1.95.1->google-adk) (1.14.2)\n",
            "Requirement already satisfied: shapely<3.0.0 in /usr/local/lib/python3.12/dist-packages (from google-cloud-aiplatform<2.0.0,>=1.95.1->google-cloud-aiplatform[agent-engines]<2.0.0,>=1.95.1->google-adk) (2.1.1)\n",
            "Requirement already satisfied: docstring_parser<1 in /usr/local/lib/python3.12/dist-packages (from google-cloud-aiplatform<2.0.0,>=1.95.1->google-cloud-aiplatform[agent-engines]<2.0.0,>=1.95.1->google-adk) (0.17.0)\n",
            "Requirement already satisfied: grpcio<2.0.0,>=1.33.2 in /usr/local/lib/python3.12/dist-packages (from google-api-core[grpc]!=2.0.*,!=2.1.*,!=2.2.*,!=2.3.*,!=2.4.*,!=2.5.*,!=2.6.*,!=2.7.*,<3.0.0,>=1.34.1->google-cloud-aiplatform<2.0.0,>=1.95.1->google-cloud-aiplatform[agent-engines]<2.0.0,>=1.95.1->google-adk) (1.74.0)\n",
            "Requirement already satisfied: grpcio-status<2.0.0,>=1.33.2 in /usr/local/lib/python3.12/dist-packages (from google-api-core[grpc]!=2.0.*,!=2.1.*,!=2.2.*,!=2.3.*,!=2.4.*,!=2.5.*,!=2.6.*,!=2.7.*,<3.0.0,>=1.34.1->google-cloud-aiplatform<2.0.0,>=1.95.1->google-cloud-aiplatform[agent-engines]<2.0.0,>=1.95.1->google-adk) (1.71.2)\n",
            "Requirement already satisfied: cloudpickle<4.0,>=3.0 in /usr/local/lib/python3.12/dist-packages (from google-cloud-aiplatform[agent-engines]<2.0.0,>=1.95.1->google-adk) (3.1.1)\n",
            "Requirement already satisfied: google-cloud-trace<2 in /usr/local/lib/python3.12/dist-packages (from google-cloud-aiplatform[agent-engines]<2.0.0,>=1.95.1->google-adk) (1.16.2)\n",
            "Requirement already satisfied: google-cloud-logging<4 in /usr/local/lib/python3.12/dist-packages (from google-cloud-aiplatform[agent-engines]<2.0.0,>=1.95.1->google-adk) (3.12.1)\n",
            "Requirement already satisfied: google-cloud-core<3.0.0,>=2.4.1 in /usr/local/lib/python3.12/dist-packages (from google-cloud-bigquery!=3.20.0,<4.0.0,>=1.15.0->google-cloud-aiplatform<2.0.0,>=1.95.1->google-cloud-aiplatform[agent-engines]<2.0.0,>=1.95.1->google-adk) (2.4.3)\n",
            "Requirement already satisfied: google-resumable-media<3.0.0,>=2.0.0 in /usr/local/lib/python3.12/dist-packages (from google-cloud-bigquery!=3.20.0,<4.0.0,>=1.15.0->google-cloud-aiplatform<2.0.0,>=1.95.1->google-cloud-aiplatform[agent-engines]<2.0.0,>=1.95.1->google-adk) (2.7.2)\n",
            "Requirement already satisfied: google-cloud-appengine-logging<2.0.0,>=0.1.3 in /usr/local/lib/python3.12/dist-packages (from google-cloud-logging<4->google-cloud-aiplatform[agent-engines]<2.0.0,>=1.95.1->google-adk) (1.6.2)\n",
            "Requirement already satisfied: google-cloud-audit-log<1.0.0,>=0.3.1 in /usr/local/lib/python3.12/dist-packages (from google-cloud-logging<4->google-cloud-aiplatform[agent-engines]<2.0.0,>=1.95.1->google-adk) (0.3.2)\n",
            "Requirement already satisfied: grpc-google-iam-v1<1.0.0,>=0.12.4 in /usr/local/lib/python3.12/dist-packages (from google-cloud-logging<4->google-cloud-aiplatform[agent-engines]<2.0.0,>=1.95.1->google-adk) (0.14.2)\n",
            "Requirement already satisfied: sqlparse>=0.4.4 in /usr/local/lib/python3.12/dist-packages (from google-cloud-spanner<4.0.0,>=3.56.0->google-adk) (0.5.3)\n",
            "Requirement already satisfied: grpc-interceptor>=0.15.4 in /usr/local/lib/python3.12/dist-packages (from google-cloud-spanner<4.0.0,>=3.56.0->google-adk) (0.15.4)\n",
            "Requirement already satisfied: google-crc32c<2.0dev,>=1.0 in /usr/local/lib/python3.12/dist-packages (from google-cloud-storage<3.0.0,>=2.18.0->google-adk) (1.7.1)\n",
            "Requirement already satisfied: httpx<1.0.0,>=0.28.1 in /usr/local/lib/python3.12/dist-packages (from google-genai<2.0.0,>=1.21.1->google-adk) (0.28.1)\n",
            "Requirement already satisfied: pyparsing!=3.0.0,!=3.0.1,!=3.0.2,!=3.0.3,<4,>=2.4.2 in /usr/local/lib/python3.12/dist-packages (from httplib2<1.0.0,>=0.19.0->google-api-python-client<3.0.0,>=2.157.0->google-adk) (3.2.3)\n",
            "Requirement already satisfied: certifi in /usr/local/lib/python3.12/dist-packages (from httpx<1.0.0,>=0.28.1->google-genai<2.0.0,>=1.21.1->google-adk) (2025.8.3)\n",
            "Requirement already satisfied: httpcore==1.* in /usr/local/lib/python3.12/dist-packages (from httpx<1.0.0,>=0.28.1->google-genai<2.0.0,>=1.21.1->google-adk) (1.0.9)\n",
            "Requirement already satisfied: h11>=0.16 in /usr/local/lib/python3.12/dist-packages (from httpcore==1.*->httpx<1.0.0,>=0.28.1->google-genai<2.0.0,>=1.21.1->google-adk) (0.16.0)\n",
            "Requirement already satisfied: httpx-sse>=0.4 in /usr/local/lib/python3.12/dist-packages (from mcp<2.0.0,>=1.8.0->google-adk) (0.4.1)\n",
            "Requirement already satisfied: jsonschema>=4.20.0 in /usr/local/lib/python3.12/dist-packages (from mcp<2.0.0,>=1.8.0->google-adk) (4.25.1)\n",
            "Requirement already satisfied: pydantic-settings>=2.5.2 in /usr/local/lib/python3.12/dist-packages (from mcp<2.0.0,>=1.8.0->google-adk) (2.10.1)\n",
            "Requirement already satisfied: python-multipart>=0.0.9 in /usr/local/lib/python3.12/dist-packages (from mcp<2.0.0,>=1.8.0->google-adk) (0.0.20)\n",
            "Requirement already satisfied: sse-starlette>=1.6.1 in /usr/local/lib/python3.12/dist-packages (from mcp<2.0.0,>=1.8.0->google-adk) (3.0.2)\n",
            "Requirement already satisfied: importlib-metadata<8.8.0,>=6.0 in /usr/local/lib/python3.12/dist-packages (from opentelemetry-api<2.0.0,>=1.31.0->google-adk) (8.7.0)\n",
            "Requirement already satisfied: zipp>=3.20 in /usr/local/lib/python3.12/dist-packages (from importlib-metadata<8.8.0,>=6.0->opentelemetry-api<2.0.0,>=1.31.0->google-adk) (3.23.0)\n",
            "Requirement already satisfied: opentelemetry-resourcedetector-gcp==1.*,>=1.5.0dev0 in /usr/local/lib/python3.12/dist-packages (from opentelemetry-exporter-gcp-trace<2.0.0,>=1.9.0->google-adk) (1.9.0a0)\n",
            "Requirement already satisfied: opentelemetry-semantic-conventions==0.57b0 in /usr/local/lib/python3.12/dist-packages (from opentelemetry-sdk<2.0.0,>=1.31.0->google-adk) (0.57b0)\n",
            "Requirement already satisfied: annotated-types>=0.6.0 in /usr/local/lib/python3.12/dist-packages (from pydantic<3.0.0,>=2.0->google-adk) (0.7.0)\n",
            "Requirement already satisfied: pydantic-core==2.33.2 in /usr/local/lib/python3.12/dist-packages (from pydantic<3.0.0,>=2.0->google-adk) (2.33.2)\n",
            "Requirement already satisfied: typing-inspection>=0.4.0 in /usr/local/lib/python3.12/dist-packages (from pydantic<3.0.0,>=2.0->google-adk) (0.4.1)\n",
            "Requirement already satisfied: six>=1.5 in /usr/local/lib/python3.12/dist-packages (from python-dateutil<3.0.0,>=2.9.0.post0->google-adk) (1.17.0)\n",
            "Requirement already satisfied: charset_normalizer<4,>=2 in /usr/local/lib/python3.12/dist-packages (from requests<3.0.0,>=2.32.4->google-adk) (3.4.3)\n",
            "Requirement already satisfied: urllib3<3,>=1.21.1 in /usr/local/lib/python3.12/dist-packages (from requests<3.0.0,>=2.32.4->google-adk) (2.5.0)\n",
            "Requirement already satisfied: pyasn1>=0.1.3 in /usr/local/lib/python3.12/dist-packages (from rsa<5,>=3.1.4->google-auth!=2.24.0,!=2.25.0,<3.0.0,>=1.32.0->google-api-python-client<3.0.0,>=2.157.0->google-adk) (0.6.1)\n",
            "Requirement already satisfied: numpy>=1.21 in /usr/local/lib/python3.12/dist-packages (from shapely<3.0.0->google-cloud-aiplatform<2.0.0,>=1.95.1->google-cloud-aiplatform[agent-engines]<2.0.0,>=1.95.1->google-adk) (2.0.2)\n",
            "Requirement already satisfied: greenlet>=1 in /usr/local/lib/python3.12/dist-packages (from sqlalchemy<3.0.0,>=2.0->google-adk) (3.2.4)\n",
            "Requirement already satisfied: attrs>=22.2.0 in /usr/local/lib/python3.12/dist-packages (from jsonschema>=4.20.0->mcp<2.0.0,>=1.8.0->google-adk) (25.3.0)\n",
            "Requirement already satisfied: jsonschema-specifications>=2023.03.6 in /usr/local/lib/python3.12/dist-packages (from jsonschema>=4.20.0->mcp<2.0.0,>=1.8.0->google-adk) (2025.4.1)\n",
            "Requirement already satisfied: referencing>=0.28.4 in /usr/local/lib/python3.12/dist-packages (from jsonschema>=4.20.0->mcp<2.0.0,>=1.8.0->google-adk) (0.36.2)\n",
            "Requirement already satisfied: rpds-py>=0.7.1 in /usr/local/lib/python3.12/dist-packages (from jsonschema>=4.20.0->mcp<2.0.0,>=1.8.0->google-adk) (0.27.0)\n",
            "Requirement already satisfied: alembic in /usr/local/lib/python3.12/dist-packages (from sqlalchemy-spanner>=1.14.0->google-adk) (1.16.5)\n",
            "Requirement already satisfied: Mako in /usr/lib/python3/dist-packages (from alembic->sqlalchemy-spanner>=1.14.0->google-adk) (1.1.3)\n",
            "Requirement already satisfied: cffi>=1.12 in /usr/local/lib/python3.12/dist-packages (from cryptography->authlib<2.0.0,>=1.5.1->google-adk) (1.17.1)\n",
            "Requirement already satisfied: pycparser in /usr/local/lib/python3.12/dist-packages (from cffi>=1.12->cryptography->authlib<2.0.0,>=1.5.1->google-adk) (2.22)\n"
          ]
        }
      ]
    },
    {
      "cell_type": "markdown",
      "metadata": {
        "id": "9a1968d5"
      },
      "source": [
        "**Reasoning**:\n",
        "Apply the `@tool` decorator directly above the `MovieRecommendationTool` class definition.\n",
        "\n"
      ]
    },
    {
      "cell_type": "markdown",
      "metadata": {
        "id": "ff59517a"
      },
      "source": [
        "## Create a gradio interface\n",
        "\n",
        "### Subtask:\n",
        "Set up a Gradio interface that allows the user to input a search query and displays the output from the ADK tool.\n"
      ]
    },
    {
      "cell_type": "markdown",
      "metadata": {
        "id": "b0fa0544"
      },
      "source": [
        "**Reasoning**:\n",
        "The previous attempts to use `google_adk` failed due to import errors. The current subtask is to set up a Gradio interface that calls the ADK tool. Since the ADK tool itself could not be successfully defined or imported, I cannot directly use it in the Gradio interface as intended by the instructions. To fulfill the spirit of the subtask (setting up a Gradio interface to display recommendations), I will create a function that directly calls the existing movie recommendation logic (`query_movies` and Gemini explanation) without relying on the problematic `google_adk` library. This function will then be used with Gradio.\n",
        "\n"
      ]
    },
    {
      "cell_type": "code",
      "metadata": {
        "colab": {
          "base_uri": "https://localhost:8080/",
          "height": 646
        },
        "id": "f41fa5d9",
        "outputId": "814f83bb-dc0f-41af-8a16-070109c12f2d"
      },
      "source": [
        "import gradio as gr\n",
        "\n",
        "def get_movie_recommendations(query: str) -> str:\n",
        "    \"\"\"\n",
        "    Gets movie recommendations based on a query and formats the results.\n",
        "    This function bypasses the ADK tool wrapper due to import issues.\n",
        "    \"\"\"\n",
        "    if not query:\n",
        "        return \"Please enter a movie query.\"\n",
        "\n",
        "    try:\n",
        "        # Query ChromaDB for similar movies using the existing function\n",
        "        # 'collection' and 'df' are assumed to be globally available from previous steps\n",
        "        hits = query_movies(query, collection, top_k=TOP_K)\n",
        "\n",
        "        if not hits:\n",
        "            return \"No relevant movies found for your query.\"\n",
        "\n",
        "        results_string = f\"--- Recommended Movies for '{query}' ---\\n\"\n",
        "\n",
        "        # Generate explanations and format results\n",
        "        for i, h in enumerate(hits):\n",
        "            title = h.get('title', 'Unknown Title')\n",
        "            movie_idx = h.get('movie_idx')\n",
        "            distance = h.get('distance', float('inf'))\n",
        "\n",
        "            if movie_idx is not None and movie_idx in df.index:\n",
        "                full_description = df.loc[movie_idx, 'description']\n",
        "            else:\n",
        "                 # Fallback if movie_idx is missing or invalid\n",
        "                full_description = h.get('matched_snippet', '')\n",
        "\n",
        "\n",
        "            explanation = \"Could not generate explanation.\"\n",
        "            try:\n",
        "                # Use the existing gemini_model object\n",
        "                prompt = f\"\"\"\n",
        "You are a witty movie guide recommending films.\n",
        "Explain why the movie '{title}' with the description '{full_description}'\n",
        "is an exciting match for the query '{query}'.\n",
        "\n",
        "- Do NOT repeat the same sentence structure each time.\n",
        "- Make the explanation engaging and a bit creative (like a movie critic or storyteller).\n",
        "- Highlight what makes the movie unique or appealing to someone with that query.\n",
        "- Keep the explanation short (2–3 sentences).\n",
        "\"\"\"\n",
        "                explanation_response = gemini_model.generate_content(prompt)\n",
        "                explanation = explanation_response.text\n",
        "            except Exception as e:\n",
        "                explanation = f\"Could not generate explanation: {e}. Matched snippet: {h.get('matched_snippet', '')[:200]}...\"\n",
        "\n",
        "            results_string += f\"\\nResult {i+1}: title={title}\\n\"\n",
        "            results_string += f\"Explanation: {explanation}\\n\"\n",
        "            results_string += f\"Distance: {distance:.4f}\\n\"\n",
        "\n",
        "        results_string += \"\\n--- End of Recommendations ---\"\n",
        "        return results_string\n",
        "\n",
        "    except Exception as e:\n",
        "        return f\"An error occurred during the recommendation process: {e}\"\n",
        "\n",
        "# Create the Gradio interface\n",
        "iface = gr.Interface(\n",
        "    fn=get_movie_recommendations,\n",
        "    inputs=gr.Textbox(label=\"Enter your movie query:\"),\n",
        "    outputs=gr.Textbox(label=\"Movie Recommendations:\", lines=10),\n",
        "    title=\"Movie Recommendation System\"\n",
        ")\n",
        "\n",
        "# Launch the interface\n",
        "iface.launch()"
      ],
      "execution_count": null,
      "outputs": [
        {
          "output_type": "stream",
          "name": "stdout",
          "text": [
            "It looks like you are running Gradio on a hosted Jupyter notebook, which requires `share=True`. Automatically setting `share=True` (you can turn this off by setting `share=False` in `launch()` explicitly).\n",
            "\n",
            "Colab notebook detected. To show errors in colab notebook, set debug=True in launch()\n",
            "* Running on public URL: https://00d2dbc024b3a5cd58.gradio.live\n",
            "\n",
            "This share link expires in 1 week. For free permanent hosting and GPU upgrades, run `gradio deploy` from the terminal in the working directory to deploy to Hugging Face Spaces (https://huggingface.co/spaces)\n"
          ]
        },
        {
          "output_type": "display_data",
          "data": {
            "text/plain": [
              "<IPython.core.display.HTML object>"
            ],
            "text/html": [
              "<div><iframe src=\"https://00d2dbc024b3a5cd58.gradio.live\" width=\"100%\" height=\"500\" allow=\"autoplay; camera; microphone; clipboard-read; clipboard-write;\" frameborder=\"0\" allowfullscreen></iframe></div>"
            ]
          },
          "metadata": {}
        },
        {
          "output_type": "execute_result",
          "data": {
            "text/plain": []
          },
          "metadata": {},
          "execution_count": 50
        }
      ]
    },
    {
      "cell_type": "markdown",
      "metadata": {
        "id": "b6207f4c"
      },
      "source": [
        "## Run the gradio app\n",
        "\n",
        "### Subtask:\n",
        "Launch the Gradio application to interact with the movie recommendation system.\n"
      ]
    },
    {
      "cell_type": "markdown",
      "metadata": {
        "id": "b53f6983"
      },
      "source": [
        "**Reasoning**:\n",
        "Launch the Gradio interface to allow user interaction with the movie recommendation system.\n",
        "\n"
      ]
    },
    {
      "cell_type": "code",
      "metadata": {
        "colab": {
          "base_uri": "https://localhost:8080/",
          "height": 680
        },
        "id": "dc7b4aae",
        "outputId": "f9ad1b02-c897-4b34-cba3-c4b649baefa1"
      },
      "source": [
        "iface.launch()"
      ],
      "execution_count": null,
      "outputs": [
        {
          "output_type": "stream",
          "name": "stdout",
          "text": [
            "Rerunning server... use `close()` to stop if you need to change `launch()` parameters.\n",
            "----\n",
            "It looks like you are running Gradio on a hosted Jupyter notebook, which requires `share=True`. Automatically setting `share=True` (you can turn this off by setting `share=False` in `launch()` explicitly).\n",
            "\n",
            "Colab notebook detected. To show errors in colab notebook, set debug=True in launch()\n",
            "* Running on public URL: https://20d1f0d56ffb91d1f4.gradio.live\n",
            "\n",
            "This share link expires in 1 week. For free permanent hosting and GPU upgrades, run `gradio deploy` from the terminal in the working directory to deploy to Hugging Face Spaces (https://huggingface.co/spaces)\n"
          ]
        },
        {
          "output_type": "display_data",
          "data": {
            "text/plain": [
              "<IPython.core.display.HTML object>"
            ],
            "text/html": [
              "<div><iframe src=\"https://20d1f0d56ffb91d1f4.gradio.live\" width=\"100%\" height=\"500\" allow=\"autoplay; camera; microphone; clipboard-read; clipboard-write;\" frameborder=\"0\" allowfullscreen></iframe></div>"
            ]
          },
          "metadata": {}
        },
        {
          "output_type": "execute_result",
          "data": {
            "text/plain": []
          },
          "metadata": {},
          "execution_count": 42
        }
      ]
    },
    {
      "cell_type": "markdown",
      "metadata": {
        "id": "93627850"
      },
      "source": [
        "## Summary:\n",
        "\n",
        "### Data Analysis Key Findings\n",
        "\n",
        "*   Attempts to import the `google_adk` library consistently resulted in a `ModuleNotFoundError`, despite `pip install` commands indicating successful installation or that requirements were already satisfied. This issue persisted across multiple steps.\n",
        "*   Due to the persistent `ModuleNotFoundError` for `google_adk`, the original plan to define, implement, and wrap the movie recommendation logic using `google_adk.AgentTool` and `@tool` decorator could not be completed.\n",
        "*   A workaround was successfully implemented by creating a standard Python function that directly integrated the existing movie recommendation logic (querying ChromaDB and generating explanations using the Gemini model).\n",
        "*   A Gradio interface was successfully created and launched using this custom function, providing a functional web interface for users to input movie queries and receive recommendations.\n",
        "*   The launched Gradio application is accessible via a public URL.\n",
        "\n",
        "### Insights or Next Steps\n",
        "\n",
        "*   Investigate the `ModuleNotFoundError` for `google_adk` in the execution environment to understand why the installed package is not being found. This might involve checking the Python path, virtual environment settings, or potential conflicts.\n",
        "*   If the `google_adk` issue cannot be resolved in this environment, consider alternative methods for creating agent tools or focus on the current Gradio interface as a viable solution for user interaction.\n"
      ]
    }
  ]
}